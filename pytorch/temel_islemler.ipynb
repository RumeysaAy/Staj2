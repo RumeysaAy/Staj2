{
 "cells": [
  {
   "cell_type": "markdown",
   "id": "9d6c1553-73cc-4e29-8ab9-0966a74843a5",
   "metadata": {},
   "source": [
    "# Pytorch"
   ]
  },
  {
   "cell_type": "markdown",
   "id": "e72b6c6d-ffdb-4a78-a072-6464be11f1af",
   "metadata": {},
   "source": [
    "## Matrisler (Matrices)\n",
    "\n",
    "* matrisler, içerisinde değerler barındıran array'lerdir.\n",
    "* array'ler herhangi bir neural network yapısını düşünürsek ilk aşama forward propagation yani prediction işleminin gerçekleştirildiği adım. prediction işlemini gerçekleştirdikten sonra loss değerine göre backward propagation ile parametrelerimizi güncelliyoruz ve böylece öğrenme işlemini gerçekleştiriyoruz.\n",
    "* prediction matrislerin birbirleriyle çarpılıp toplanması sonucunda ortaya çıkan bir değerdir.\n",
    "* backward propagation ile güncellediğimiz parametreler matristir.\n",
    "* pytorch'da matrisler(array'ler), tensor olarak adlandırılabilir.\n",
    "* 3 boyutlu tensor"
   ]
  },
  {
   "cell_type": "code",
   "execution_count": 1,
   "id": "384e036f-c497-4842-8595-8623e8c50fa7",
   "metadata": {},
   "outputs": [],
   "source": [
    "# numpy array"
   ]
  },
  {
   "cell_type": "code",
   "execution_count": 2,
   "id": "f31903d8-b0ee-430c-805b-46f69fbfae00",
   "metadata": {
    "tags": []
   },
   "outputs": [],
   "source": [
    "import numpy as np"
   ]
  },
  {
   "cell_type": "code",
   "execution_count": 3,
   "id": "7a1942ce-3039-4879-bd77-39f768cfd26b",
   "metadata": {},
   "outputs": [],
   "source": [
    "array = [[1,2,3],[4,5,6]] # liste\n",
    "first_array = np.array(array) # 2x3 numpy array"
   ]
  },
  {
   "cell_type": "code",
   "execution_count": 4,
   "id": "5d50dcab-7bfb-44df-85d3-f4ac2ec319e1",
   "metadata": {},
   "outputs": [
    {
     "name": "stdout",
     "output_type": "stream",
     "text": [
      "Array Type: <class 'numpy.ndarray'>\n",
      "Array Shape: (2, 3)\n"
     ]
    }
   ],
   "source": [
    "print(\"Array Type: {}\".format(type(first_array))) # type\n",
    "print(\"Array Shape: {}\".format(np.shape(first_array))) # shape"
   ]
  },
  {
   "cell_type": "code",
   "execution_count": 5,
   "id": "eacf73c8-7aaf-4d33-8faa-b9fee24a4b90",
   "metadata": {
    "tags": []
   },
   "outputs": [
    {
     "name": "stdout",
     "output_type": "stream",
     "text": [
      "[[1 2 3]\n",
      " [4 5 6]]\n"
     ]
    }
   ],
   "source": [
    "print(first_array)"
   ]
  },
  {
   "cell_type": "code",
   "execution_count": 6,
   "id": "a375fc83-d4b8-4c7c-91af-c55330dfab8b",
   "metadata": {
    "tags": []
   },
   "outputs": [
    {
     "data": {
      "text/plain": [
       "(2, 3, 2)"
      ]
     },
     "execution_count": 6,
     "metadata": {},
     "output_type": "execute_result"
    }
   ],
   "source": [
    "np.array([\n",
    "           [[1,3],[1,3],[1,3]],\n",
    "           [[1,3],[1,3],[1,3]]\n",
    "]).shape # 3 boyutlu"
   ]
  },
  {
   "cell_type": "code",
   "execution_count": 7,
   "id": "2bf80cb8-8b90-489d-877d-557eb39a2f8f",
   "metadata": {},
   "outputs": [],
   "source": [
    "# pytorch array"
   ]
  },
  {
   "cell_type": "code",
   "execution_count": 8,
   "id": "2c111c7e-cfb8-4087-8bd6-d12e2144da51",
   "metadata": {
    "tags": []
   },
   "outputs": [],
   "source": [
    "import torch"
   ]
  },
  {
   "cell_type": "code",
   "execution_count": 9,
   "id": "0a654614-d935-4aff-9635-58ab78e428f1",
   "metadata": {
    "tags": []
   },
   "outputs": [
    {
     "data": {
      "text/plain": [
       "[[1, 2, 3], [4, 5, 6]]"
      ]
     },
     "execution_count": 9,
     "metadata": {},
     "output_type": "execute_result"
    }
   ],
   "source": [
    "array"
   ]
  },
  {
   "cell_type": "code",
   "execution_count": 10,
   "id": "97142293-a500-4431-b9e8-3dde95d6f7f2",
   "metadata": {
    "tags": []
   },
   "outputs": [],
   "source": [
    "tensor = torch.Tensor(array)"
   ]
  },
  {
   "cell_type": "code",
   "execution_count": 11,
   "id": "e79cb9f0-f161-446e-b25d-dbf3f4c355eb",
   "metadata": {
    "tags": []
   },
   "outputs": [
    {
     "name": "stdout",
     "output_type": "stream",
     "text": [
      "Array Type: <built-in method type of Tensor object at 0x111aeaa30>\n",
      "Array Shape: torch.Size([2, 3])\n"
     ]
    }
   ],
   "source": [
    "print(\"Array Type: {}\".format(tensor.type)) # type\n",
    "print(\"Array Shape: {}\".format(tensor.shape)) # shape"
   ]
  },
  {
   "cell_type": "code",
   "execution_count": 12,
   "id": "fae98de1-5a8d-4a1e-881c-65d082a1fc38",
   "metadata": {
    "tags": []
   },
   "outputs": [
    {
     "name": "stdout",
     "output_type": "stream",
     "text": [
      "tensor([[1., 2., 3.],\n",
      "        [4., 5., 6.]])\n"
     ]
    }
   ],
   "source": [
    "print(tensor)"
   ]
  },
  {
   "cell_type": "code",
   "execution_count": null,
   "id": "4ceefa29-f285-42e9-b923-7730e3239cc3",
   "metadata": {},
   "outputs": [],
   "source": []
  },
  {
   "cell_type": "code",
   "execution_count": 13,
   "id": "3939a092-3de3-40a8-82f0-d2c3ee58b821",
   "metadata": {
    "tags": []
   },
   "outputs": [
    {
     "name": "stdout",
     "output_type": "stream",
     "text": [
      "Numpy [[1. 1. 1.]\n",
      " [1. 1. 1.]]\n",
      "\n",
      "tensor([[1., 1., 1.],\n",
      "        [1., 1., 1.]])\n"
     ]
    }
   ],
   "source": [
    "# np.ones() = torch.ones()\n",
    "\n",
    "# numpy ones\n",
    "print(\"Numpy {}\\n\".format(np.ones((2,3))))\n",
    "\n",
    "# pytorch ones\n",
    "print(torch.ones((2,3)))"
   ]
  },
  {
   "cell_type": "code",
   "execution_count": 14,
   "id": "72a2f5e9-6447-49d0-a976-a3076ef82202",
   "metadata": {
    "tags": []
   },
   "outputs": [
    {
     "name": "stdout",
     "output_type": "stream",
     "text": [
      "Numpy [[0.57163786 0.88634858 0.1746615 ]\n",
      " [0.5555113  0.65201251 0.30745445]]\n",
      "\n",
      "tensor([[0.1055, 0.9852, 0.4983],\n",
      "        [0.7677, 0.4419, 0.0716]])\n"
     ]
    }
   ],
   "source": [
    "# np.random.rand() = torch.rand()\n",
    "\n",
    "# numpy random\n",
    "print(\"Numpy {}\\n\".format(np.random.rand(2,3)))\n",
    "\n",
    "# pytorch random\n",
    "print(torch.rand(2,3))"
   ]
  },
  {
   "cell_type": "code",
   "execution_count": null,
   "id": "ae764f2d-310f-486d-ad05-51028c612c15",
   "metadata": {},
   "outputs": [],
   "source": []
  },
  {
   "cell_type": "code",
   "execution_count": 15,
   "id": "6903cf7f-f0f5-4446-8cb3-b49f917b471e",
   "metadata": {},
   "outputs": [],
   "source": [
    "# numpy ve pytorch arasındaki geçişler"
   ]
  },
  {
   "cell_type": "code",
   "execution_count": 16,
   "id": "901b5537-3bd9-41b2-b97d-b9dfdc778742",
   "metadata": {},
   "outputs": [
    {
     "name": "stdout",
     "output_type": "stream",
     "text": [
      "<class 'numpy.ndarray'> [[0.76602766 0.65106701]\n",
      " [0.70103679 0.05119881]]\n",
      "\n"
     ]
    }
   ],
   "source": [
    "# random numpy array\n",
    "array = np.random.rand(2,2)\n",
    "print(\"{} {}\\n\".format(type(array), array)) # numpy"
   ]
  },
  {
   "cell_type": "code",
   "execution_count": 17,
   "id": "d15a67a9-f495-4197-8821-6f196022f217",
   "metadata": {},
   "outputs": [
    {
     "name": "stdout",
     "output_type": "stream",
     "text": [
      "tensor([[0.7660, 0.6511],\n",
      "        [0.7010, 0.0512]], dtype=torch.float64)\n",
      "\n"
     ]
    }
   ],
   "source": [
    "# numpy -> tensor(pytorch)\n",
    "from_numpy_to_tensor = torch.from_numpy(array)\n",
    "print(\"{}\\n\".format(from_numpy_to_tensor)) # tensor"
   ]
  },
  {
   "cell_type": "code",
   "execution_count": 18,
   "id": "38e0d27f-e0bb-4989-9ab4-35c285365dde",
   "metadata": {},
   "outputs": [
    {
     "name": "stdout",
     "output_type": "stream",
     "text": [
      "<class 'numpy.ndarray'> [[0.76602766 0.65106701]\n",
      " [0.70103679 0.05119881]]\n",
      "\n"
     ]
    }
   ],
   "source": [
    "# tensor(pytorch) -> numpy\n",
    "tensor = from_numpy_to_tensor\n",
    "from_tensor_to_numpy = tensor.numpy()\n",
    "print(\"{} {}\\n\".format(type(from_tensor_to_numpy), from_tensor_to_numpy)) # numpy"
   ]
  },
  {
   "cell_type": "code",
   "execution_count": null,
   "id": "16a8ee13-4ce9-4053-afd9-d0e37bd874ef",
   "metadata": {},
   "outputs": [],
   "source": []
  },
  {
   "cell_type": "code",
   "execution_count": null,
   "id": "e71ccef6-f80b-4836-8288-53eb3bba054c",
   "metadata": {},
   "outputs": [],
   "source": []
  },
  {
   "cell_type": "markdown",
   "id": "58b62675-648c-43de-9cb3-201283d4c546",
   "metadata": {},
   "source": [
    "## Basit Matematiksel İşlemler\n",
    "\n",
    "* a ve b bir tensor ise:\n",
    "  * yeniden boyutlandırma (reshape/resize): view()\n",
    "  * torch.add(a,b) = a + b\n",
    "  * a.sub(b) = a - b\n",
    "  * torch.mul(a,b) = a * b\n",
    "  * torch.div(a,b) = a/b\n",
    "  * a.mean()\n",
    "  * a.std()"
   ]
  },
  {
   "cell_type": "code",
   "execution_count": 19,
   "id": "6a0652d5-f87c-4aec-b6dc-d917d9211f36",
   "metadata": {},
   "outputs": [
    {
     "name": "stdout",
     "output_type": "stream",
     "text": [
      "tensor([[1., 1., 1.],\n",
      "        [1., 1., 1.],\n",
      "        [1., 1., 1.]])\n"
     ]
    }
   ],
   "source": [
    "# 3x3'lük birlerden oluşan bir tensor oluşturalım\n",
    "tensor = torch.ones(3,3)\n",
    "print(tensor)"
   ]
  },
  {
   "cell_type": "code",
   "execution_count": 20,
   "id": "d16004d4-f984-408e-a0f1-f2e0a126be9d",
   "metadata": {},
   "outputs": [
    {
     "name": "stdout",
     "output_type": "stream",
     "text": [
      "torch.Size([9]) - tensor([1., 1., 1., 1., 1., 1., 1., 1., 1.])\n"
     ]
    }
   ],
   "source": [
    "# resize\n",
    "# 3x3 tensor -> 9x1 vektör\n",
    "print(\"{} - {}\".format( tensor.view(9).shape, tensor.view(9) ))"
   ]
  },
  {
   "cell_type": "code",
   "execution_count": 21,
   "id": "eb52237f-fbfd-4dbc-9ed7-88be5b38b2ad",
   "metadata": {},
   "outputs": [
    {
     "name": "stdout",
     "output_type": "stream",
     "text": [
      "Addition:\n",
      "tensor([[2., 2., 2.],\n",
      "        [2., 2., 2.],\n",
      "        [2., 2., 2.]])\n"
     ]
    }
   ],
   "source": [
    "# toplama\n",
    "print(\"Addition:\\n{}\".format( torch.add(tensor, tensor) ))"
   ]
  },
  {
   "cell_type": "code",
   "execution_count": 22,
   "id": "ce2a00f3-16fa-424c-905b-ec65f5e36114",
   "metadata": {},
   "outputs": [
    {
     "name": "stdout",
     "output_type": "stream",
     "text": [
      "Subtraction:\n",
      "tensor([[0., 0., 0.],\n",
      "        [0., 0., 0.],\n",
      "        [0., 0., 0.]])\n"
     ]
    }
   ],
   "source": [
    "# çıkartma\n",
    "print(\"Subtraction:\\n{}\".format( tensor.sub(tensor) ))"
   ]
  },
  {
   "cell_type": "code",
   "execution_count": 23,
   "id": "af908f0b-90fd-438b-a779-8abcf29391be",
   "metadata": {},
   "outputs": [
    {
     "name": "stdout",
     "output_type": "stream",
     "text": [
      "Multiplication:\n",
      "tensor([[1., 1., 1.],\n",
      "        [1., 1., 1.],\n",
      "        [1., 1., 1.]])\n"
     ]
    }
   ],
   "source": [
    "# çarpma\n",
    "print(\"Multiplication:\\n{}\".format( torch.mul(tensor, tensor) ))"
   ]
  },
  {
   "cell_type": "code",
   "execution_count": 24,
   "id": "35c47288-8eea-4c19-ba76-dba671e4ba16",
   "metadata": {},
   "outputs": [
    {
     "name": "stdout",
     "output_type": "stream",
     "text": [
      "Division:\n",
      "tensor([[1., 1., 1.],\n",
      "        [1., 1., 1.],\n",
      "        [1., 1., 1.]])\n"
     ]
    }
   ],
   "source": [
    "# bölme\n",
    "print(\"Division:\\n{}\".format( torch.div(tensor, tensor) ))"
   ]
  },
  {
   "cell_type": "code",
   "execution_count": 25,
   "id": "90992799-e85b-4b33-bf77-5aa634aaca92",
   "metadata": {},
   "outputs": [
    {
     "name": "stdout",
     "output_type": "stream",
     "text": [
      "Mean: 3.0\n"
     ]
    }
   ],
   "source": [
    "# ortalama\n",
    "tensor = torch.Tensor([1, 2, 3, 4, 5])\n",
    "print(\"Mean: {}\".format(tensor.mean()))"
   ]
  },
  {
   "cell_type": "code",
   "execution_count": 26,
   "id": "7930755e-f88b-45ac-bfe5-f3994ada88a9",
   "metadata": {
    "tags": []
   },
   "outputs": [
    {
     "name": "stdout",
     "output_type": "stream",
     "text": [
      "std: 1.5811388492584229\n"
     ]
    }
   ],
   "source": [
    "# standart sapma\n",
    "tensor = torch.Tensor([1, 2, 3, 4, 5])\n",
    "print(\"std: {}\".format(tensor.std()))"
   ]
  },
  {
   "cell_type": "code",
   "execution_count": null,
   "id": "d1b900bf-b15a-44b6-980a-0bfdec51ddd1",
   "metadata": {},
   "outputs": [],
   "source": []
  },
  {
   "cell_type": "markdown",
   "id": "32eec95d-189b-4fd2-afa0-833aae2fc1fe",
   "metadata": {},
   "source": [
    "## Variables\n",
    "\n",
    "* Variable'lar gradient'leri içerisinde depolayan, biriktiren yapılardır.\n",
    "* neural network'te backward propagation'da gradient'ler hesaplanıyor\n",
    "* bu gradient'leri hesapladığımızda bunları işleyebilmek için Variable veri tipini kullanacağız\n",
    "* Variable aslında array'dir. tensor'de bir array'di.\n",
    "* Variable ile tensor arasındaki fark Variable, türev aldığımızda yani gradient hesapladığımızda bu gradient'i içerisinde barındıran toplayan, biriktiren yapılardır."
   ]
  },
  {
   "cell_type": "markdown",
   "id": "644c9c30-e17b-44f9-817e-5c16f1430dfb",
   "metadata": {},
   "source": [
    "#### backward propagation yani gradient\n",
    "\n",
    "weight'ler ve bias'lar var. output layer'in sonucunda bir tane cost değeri ortaya çıkar ve cost değerlerinin toplanması sonucunda loss değeri elde edilir. weight'leri güncelleyebilmek için gradientleri hesaplarız. gradientler, loss'un weight'lere göre türevidir. pytorch'ta bu işlemi yapabilmek için bu değerlerin Variable isimli veri tipleri içerisinde depolanması gerekir.\n",
    "\n",
    "Variable, gradient'leri hesaplamamıza yardım eder içerisinde gradient'leri biriktirir."
   ]
  },
  {
   "cell_type": "markdown",
   "id": "b848c911-6dcc-49db-8336-b4e8947a93fd",
   "metadata": {},
   "source": [
    "örneğin:\n",
    "* y = x^2\n",
    "* x = [2, 4]\n",
    "* x sadece 2 veya 4 değerini alabiliyor\n",
    "* y = [4, 16]\n",
    "* o = (1/2)sum(y) = (1/2)*sum(x^2)\n",
    "* o'nun x'e göre türevini (gradient) alacağız\n",
    "* x -> y = x^2 -> o = (1/2)*sum(x^2)\n",
    "* do/dx = (do/dy)*(dy/dx)\n",
    "* o'nun x'e göre türevi x'dir. x değerlerini yerine koyduğumuzda x=2 ve x=4 gradient değerlerini elde ederiz"
   ]
  },
  {
   "cell_type": "code",
   "execution_count": 30,
   "id": "ed4a159e-e88c-49f9-85cb-2ac7b247beb0",
   "metadata": {
    "tags": []
   },
   "outputs": [
    {
     "data": {
      "text/plain": [
       "tensor([1., 1., 1.])"
      ]
     },
     "execution_count": 30,
     "metadata": {},
     "output_type": "execute_result"
    }
   ],
   "source": [
    "torch.ones(3)"
   ]
  },
  {
   "cell_type": "code",
   "execution_count": 31,
   "id": "4383f124-6f11-402e-b228-111920d2dac8",
   "metadata": {
    "tags": []
   },
   "outputs": [
    {
     "data": {
      "text/plain": [
       "tensor([1., 1., 1.], requires_grad=True)"
      ]
     },
     "execution_count": 31,
     "metadata": {},
     "output_type": "execute_result"
    }
   ],
   "source": [
    "from torch.autograd import Variable\n",
    "\n",
    "# gradient hesaplanacağı için requires_grad = True\n",
    "var = Variable(torch.ones(3), requires_grad = True)\n",
    "var # Variable'ın tensor'den farkı türev almamıza yardımcı olur ve gradient'leri depolar"
   ]
  },
  {
   "cell_type": "code",
   "execution_count": null,
   "id": "3f938a55-1d42-453e-8fe6-10f3def56e5b",
   "metadata": {},
   "outputs": [],
   "source": []
  },
  {
   "cell_type": "code",
   "execution_count": 32,
   "id": "914804ef-dae1-45b6-b985-fb43a6da9323",
   "metadata": {
    "tags": []
   },
   "outputs": [
    {
     "data": {
      "text/plain": [
       "tensor([2., 4.])"
      ]
     },
     "execution_count": 32,
     "metadata": {},
     "output_type": "execute_result"
    }
   ],
   "source": [
    "array = [2, 4]\n",
    "tensor = torch.Tensor(array) # tensor\n",
    "tensor"
   ]
  },
  {
   "cell_type": "code",
   "execution_count": 33,
   "id": "14171fb0-0aaa-488b-9f2f-d4edb7ff1124",
   "metadata": {
    "tags": []
   },
   "outputs": [
    {
     "data": {
      "text/plain": [
       "tensor([2., 4.], requires_grad=True)"
      ]
     },
     "execution_count": 33,
     "metadata": {},
     "output_type": "execute_result"
    }
   ],
   "source": [
    "x = Variable(tensor, requires_grad = True) # gradient'leri bulmak için x'i Variable yaptım\n",
    "x # 2 ve 4 değerlerini içeren bir Variable"
   ]
  },
  {
   "cell_type": "code",
   "execution_count": 34,
   "id": "53add3f7-73e8-44b1-a0d4-95655160b4be",
   "metadata": {
    "tags": []
   },
   "outputs": [
    {
     "name": "stdout",
     "output_type": "stream",
     "text": [
      "y = tensor([ 4., 16.], grad_fn=<PowBackward0>)\n"
     ]
    }
   ],
   "source": [
    "# y = x^2\n",
    "y = x**2 # 2 ve 4'ü yerine koyduğumuzda sonuç 4 ve 16 olur\n",
    "print(\"y =\", y)"
   ]
  },
  {
   "cell_type": "code",
   "execution_count": 35,
   "id": "97d99cc3-94a0-4856-ada1-9a6e83501bd6",
   "metadata": {
    "tags": []
   },
   "outputs": [
    {
     "name": "stdout",
     "output_type": "stream",
     "text": [
      "o = tensor(10., grad_fn=<MulBackward0>)\n"
     ]
    }
   ],
   "source": [
    "# o = (1/2)sum(y) = (1/2)*sum(x^2)\n",
    "o = (1/2)*sum(y) # (1/2)*(4+16) = 10\n",
    "print(\"o =\", o)"
   ]
  },
  {
   "cell_type": "code",
   "execution_count": 36,
   "id": "fb4fed6c-d7c7-4a4b-a5dc-4f3e47382f48",
   "metadata": {
    "tags": []
   },
   "outputs": [],
   "source": [
    "# backward\n",
    "# türevler, gradientler hesaplanır\n",
    "o.backward() # o'nun x'e göre türevi (ilk eleman x )"
   ]
  },
  {
   "cell_type": "code",
   "execution_count": 37,
   "id": "de6705f9-eee9-4e59-8bfe-2dc5af95841e",
   "metadata": {
    "tags": []
   },
   "outputs": [
    {
     "name": "stdout",
     "output_type": "stream",
     "text": [
      "gradients: tensor([2., 4.])\n"
     ]
    }
   ],
   "source": [
    "print(\"gradients:\", x.grad) # türev x olarak hesaplanmıştı. x yerine 2 ve 4 değerlerini koyarsak sonuç 2 ve 4 olur"
   ]
  },
  {
   "cell_type": "code",
   "execution_count": null,
   "id": "9832a748-69a6-46b3-a2c7-64549e4ae0cd",
   "metadata": {},
   "outputs": [],
   "source": []
  },
  {
   "cell_type": "code",
   "execution_count": null,
   "id": "3de157e5-1fea-4ff0-8463-53dee4601830",
   "metadata": {},
   "outputs": [],
   "source": [
    "# türev hesaplayacağımız için variable veri tipini kullanacağız"
   ]
  },
  {
   "cell_type": "code",
   "execution_count": null,
   "id": "9f466ecc-8a5b-40d3-b7a1-dbc2edca2c4c",
   "metadata": {},
   "outputs": [],
   "source": []
  },
  {
   "cell_type": "code",
   "execution_count": null,
   "id": "fd8ec817-a96b-48cc-8ebb-b838dc678f94",
   "metadata": {},
   "outputs": [],
   "source": []
  }
 ],
 "metadata": {
  "kernelspec": {
   "display_name": "Python 3 (ipykernel)",
   "language": "python",
   "name": "python3"
  },
  "language_info": {
   "codemirror_mode": {
    "name": "ipython",
    "version": 3
   },
   "file_extension": ".py",
   "mimetype": "text/x-python",
   "name": "python",
   "nbconvert_exporter": "python",
   "pygments_lexer": "ipython3",
   "version": "3.11.4"
  }
 },
 "nbformat": 4,
 "nbformat_minor": 5
}
