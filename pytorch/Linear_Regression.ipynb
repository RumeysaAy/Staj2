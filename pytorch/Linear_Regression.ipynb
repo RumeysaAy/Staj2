{
 "cells": [
  {
   "cell_type": "markdown",
   "id": "3491837b-f248-4496-8c40-2890446acc99",
   "metadata": {},
   "source": [
    "# Linear Regression (Doğrusal Regresyon)"
   ]
  },
  {
   "cell_type": "markdown",
   "id": "278fbf21-60d1-4ac5-9f1a-ae0228b60abd",
   "metadata": {},
   "source": [
    "Bir araba şirketinde, araba fiyatları ve araçların satış miktarları gibi iki parametremiz olsun. Genellikle, araç fiyatı arttıkça satış miktarının azaldığını gözlemliyoruz.\n",
    "\n",
    "Amacımız, bu veri setine en uygun regresyon çizgisini bulmaktır. \n",
    "\n",
    "Örneğin, bu yıl araba fiyatının 5 birim olduğunu varsayalım. Bu durumda kaç araba satılacağını tahmin etmek için bu regresyon çizgisi kullanılır."
   ]
  },
  {
   "cell_type": "code",
   "execution_count": 1,
   "id": "0dc0416c-53b7-40e2-a04a-ea423002f2c9",
   "metadata": {
    "tags": []
   },
   "outputs": [],
   "source": [
    "import numpy as np\n",
    "import pandas as pd\n",
    "import matplotlib.pyplot as plt\n",
    "\n",
    "import torch\n",
    "from torch.autograd import Variable"
   ]
  },
  {
   "cell_type": "code",
   "execution_count": 2,
   "id": "6786fed2-2751-439a-997e-ecb2ee9d7341",
   "metadata": {},
   "outputs": [],
   "source": [
    "# Araç Fiyatları"
   ]
  },
  {
   "cell_type": "code",
   "execution_count": 3,
   "id": "933bdfd5-4429-49a6-b392-83a889c6c779",
   "metadata": {
    "tags": []
   },
   "outputs": [
    {
     "data": {
      "text/plain": [
       "list"
      ]
     },
     "execution_count": 3,
     "metadata": {},
     "output_type": "execute_result"
    }
   ],
   "source": [
    "car_prices_array = [3,4,5,6,7,8,9] # list\n",
    "type(car_prices_array)"
   ]
  },
  {
   "cell_type": "code",
   "execution_count": 4,
   "id": "ed866b25-2349-4355-b875-1553a4c4b33f",
   "metadata": {},
   "outputs": [
    {
     "data": {
      "text/plain": [
       "numpy.ndarray"
      ]
     },
     "execution_count": 4,
     "metadata": {},
     "output_type": "execute_result"
    }
   ],
   "source": [
    "car_price_np = np.array(car_prices_array, dtype=np.float32) # float numpy array\n",
    "type(car_price_np) # araç fiyatları"
   ]
  },
  {
   "cell_type": "code",
   "execution_count": 5,
   "id": "4553e0e3-3a9e-4e10-a8a8-36cd29cbdc43",
   "metadata": {},
   "outputs": [
    {
     "data": {
      "text/plain": [
       "(7,)"
      ]
     },
     "execution_count": 5,
     "metadata": {},
     "output_type": "execute_result"
    }
   ],
   "source": [
    "car_price_np.shape  # (7,)"
   ]
  },
  {
   "cell_type": "code",
   "execution_count": 6,
   "id": "4e478e97-5295-4215-b878-ea890c75040e",
   "metadata": {},
   "outputs": [
    {
     "data": {
      "text/plain": [
       "array([[3.],\n",
       "       [4.],\n",
       "       [5.],\n",
       "       [6.],\n",
       "       [7.],\n",
       "       [8.],\n",
       "       [9.]], dtype=float32)"
      ]
     },
     "execution_count": 6,
     "metadata": {},
     "output_type": "execute_result"
    }
   ],
   "source": [
    "car_price_np = car_price_np.reshape(-1,1)\n",
    "# -1: satırları değiştirme neyse o kalsın, sütun sayısını 1 yap\n",
    "car_price_np"
   ]
  },
  {
   "cell_type": "code",
   "execution_count": 7,
   "id": "25bf9cea",
   "metadata": {},
   "outputs": [
    {
     "data": {
      "text/plain": [
       "(7, 1)"
      ]
     },
     "execution_count": 7,
     "metadata": {},
     "output_type": "execute_result"
    }
   ],
   "source": [
    "car_price_np.shape  # tensor'e dönüştürmek için (7,1) olmalı "
   ]
  },
  {
   "cell_type": "code",
   "execution_count": 8,
   "id": "a9a14656-a606-4fe0-97d9-8123d638a341",
   "metadata": {},
   "outputs": [
    {
     "data": {
      "text/plain": [
       "tensor([[3.],\n",
       "        [4.],\n",
       "        [5.],\n",
       "        [6.],\n",
       "        [7.],\n",
       "        [8.],\n",
       "        [9.]])"
      ]
     },
     "execution_count": 8,
     "metadata": {},
     "output_type": "execute_result"
    }
   ],
   "source": [
    "# Variable(numpy -> tensor)\n",
    "car_price_tensor = Variable(torch.from_numpy(car_price_np))\n",
    "car_price_tensor # Variable"
   ]
  },
  {
   "cell_type": "code",
   "execution_count": 9,
   "id": "28c3dfc3-a20a-49f0-9e0f-ef9d0cd5b937",
   "metadata": {
    "tags": []
   },
   "outputs": [],
   "source": [
    "# Araba Satışları"
   ]
  },
  {
   "cell_type": "code",
   "execution_count": 10,
   "id": "70b4fe7f-b586-479d-9854-a7615a81b29d",
   "metadata": {
    "tags": []
   },
   "outputs": [],
   "source": [
    "number_of_car_sell_array = [7.5, 7, 6.5, 6.0, 5.5, 5.0, 4.5]\n",
    "# list"
   ]
  },
  {
   "cell_type": "code",
   "execution_count": 11,
   "id": "b3aac61a-571d-4ce7-9f3e-8111c0738388",
   "metadata": {
    "tags": []
   },
   "outputs": [],
   "source": [
    "number_of_car_sell_np = np.array(number_of_car_sell_array, dtype=np.float32)\n",
    "# float numpy array"
   ]
  },
  {
   "cell_type": "code",
   "execution_count": 12,
   "id": "6f21eef2-ab2c-451d-9012-4529c5fb6c8c",
   "metadata": {
    "tags": []
   },
   "outputs": [
    {
     "data": {
      "text/plain": [
       "array([7.5, 7. , 6.5, 6. , 5.5, 5. , 4.5], dtype=float32)"
      ]
     },
     "execution_count": 12,
     "metadata": {},
     "output_type": "execute_result"
    }
   ],
   "source": [
    "number_of_car_sell_np"
   ]
  },
  {
   "cell_type": "code",
   "execution_count": 13,
   "id": "1e3790b0-76fe-472b-aed2-d2bad6df0a21",
   "metadata": {
    "tags": []
   },
   "outputs": [
    {
     "data": {
      "text/plain": [
       "(7,)"
      ]
     },
     "execution_count": 13,
     "metadata": {},
     "output_type": "execute_result"
    }
   ],
   "source": [
    "number_of_car_sell_np.shape"
   ]
  },
  {
   "cell_type": "code",
   "execution_count": 14,
   "id": "7937f26e-6c46-4244-a6f8-85ba73b13e3b",
   "metadata": {
    "tags": []
   },
   "outputs": [
    {
     "data": {
      "text/plain": [
       "(7, 1)"
      ]
     },
     "execution_count": 14,
     "metadata": {},
     "output_type": "execute_result"
    }
   ],
   "source": [
    "number_of_car_sell_np = number_of_car_sell_np.reshape(-1,1)\n",
    "number_of_car_sell_np.shape"
   ]
  },
  {
   "cell_type": "code",
   "execution_count": 15,
   "id": "d8d25a5a-5b0d-425a-a926-652e793c1cd3",
   "metadata": {
    "tags": []
   },
   "outputs": [
    {
     "data": {
      "text/plain": [
       "tensor([[7.5000],\n",
       "        [7.0000],\n",
       "        [6.5000],\n",
       "        [6.0000],\n",
       "        [5.5000],\n",
       "        [5.0000],\n",
       "        [4.5000]])"
      ]
     },
     "execution_count": 15,
     "metadata": {},
     "output_type": "execute_result"
    }
   ],
   "source": [
    "# Variable(numpy -> tensor)\n",
    "number_of_car_sell_tensor = Variable(torch.from_numpy(number_of_car_sell_np))\n",
    "number_of_car_sell_tensor"
   ]
  },
  {
   "cell_type": "code",
   "execution_count": 16,
   "id": "7155f04f-f197-48ca-8696-fa5c23b33a4f",
   "metadata": {
    "tags": []
   },
   "outputs": [
    {
     "data": {
      "image/png": "[encoded data removed]",
      "text/plain": [
       "<Figure size 640x480 with 1 Axes>"
      ]
     },
     "metadata": {},
     "output_type": "display_data"
    }
   ],
   "source": [
    "# görselleştirelim\n",
    "plt.figure()\n",
    "plt.scatter(car_prices_array, number_of_car_sell_array)\n",
    "plt.xlabel(\"Araba Fiyatları\")\n",
    "plt.ylabel(\"Satılan Araba Sayısı\")\n",
    "plt.title(\"Araba Fiyatları VS Satılan Araba Sayısı\")\n",
    "plt.show()"
   ]
  },
  {
   "cell_type": "markdown",
   "id": "198fae3e-673e-419e-b1cb-f1f69691450f",
   "metadata": {},
   "source": [
    "Fiyatlar ile araç satışları arasındaki ilişki incelenmiş ve araç fiyatlarının arttıkça satışların azaldığı gözlenmiştir."
   ]
  },
  {
   "cell_type": "markdown",
   "id": "a5c196e6-5548-4a5d-8b7f-125ad54ca718",
   "metadata": {},
   "source": [
    "## Lineer Regresyon Modeli Eğitimi (Eğitim)\n",
    "\n",
    "1. İlk adımda, bir lineer regresyon sınıfı oluşturulur.\n",
    "2. Oluşturulan bu sınıf kullanılarak bir model tanımlanır.\n",
    "3. Lineer regresyonda parametreleri güncelleyebilmek için hata (error) değerlerine ihtiyaç vardır. Bu hatalar, ortalama kare hatası (mean squared error) yöntemi kullanılarak hesaplanır.\n",
    "4. Hesaplanan hatalar kullanılarak, parametreler optimize edilir ve eğitim (training) işlemi gerçekleştirilir. Bu aşamada optimizasyon yöntemi olarak Stokastik Gradyan İniş (Stochastic Gradient Descent - SGD) kullanılır.\n",
    "5. Geriye Yayılım (Backpropagation) ile eğitim işleminin ilk aşaması tamamlanır.\n",
    "6. En uygun regresyon çizgisi ve parametreler bulunur.\n",
    "7. Tahmin (prediction) işlemi gerçekleştirilir."
   ]
  },
  {
   "cell_type": "code",
   "execution_count": null,
   "id": "e18760ee-bd3a-4ef2-a6a6-f921a6c3e617",
   "metadata": {},
   "outputs": [],
   "source": []
  },
  {
   "cell_type": "markdown",
   "id": "1f81205b-5df9-4a13-a24a-4a965250fc97",
   "metadata": {},
   "source": [
    "1. Regresyon Sınıfı\n",
    "    * y = W * x + b (x: input, y: output, W: weight, b: bias)\n",
    "    * x ve y değerleri skaler değerlerdir yani boyutu 1'dir.\n",
    "    * bias çizginin y ekseni ile kesiştiği yer\n",
    "    * weight çizginin eğimi\n",
    "2. Regresyon sınıfını kullanarak bir tane model yani nesne oluşturacağız\n",
    "    * model = LR()\n",
    "3. MSE\n",
    "4. SGD ile optimizasyon işlemi gerçekleştirilir\n",
    "    * SGD 2 tane parametre alır. learning rate ve model parametreleri\n",
    "    * lineer regresyon modelinin parametreleri w ile b sgd algoritmamızın içerisinde güncellenir.\n",
    "5. backpropagation\n",
    "    * weight ile bias güncellenecek\n",
    "6. prediction"
   ]
  },
  {
   "cell_type": "code",
   "execution_count": null,
   "id": "95cd4ae8-8725-4173-9123-25950e7d2d7a",
   "metadata": {},
   "outputs": [],
   "source": []
  },
  {
   "cell_type": "markdown",
   "id": "5db4da90-0fad-4877-bb38-3b0c1ac94c19",
   "metadata": {},
   "source": [
    "1. iterasyon:\n",
    "* w ve b'ye ilk değerler atanır: w=0, b=6 olsun\n",
    "* denklem: y = 0 * x + 6 -> y = 6 olur. lineer regresyon çizgisi oluşturuldu\n",
    "* result = model(car price) : çizgiye göre tahmin yapılır.\n",
    "* result = y = 0 * (car price(x)) + 6 = 6 : tahmini değer 6'dır.\n",
    "* loss = MSE(6, y_real) : gerçek noktalarla çizgi arasındaki hata bulunur\n",
    "* loss.backward() : loss değerinin weight'e göre türevi bulunur ve gradient'ler bulunur\n",
    "* w =: w - (learning rate)*(gradient) w ile bias güncellenir.\n",
    "* optimizer içerisinde ilgili algoritmanın parametrelerini (weight, bias...) tutar.\n",
    "* optimizer.step() : güncelleme işlemi gerçekleştirilir."
   ]
  },
  {
   "cell_type": "code",
   "execution_count": null,
   "id": "1dafd294-0060-445a-99ac-3735a74449c5",
   "metadata": {},
   "outputs": [],
   "source": []
  },
  {
   "cell_type": "markdown",
   "id": "7d7c505b-a480-4ae7-9e87-1a86e03bf092",
   "metadata": {},
   "source": [
    "* w ile b iterasyon sayısı kadar güncellenir.\n",
    "* bütün iterasyonlar tamamlandığında optimum çizgi elde edilir."
   ]
  },
  {
   "cell_type": "code",
   "execution_count": null,
   "id": "92e73e80-35fa-4b36-ad6b-d7b774be46bf",
   "metadata": {},
   "outputs": [],
   "source": []
  },
  {
   "cell_type": "markdown",
   "id": "928f3f4b-d141-48ab-adc9-96f98d2bb11f",
   "metadata": {},
   "source": [
    "#### Pytorch ile Lineer Regresyon"
   ]
  },
  {
   "cell_type": "code",
   "execution_count": 17,
   "id": "c5269c0c-0f1f-46d2-9d80-376a08830d97",
   "metadata": {},
   "outputs": [],
   "source": [
    "# kütüphaneler\n",
    "import torch\n",
    "from torch.autograd import Variable\n",
    "import torch.nn as nn\n",
    "\n",
    "# uyarıları kapat\n",
    "import warnings\n",
    "warnings.filterwarnings(\"ignore\")"
   ]
  },
  {
   "cell_type": "code",
   "execution_count": 18,
   "id": "ef5651fa-7b27-45f2-9f82-fe71db77fe6a",
   "metadata": {},
   "outputs": [],
   "source": [
    "# sınıfı oluştur\n",
    "class LinearRegression(nn.Module): # nn.Module içerisinde bulunan nesneleri kullanabiliriz (kalıtım)\n",
    "    \n",
    "    # Linear Regression sınıfının input'ları input_size ve output_size\n",
    "    def __init__(self, input_size, output_size): # constructor(yapıcı)\n",
    "        \n",
    "        # nn.Module içerisinde bulunan fonksiyonları kullanabilmek için nn.Module'ü inherit edilmeli\n",
    "        # miras alınmalı bunu gerçekleştirebilmek için nn.Module'ün __init__() fonksiyonunu çağırır\n",
    "        # LinearRegression sınıfını çağırdım Pytorch'un nn.Module'ü inherit edildi\n",
    "        super(LinearRegression, self).__init__()\n",
    "        \n",
    "        # lineer fonksiyonu tanımlanır, oluşturulur\n",
    "        self.linear = nn.Linear(input_dim, output_dim)\n",
    "        \n",
    "    # lineer fonksiyonunun input(x) alır ve output(y) üretir\n",
    "    def forward(self, x):\n",
    "        return self.linear(x) # y"
   ]
  },
  {
   "cell_type": "code",
   "execution_count": 19,
   "id": "fb2e1264-a89b-4faa-b8b9-4c863785f3ab",
   "metadata": {},
   "outputs": [],
   "source": [
    "# Linear Regression sınıfını kullanarak model oluşturacağız\n",
    "# Linear Regression sınıfının input'ları input_size ve output_size\n",
    "input_dim = 1 # input_size\n",
    "output_dim = 1 # output_size\n",
    "# model\n",
    "model = LinearRegression(input_dim, output_dim)"
   ]
  },
  {
   "cell_type": "code",
   "execution_count": 20,
   "id": "f10eb62c-2d50-48ea-95b6-6fd31a7313b4",
   "metadata": {},
   "outputs": [],
   "source": [
    "# MSE\n",
    "mse = nn.MSELoss()"
   ]
  },
  {
   "cell_type": "code",
   "execution_count": 21,
   "id": "7c3ffe7f-9d79-4bad-9110-4f941acd93cd",
   "metadata": {},
   "outputs": [],
   "source": [
    "# Optimizasyon (hatayı en aza indiren parametreler bulunur)\n",
    "# Optimizer'in amacı parametreleri güncelleyerek öğrenmeyi sağlamaktır.\n",
    "learning_rate = 0.02\n",
    "# model = y = W * x + b\n",
    "optimizer = torch.optim.SGD(model.parameters(), lr=learning_rate)"
   ]
  },
  {
   "cell_type": "code",
   "execution_count": 22,
   "id": "bbd73d79-605d-4793-b86c-a38488c9e65f",
   "metadata": {},
   "outputs": [
    {
     "name": "stdout",
     "output_type": "stream",
     "text": [
      "Epoch 0, loss 21.560224533081055\n",
      "Epoch 50, loss 4.8730034828186035\n",
      "Epoch 100, loss 3.2928929328918457\n",
      "Epoch 150, loss 2.2251460552215576\n",
      "Epoch 200, loss 1.503624677658081\n",
      "Epoch 250, loss 1.0160623788833618\n",
      "Epoch 300, loss 0.6865964531898499\n",
      "Epoch 350, loss 0.4639618694782257\n",
      "Epoch 400, loss 0.3135182857513428\n",
      "Epoch 450, loss 0.2118576020002365\n",
      "Epoch 500, loss 0.14316080510616302\n",
      "Epoch 550, loss 0.0967397466301918\n",
      "Epoch 600, loss 0.06537076830863953\n",
      "Epoch 650, loss 0.044173892587423325\n",
      "Epoch 700, loss 0.029850417748093605\n",
      "Epoch 750, loss 0.02017122693359852\n",
      "Epoch 800, loss 0.01363082230091095\n",
      "Epoch 850, loss 0.009210852906107903\n",
      "Epoch 900, loss 0.006224127020686865\n",
      "Epoch 950, loss 0.0042059640400111675\n",
      "Epoch 1000, loss 0.002842073794454336\n"
     ]
    }
   ],
   "source": [
    "# model eğitilir: (train)\n",
    "loss_list = [] # MSE sonucunda oluşan loss değerleri\n",
    "iteration_number = 1001\n",
    "\n",
    "for iteration in range(iteration_number):\n",
    "    # optimizer'ın parametrelerini (w ve b) sıfıra eşitliyoruz yani ilk değerlerini atadık\n",
    "    optimizer.zero_grad()\n",
    "    \n",
    "    # Forward \n",
    "    # linear regresyon modeline araç fiyatlarını yolluyoruz (x değerleri)\n",
    "    # sonuç olarak tahmini y değerleri oluşur\n",
    "    results = model(car_price_tensor)\n",
    "    \n",
    "    # Loss hesaplanır\n",
    "    # input olarak gerçek y değerleri ve tahmini y değerleri (results) verilir, loss(hata) hesaplanır\n",
    "    loss = mse(results, number_of_car_sell_tensor)\n",
    "    \n",
    "    # backward propagation\n",
    "    # loss'un parametrelere (w ve b) göre türevi alınır.\n",
    "    loss.backward() # gradient'ler hesaplanır\n",
    "    \n",
    "    # parametreler, gradient'lere göre güncellenir.\n",
    "    optimizer.step() # training işlemi yani iterasyonun bir adımı tamamlanır.\n",
    "    \n",
    "    # loss değerini depolayalım\n",
    "    loss_list.append(loss.data)\n",
    "    \n",
    "    # her 50 iterasyonda bir loss değerlerini yazdıralım\n",
    "    if(iteration % 50 == 0):\n",
    "        print(\"Epoch {}, loss {}\".format(iteration, loss.data))"
   ]
  },
  {
   "cell_type": "code",
   "execution_count": 23,
   "id": "17695ba9-8dde-4fe0-bcbd-e8eda1535394",
   "metadata": {
    "tags": []
   },
   "outputs": [
    {
     "data": {
      "image/png": "[encoded data removed]",
      "text/plain": [
       "<Figure size 640x480 with 1 Axes>"
      ]
     },
     "metadata": {},
     "output_type": "display_data"
    }
   ],
   "source": [
    "# loss değerinin azalıp azalmadığını gözlemleyelim\n",
    "# loss_list'in içerisindeki loss değerlerini görselleştirelim\n",
    "plt.plot(range(iteration_number), loss_list)\n",
    "plt.xlabel(\"İterasyon Sayısı\")\n",
    "plt.ylabel(\"Loss\")\n",
    "plt.show()"
   ]
  },
  {
   "cell_type": "markdown",
   "id": "81b2262f-94b2-45d8-ab20-1532613f17ae",
   "metadata": {},
   "source": [
    "loss'un giderek azaldığı görülür."
   ]
  },
  {
   "cell_type": "code",
   "execution_count": null,
   "id": "5ed906ad-5d08-47a6-bef9-302be779b7ff",
   "metadata": {},
   "outputs": [],
   "source": [
    "# verilere uygun optimum regresyon çizgisini elde ettim.\n",
    "# elde ettiğimiz parametreleri kullanarak tahminler (prediction) gerçekleştirilecek"
   ]
  },
  {
   "cell_type": "markdown",
   "id": "fdc38dc7-056c-4c1d-b00e-75c904cfb3df",
   "metadata": {},
   "source": [
    "## Linear Regression Modeli Testi (Testing)"
   ]
  },
  {
   "cell_type": "code",
   "execution_count": null,
   "id": "558d19b2-097a-4636-8692-0e4c9ec9aec7",
   "metadata": {},
   "outputs": [],
   "source": [
    "# oluşturulan modele araç fiyatları input olarak verilir ve tahmini değerler elde edilir\n",
    "# gerçek değere ve tahmin edilen değerlere bakacağız"
   ]
  },
  {
   "cell_type": "code",
   "execution_count": 24,
   "id": "f2bf4864-609d-4ea9-a9bb-dc232de31327",
   "metadata": {
    "tags": []
   },
   "outputs": [],
   "source": [
    "# car_price_tensor araba fiyatlarına göre tahmin yapıldı.\n",
    "predicted = model(car_price_tensor).data.numpy() # numpy'a çevrildi"
   ]
  },
  {
   "cell_type": "code",
   "execution_count": 25,
   "id": "6f786104-7330-44ea-b41e-9cf14e068417",
   "metadata": {
    "tags": []
   },
   "outputs": [
    {
     "data": {
      "image/png": "[encoded data removed]",
      "text/plain": [
       "<Figure size 640x480 with 1 Axes>"
      ]
     },
     "metadata": {},
     "output_type": "display_data"
    }
   ],
   "source": [
    "# orijinal değerler\n",
    "plt.scatter(car_prices_array, number_of_car_sell_array, label = \"orijinal veri\", color = \"red\")\n",
    "# tahmini değerler\n",
    "plt.scatter(car_prices_array, predicted, label = \"tahmini değerler\", color=\"blue\")\n",
    "\n",
    "plt.legend()\n",
    "plt.xlabel(\"Araba Fiyatları\")\n",
    "plt.ylabel(\"Satılan Araba Sayısı\")\n",
    "plt.title(\"Orijinal vs Tahmini değerler\")\n",
    "plt.show()"
   ]
  },
  {
   "cell_type": "code",
   "execution_count": null,
   "id": "5c83b72d-6de7-499a-a962-46154cdf4807",
   "metadata": {},
   "outputs": [],
   "source": []
  }
 ],
 "metadata": {
  "kernelspec": {
   "display_name": "Python 3 (ipykernel)",
   "language": "python",
   "name": "python3"
  },
  "language_info": {
   "codemirror_mode": {
    "name": "ipython",
    "version": 3
   },
   "file_extension": ".py",
   "mimetype": "text/x-python",
   "name": "python",
   "nbconvert_exporter": "python",
   "pygments_lexer": "ipython3",
   "version": "3.11.4"
  }
 },
 "nbformat": 4,
 "nbformat_minor": 5
}
