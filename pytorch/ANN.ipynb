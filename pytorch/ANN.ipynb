{
 "cells": [
  {
   "cell_type": "markdown",
   "id": "0ea6860b-d562-4b54-a836-4fce49839b87",
   "metadata": {},
   "source": [
    "# Yapay Sinir Ağları (Artificial Neural Network - ANN)\n",
    "\n",
    "* Lojistik regresyon, sınıflandırma problemleri için etkili bir algoritmadır. Ancak, problemin karmaşıklığı (non-linearity) arttığında yetersiz kalabilir ve başarı düzeyi sınırlı olabilir. Bu tür durumlar için modelin karmaşıklığını artırmak gerekebilir ve bunu yapmanın bir yolu, gizli katmanlar (hidden layers) eklemektir.\n",
    "* Lojistik regresyona gizli katmanlar eklediğimizde, yapay sinir ağı (neural network) algoritmasını elde ederiz.\n",
    "* Bu tür bir yapay sinir ağı algoritmasına \"Yapay Sinir Ağı (Artificial Neural Network - ANN)\" denir."
   ]
  },
  {
   "cell_type": "code",
   "execution_count": 1,
   "id": "a22a728a-2b75-439d-a9be-201a15e44583",
   "metadata": {},
   "outputs": [],
   "source": [
    "# kütüphaneler"
   ]
  },
  {
   "cell_type": "code",
   "execution_count": 2,
   "id": "c3ec5de6-9200-4286-a17e-74967df95407",
   "metadata": {
    "tags": []
   },
   "outputs": [],
   "source": [
    "import torch # pytorch\n",
    "import torch.nn as nn # neaural network katmanlarını kullanabilmek için\n",
    "from torch.autograd import Variable # gradient, türev hesabı için\n",
    "from torch.utils.data import DataLoader, TensorDataset\n",
    "\n",
    "import pandas as pd # veriyi import etmek için\n",
    "import numpy as np\n",
    "\n",
    "from sklearn.model_selection import train_test_split # veriyi train ve test olarak ayıracağım\n",
    "\n",
    "import matplotlib.pyplot as plt"
   ]
  },
  {
   "cell_type": "code",
   "execution_count": null,
   "id": "91f01e35-4bbb-4a7a-86ca-932b1a61bc2a",
   "metadata": {},
   "outputs": [],
   "source": []
  },
  {
   "cell_type": "markdown",
   "id": "953d3ab1-9b72-49b9-a50a-e1eff7dc7939",
   "metadata": {},
   "source": [
    "## Problem Tanımı ve Veri Seti Hazırlama (Preprocess)"
   ]
  },
  {
   "cell_type": "markdown",
   "id": "8bcc7b73-08cf-4eee-b0bb-c82563f5745d",
   "metadata": {},
   "source": [
    "* MNIST veri seti, 28x28 piksel boyutunda siyah-beyaz (gray-scale) resimler içerir. Toplam piksel sayısı 28x28 = 784'tür.\n",
    "* Bu veri setinde yer alan resimler el yazısıyla yazılmış rakam görsellerini içerir (0-9 arası rakamlar).\n",
    "* Dolayısıyla, bu veri setinde 10 farklı sınıf bulunur, her sınıf bir rakamı temsil eder (0-9).\n",
    "* Renk tonları, siyahtan (0) beyaza (255) kadar değişir, arada farklı gri tonları bulunur.\n",
    "* Toplamda 785 sütun bulunur. İlk sütun, resmin sınıfını belirten etiketi (label) içerir. Diğer sütunlarda ise resmin her pikselinin değeri bulunur."
   ]
  },
  {
   "cell_type": "code",
   "execution_count": 3,
   "id": "51b8f55d-25a8-4c93-9620-f2106a1c6579",
   "metadata": {
    "tags": []
   },
   "outputs": [
    {
     "data": {
      "text/html": [
       "<div>\n",
       "<style scoped>\n",
       "    .dataframe tbody tr th:only-of-type {\n",
       "        vertical-align: middle;\n",
       "    }\n",
       "\n",
       "    .dataframe tbody tr th {\n",
       "        vertical-align: top;\n",
       "    }\n",
       "\n",
       "    .dataframe thead th {\n",
       "        text-align: right;\n",
       "    }\n",
       "</style>\n",
       "<table border=\"1\" class=\"dataframe\">\n",
       "  <thead>\n",
       "    <tr style=\"text-align: right;\">\n",
       "      <th></th>\n",
       "      <th>label</th>\n",
       "      <th>pixel0</th>\n",
       "      <th>pixel1</th>\n",
       "      <th>pixel2</th>\n",
       "      <th>pixel3</th>\n",
       "      <th>pixel4</th>\n",
       "      <th>pixel5</th>\n",
       "      <th>pixel6</th>\n",
       "      <th>pixel7</th>\n",
       "      <th>pixel8</th>\n",
       "      <th>...</th>\n",
       "      <th>pixel774</th>\n",
       "      <th>pixel775</th>\n",
       "      <th>pixel776</th>\n",
       "      <th>pixel777</th>\n",
       "      <th>pixel778</th>\n",
       "      <th>pixel779</th>\n",
       "      <th>pixel780</th>\n",
       "      <th>pixel781</th>\n",
       "      <th>pixel782</th>\n",
       "      <th>pixel783</th>\n",
       "    </tr>\n",
       "  </thead>\n",
       "  <tbody>\n",
       "    <tr>\n",
       "      <th>0</th>\n",
       "      <td>1.0</td>\n",
       "      <td>0.0</td>\n",
       "      <td>0.0</td>\n",
       "      <td>0.0</td>\n",
       "      <td>0.0</td>\n",
       "      <td>0.0</td>\n",
       "      <td>0.0</td>\n",
       "      <td>0.0</td>\n",
       "      <td>0.0</td>\n",
       "      <td>0.0</td>\n",
       "      <td>...</td>\n",
       "      <td>0.0</td>\n",
       "      <td>0.0</td>\n",
       "      <td>0.0</td>\n",
       "      <td>0.0</td>\n",
       "      <td>0.0</td>\n",
       "      <td>0.0</td>\n",
       "      <td>0.0</td>\n",
       "      <td>0.0</td>\n",
       "      <td>0.0</td>\n",
       "      <td>0.0</td>\n",
       "    </tr>\n",
       "    <tr>\n",
       "      <th>1</th>\n",
       "      <td>0.0</td>\n",
       "      <td>0.0</td>\n",
       "      <td>0.0</td>\n",
       "      <td>0.0</td>\n",
       "      <td>0.0</td>\n",
       "      <td>0.0</td>\n",
       "      <td>0.0</td>\n",
       "      <td>0.0</td>\n",
       "      <td>0.0</td>\n",
       "      <td>0.0</td>\n",
       "      <td>...</td>\n",
       "      <td>0.0</td>\n",
       "      <td>0.0</td>\n",
       "      <td>0.0</td>\n",
       "      <td>0.0</td>\n",
       "      <td>0.0</td>\n",
       "      <td>0.0</td>\n",
       "      <td>0.0</td>\n",
       "      <td>0.0</td>\n",
       "      <td>0.0</td>\n",
       "      <td>0.0</td>\n",
       "    </tr>\n",
       "    <tr>\n",
       "      <th>2</th>\n",
       "      <td>1.0</td>\n",
       "      <td>0.0</td>\n",
       "      <td>0.0</td>\n",
       "      <td>0.0</td>\n",
       "      <td>0.0</td>\n",
       "      <td>0.0</td>\n",
       "      <td>0.0</td>\n",
       "      <td>0.0</td>\n",
       "      <td>0.0</td>\n",
       "      <td>0.0</td>\n",
       "      <td>...</td>\n",
       "      <td>0.0</td>\n",
       "      <td>0.0</td>\n",
       "      <td>0.0</td>\n",
       "      <td>0.0</td>\n",
       "      <td>0.0</td>\n",
       "      <td>0.0</td>\n",
       "      <td>0.0</td>\n",
       "      <td>0.0</td>\n",
       "      <td>0.0</td>\n",
       "      <td>0.0</td>\n",
       "    </tr>\n",
       "    <tr>\n",
       "      <th>3</th>\n",
       "      <td>4.0</td>\n",
       "      <td>0.0</td>\n",
       "      <td>0.0</td>\n",
       "      <td>0.0</td>\n",
       "      <td>0.0</td>\n",
       "      <td>0.0</td>\n",
       "      <td>0.0</td>\n",
       "      <td>0.0</td>\n",
       "      <td>0.0</td>\n",
       "      <td>0.0</td>\n",
       "      <td>...</td>\n",
       "      <td>0.0</td>\n",
       "      <td>0.0</td>\n",
       "      <td>0.0</td>\n",
       "      <td>0.0</td>\n",
       "      <td>0.0</td>\n",
       "      <td>0.0</td>\n",
       "      <td>0.0</td>\n",
       "      <td>0.0</td>\n",
       "      <td>0.0</td>\n",
       "      <td>0.0</td>\n",
       "    </tr>\n",
       "    <tr>\n",
       "      <th>4</th>\n",
       "      <td>0.0</td>\n",
       "      <td>0.0</td>\n",
       "      <td>0.0</td>\n",
       "      <td>0.0</td>\n",
       "      <td>0.0</td>\n",
       "      <td>0.0</td>\n",
       "      <td>0.0</td>\n",
       "      <td>0.0</td>\n",
       "      <td>0.0</td>\n",
       "      <td>0.0</td>\n",
       "      <td>...</td>\n",
       "      <td>0.0</td>\n",
       "      <td>0.0</td>\n",
       "      <td>0.0</td>\n",
       "      <td>0.0</td>\n",
       "      <td>0.0</td>\n",
       "      <td>0.0</td>\n",
       "      <td>0.0</td>\n",
       "      <td>0.0</td>\n",
       "      <td>0.0</td>\n",
       "      <td>0.0</td>\n",
       "    </tr>\n",
       "  </tbody>\n",
       "</table>\n",
       "<p>5 rows × 785 columns</p>\n",
       "</div>"
      ],
      "text/plain": [
       "   label  pixel0  pixel1  pixel2  pixel3  pixel4  pixel5  pixel6  pixel7  \\\n",
       "0    1.0     0.0     0.0     0.0     0.0     0.0     0.0     0.0     0.0   \n",
       "1    0.0     0.0     0.0     0.0     0.0     0.0     0.0     0.0     0.0   \n",
       "2    1.0     0.0     0.0     0.0     0.0     0.0     0.0     0.0     0.0   \n",
       "3    4.0     0.0     0.0     0.0     0.0     0.0     0.0     0.0     0.0   \n",
       "4    0.0     0.0     0.0     0.0     0.0     0.0     0.0     0.0     0.0   \n",
       "\n",
       "   pixel8  ...  pixel774  pixel775  pixel776  pixel777  pixel778  pixel779  \\\n",
       "0     0.0  ...       0.0       0.0       0.0       0.0       0.0       0.0   \n",
       "1     0.0  ...       0.0       0.0       0.0       0.0       0.0       0.0   \n",
       "2     0.0  ...       0.0       0.0       0.0       0.0       0.0       0.0   \n",
       "3     0.0  ...       0.0       0.0       0.0       0.0       0.0       0.0   \n",
       "4     0.0  ...       0.0       0.0       0.0       0.0       0.0       0.0   \n",
       "\n",
       "   pixel780  pixel781  pixel782  pixel783  \n",
       "0       0.0       0.0       0.0       0.0  \n",
       "1       0.0       0.0       0.0       0.0  \n",
       "2       0.0       0.0       0.0       0.0  \n",
       "3       0.0       0.0       0.0       0.0  \n",
       "4       0.0       0.0       0.0       0.0  \n",
       "\n",
       "[5 rows x 785 columns]"
      ]
     },
     "execution_count": 3,
     "metadata": {},
     "output_type": "execute_result"
    }
   ],
   "source": [
    "train = pd.read_csv(r\"train.csv\", dtype = np.float32)\n",
    "train.head()"
   ]
  },
  {
   "cell_type": "code",
   "execution_count": 4,
   "id": "5e39bc63-f63a-45e4-bd0c-db9b44485b59",
   "metadata": {
    "tags": []
   },
   "outputs": [
    {
     "data": {
      "text/plain": [
       "array([1., 0., 1., 4., 0.], dtype=float32)"
      ]
     },
     "execution_count": 4,
     "metadata": {},
     "output_type": "execute_result"
    }
   ],
   "source": [
    "targets_numpy = train.label.values\n",
    "targets_numpy[:5] # label sütunu"
   ]
  },
  {
   "cell_type": "code",
   "execution_count": 5,
   "id": "8dd02ded-f610-4269-a2fa-623a7f3d1824",
   "metadata": {},
   "outputs": [],
   "source": [
    "# label sütunu dışındaki bütün değerleri (piksel değerleri) al ve normalize et\n",
    "features_numpy = train.loc[:, train.columns != \"label\"].values / 255 # normalizasyon"
   ]
  },
  {
   "cell_type": "code",
   "execution_count": 6,
   "id": "a76230ea-4c00-4e4a-aa19-423c7e2e6b46",
   "metadata": {},
   "outputs": [],
   "source": [
    "# %20 test veri seti olsun\n",
    "features_train, features_test, targets_train, targets_test = train_test_split(features_numpy,\n",
    "                                                                              targets_numpy,\n",
    "                                                                              test_size = 0.2,\n",
    "                                                                              random_state = 42)"
   ]
  },
  {
   "cell_type": "code",
   "execution_count": 7,
   "id": "491b92de-ae5d-400c-b2b6-5b7c11d99e8c",
   "metadata": {},
   "outputs": [],
   "source": [
    "# pytorch kütüphanesinde gradient hesabı (türev) yapabilmek ve bunları biriktirebilmek için \n",
    "# variable veri yapısına ihtiyacımız vardır. bunun için ilk önce tensor'lere dönüştürelim"
   ]
  },
  {
   "cell_type": "code",
   "execution_count": 8,
   "id": "7655a915-e301-40ef-81b5-48fa72cf0a5f",
   "metadata": {},
   "outputs": [],
   "source": [
    "# numpy -> tensor\n",
    "featuresTrain = torch.from_numpy(features_train) # tensor\n",
    "targetsTrain = torch.from_numpy(targets_train).type(torch.LongTensor) # tensor"
   ]
  },
  {
   "cell_type": "code",
   "execution_count": 9,
   "id": "592f1bec-5ca8-4b64-9ac2-ddb015abeb26",
   "metadata": {
    "tags": []
   },
   "outputs": [
    {
     "data": {
      "text/plain": [
       "torch.Size([33600, 784])"
      ]
     },
     "execution_count": 9,
     "metadata": {},
     "output_type": "execute_result"
    }
   ],
   "source": [
    "featuresTrain.shape # toplam resim/örnek sayısı (satır) : 33600\n",
    "# 1 resimdeki toplam piksel sayısı 784 (28*28)"
   ]
  },
  {
   "cell_type": "code",
   "execution_count": 10,
   "id": "b07d02e8-4f4f-4e5e-9429-6e3236d88ed7",
   "metadata": {},
   "outputs": [],
   "source": [
    "# numpy -> tensor\n",
    "featuresTest = torch.from_numpy(features_test) # tensor\n",
    "targetsTest = torch.from_numpy(targets_test).type(torch.LongTensor) # tensor"
   ]
  },
  {
   "cell_type": "markdown",
   "id": "467851b5-6d8a-42d6-bdd1-9fd21ea57260",
   "metadata": {},
   "source": [
    "* veri seti 33600 tane örnekten oluşsun\n",
    "* batch_size (her grubun içerisindeki örnek sayısı) 100 ise 33600/100 = 336 tane grup vardır\n",
    "* 1 epoch'ta 336 tane grup vardır (her grup 100 örnek içerir)\n",
    "* dolayısıyla 1 epoch 336 iterasyondan oluşur.\n",
    "* 29 tane epoch yaparsak 29 * 336 = 9744 tane iterasyon yapmalıyız"
   ]
  },
  {
   "cell_type": "code",
   "execution_count": 11,
   "id": "02483f63-599f-4926-8d50-e5daebfc2065",
   "metadata": {},
   "outputs": [
    {
     "data": {
      "text/plain": [
       "29"
      ]
     },
     "execution_count": 11,
     "metadata": {},
     "output_type": "execute_result"
    }
   ],
   "source": [
    "# batch_size, epoch and iteration\n",
    "batch_size = 100\n",
    "n_iters = 10000\n",
    "\n",
    "# epoch sayısı = iterasyon sayısı / grup sayısı\n",
    "num_epochs = n_iters / (len(features_train)/ batch_size)\n",
    "num_epochs = int(num_epochs)\n",
    "num_epochs"
   ]
  },
  {
   "cell_type": "code",
   "execution_count": 12,
   "id": "3815fbc8-345c-4490-b4c9-3e8178a43fa0",
   "metadata": {},
   "outputs": [],
   "source": [
    "# Pytorch ile train ve test veri setlerini oluşturalım\n",
    "train = TensorDataset(featuresTrain, targetsTrain) # pikseller, sınıf\n",
    "test = TensorDataset(featuresTest, targetsTest)"
   ]
  },
  {
   "cell_type": "code",
   "execution_count": 13,
   "id": "60734cae-7750-47de-af26-4a6773ba8252",
   "metadata": {},
   "outputs": [],
   "source": [
    "# data loader\n",
    "# veri setini batch_size'a göre düzenliyor\n",
    "# pytorch'ta training yapabilmek için gerekli olan veri tipine dönüştürür\n",
    "# DataLoader, veri kümesini mini gruplar halinde işlemek için kullanılan bir yardımcı sınıftır.\n",
    "# Bu, eğitim verilerini mini gruplar halinde yüklemek için kullanılır.\n",
    "# batch_size: Bu, her bir mini grup (batch) için kaç örnek alınacağını belirtir.\n",
    "# Mini gruplar, modelin eğitim sırasında güncellemelerini hesaplamak için kullanılır.\n",
    "# shuffle: Bu, veri kümesinin karıştırılıp karıştırılmayacağını belirtir\n",
    "train_loader = DataLoader(train, batch_size = batch_size, shuffle = False)\n",
    "test_loader = DataLoader(test, batch_size = batch_size, shuffle = False)"
   ]
  },
  {
   "cell_type": "code",
   "execution_count": 14,
   "id": "b4bd7b39-a156-41e9-8bb3-fff996588764",
   "metadata": {
    "tags": []
   },
   "outputs": [
    {
     "data": {
      "image/png": "[encoded data removed]",
      "text/plain": [
       "<Figure size 640x480 with 1 Axes>"
      ]
     },
     "metadata": {},
     "output_type": "display_data"
    }
   ],
   "source": [
    "# resimi görselleştirelim\n",
    "plt.imshow(features_numpy[0].reshape(28,28)) # 0. satırdaki örneği 28,28 görselleştirelim\n",
    "plt.axis(\"off\")\n",
    "plt.title(str(targets_numpy[0])) # label, sınıf\n",
    "plt.savefig(\"graph.png\") # resimi kaydedelim\n",
    "plt.show()"
   ]
  },
  {
   "cell_type": "code",
   "execution_count": null,
   "id": "2b699d44-470d-4202-b02c-933c3a885273",
   "metadata": {},
   "outputs": [],
   "source": []
  },
  {
   "cell_type": "code",
   "execution_count": null,
   "id": "0712f20a-ab06-4113-9092-2ee063e6a8ca",
   "metadata": {},
   "outputs": [],
   "source": []
  },
  {
   "cell_type": "code",
   "execution_count": null,
   "id": "baa0831c-2fa4-4d27-ac16-bb4764125ceb",
   "metadata": {},
   "outputs": [],
   "source": []
  },
  {
   "cell_type": "markdown",
   "id": "814a92cb-7ad4-45db-b9b5-2a9ffc9c8ac5",
   "metadata": {},
   "source": [
    "## Yapay Sinir Ağı Modelinin Kurulması\n",
    "\n",
    "* Yapay sinir ağı modelimiz, 3 adet gizli katman (hidden layer) içerir.\n",
    "* Her bir gizli katman farklı aktivasyon fonksiyonları kullanır, bu fonksiyonlar ReLU, Tanh ve ELU'dur."
   ]
  },
  {
   "cell_type": "markdown",
   "id": "6d9c1aad-cf01-4041-933a-5e57403de21e",
   "metadata": {},
   "source": [
    "* 28*28'lik bir resim var, 28*28 = 784 pikselden oluşur.\n",
    "* bu resim flatten hale getirilir. vektör oluşur. bu vektör 784 satır, 1 sütun\n",
    "* 784 piksel olduğundan input boyutu (input_dim) 784 olur\n",
    "* init fonksiyonunda layer ve aktivasyon fonksiyonları tanımlamır\n",
    "* 3 tane hidden layer eklenecek ve boyutları 150 node olacak\n",
    "* output layer ise 10 tane sınıf olduğundan 10 tane node\n",
    "* karmaşıklığı artırabilmek için aktivasyon fonksiyonlarını ekleyelim\n",
    "* 1. hidden layer - relu - 2. hidden - tanh - 3. hidden - elu - output layer"
   ]
  },
  {
   "cell_type": "markdown",
   "id": "70e66724-71d3-4e34-b7c1-9f6cb1b15efe",
   "metadata": {},
   "source": [
    "forward ile belirlenen layer ve aktivasyon fonksiyonlarını birbirine bağlanır."
   ]
  },
  {
   "cell_type": "markdown",
   "id": "0ea65211-0bbe-4008-91a4-b7e2cb561391",
   "metadata": {},
   "source": [
    "* output olasılıksal bir değer döner (y_pred), bunu loss fonksiyonunun içerisine koyar. \n",
    "* loss(y_pred, y_real) hesaplanır\n",
    "* en başa dönülür ve gradient hesaplanır, back propagation işlemi gerçekleiştirilir."
   ]
  },
  {
   "cell_type": "code",
   "execution_count": 15,
   "id": "4d485b93-11dc-4bce-92ea-8a8a5038c847",
   "metadata": {},
   "outputs": [],
   "source": [
    "# ANNModel isimli bir sınıf oluşturdum:\n",
    "class ANNModel(nn.Module): # ANNModel, pytorch'un nn.Module'ünü inherit eder\n",
    "    \n",
    "    # ANNModel sınıfının input parametreleri: input_dim: 784, hidden_dim: 150, output_dim: 10\n",
    "    def __init__(self, input_dim, hidden_dim, output_dim):\n",
    "        \n",
    "        super(ANNModel, self).__init__() # ANNModel, nn.Module'den inherit eder\n",
    "        # ANNModel, inherit edebilmesi için nn.Module'ün init fonksiyonunu çağırır\n",
    "        # nn.Module'ün fonksiyonlarını kullanabiliriz\n",
    "        \n",
    "        # 1. lineer fonksiyonu 784 --> 150\n",
    "        self.fc1 = nn.Linear(input_dim, hidden_dim) # hidden layer\n",
    "        # Karmaşıklık (Non-linearity) 1\n",
    "        self.relu1 = nn.ReLU() # aktivasyon fonksiyonu\n",
    "        \n",
    "        # 2. lineer fonksiyonu 150 --> 150\n",
    "        self.fc2 = nn.Linear(hidden_dim, hidden_dim)\n",
    "        # Karmaşıklık (Non-linearity) 2\n",
    "        self.tanh2 = nn.Tanh()\n",
    "        \n",
    "        # 3. lineer fonksiyonu 150 --> 150\n",
    "        self.fc3 = nn.Linear(hidden_dim, hidden_dim)\n",
    "        # Karmaşıklık (Non-linearity) 3\n",
    "        self.elu3 = nn.ELU()\n",
    "        \n",
    "        # output\n",
    "        # 4. lineer fonksiyonu 150 --> 10\n",
    "        self.fc4 = nn.Linear(hidden_dim, output_dim) # output layer\n",
    "        \n",
    "    \n",
    "    def forward(self, x): # x, 784 tane pikseldir.\n",
    "        # 1. lineer fonksiyonu\n",
    "        out = self.fc1(x) # hidden layer\n",
    "        # Non - linearity 1\n",
    "        out = self.relu1(out) # aktivasyon fonksiyonu\n",
    "        \n",
    "        # 2. lineer fonksiyonu\n",
    "        out = self.fc2(out) # hidden layer\n",
    "        # Non - linearity 2\n",
    "        out = self.tanh2(out) # aktivasyon fonksiyonu\n",
    "        \n",
    "        # 3. lineer fonksiyonu\n",
    "        out = self.fc3(out) # hidden layer\n",
    "        # Non - linearity 3\n",
    "        out = self.elu3(out) # aktivasyon fonksiyonu\n",
    "        \n",
    "        # 4. lineer fonksiyonu\n",
    "        out = self.fc4(out) # output layer\n",
    "        # y_pred\n",
    "        # softmax fonksiyonu, cross entropy loss'un içerisinde bulunur\n",
    "        \n",
    "        return out # olasılıksal tahmini değer"
   ]
  },
  {
   "cell_type": "code",
   "execution_count": 16,
   "id": "3a548b2e-64ee-4c7a-a24f-8d9dc03f73a4",
   "metadata": {},
   "outputs": [],
   "source": [
    "# boyutlar tanımlanır\n",
    "input_dim = 28*28 # resmin toplam piksel sayısı 28*28\n",
    "# hidden layer sayısı ve hidden layer'in içerisindeki node (cell) sayısı hiperparametredir\n",
    "hidden_dim = 150 # node (cell) sayısı\n",
    "output_dim = 10 # 10 tane sınıfa sahip olduğum için (0-9)"
   ]
  },
  {
   "cell_type": "code",
   "execution_count": 17,
   "id": "c71711c0-e77c-4856-810e-9cd9578e9625",
   "metadata": {},
   "outputs": [],
   "source": [
    "# ANN oluştur\n",
    "model = ANNModel(input_dim, hidden_dim, output_dim)"
   ]
  },
  {
   "cell_type": "code",
   "execution_count": 18,
   "id": "a01e8c6c-2c75-4684-a02e-d48cfd2a6207",
   "metadata": {},
   "outputs": [],
   "source": [
    "# cross entropy loss\n",
    "# softmax fonksiyonu, cross entropy loss'un içerisinde bulunur\n",
    "error = nn.CrossEntropyLoss()"
   ]
  },
  {
   "cell_type": "code",
   "execution_count": 19,
   "id": "14387e60-bec6-4064-ac74-92a91c509830",
   "metadata": {},
   "outputs": [],
   "source": [
    "# SGD Optimizer\n",
    "learning_rate = 0.02\n",
    "\n",
    "# parametreleri günceller\n",
    "optimizer = torch.optim.SGD(model.parameters(), lr=learning_rate)"
   ]
  },
  {
   "cell_type": "markdown",
   "id": "b61cda36-5367-494d-b763-586ec1aa66bd",
   "metadata": {},
   "source": [
    "* train için verilerimiz var\n",
    "* train işlemini gerçekleştirirken backpropagation yöntemiyle gradient'leri hesaplıyoduk\n",
    "* ve bu gradient'leri biriktirmek için variable tanımlamalıyız\n",
    "* input'u (resim/pikseller ve label'lar/sınıf/etiket) variable içerisine atacağız\n",
    "* Variable(input)"
   ]
  },
  {
   "cell_type": "markdown",
   "id": "8de1b151-3a3d-4f98-a095-fd7445e36e3a",
   "metadata": {},
   "source": [
    "* parametreleri öğreneceğiz\n",
    "* parametreleri güncellemek zorundayız. \n",
    "* ilk olarak geçiçi değerler atanır sonra güncellenir\n",
    "* ilk iterasyonda parametrelerin değeri olmadığından ilk değer atamalıyız\n",
    "* optimizer'ın içerisinde bulunan parametrelere sıfır değerini atarız yani gradient'lere 0 değerini atarız\n",
    "* zero_gradient"
   ]
  },
  {
   "cell_type": "markdown",
   "id": "b5215ad5-2333-4251-9fbc-695b0c1d3ad5",
   "metadata": {},
   "source": [
    "* her defasında gradient'leri sıfır yapmamızın sebebi back propagation kısmında backward fonksiyonu kullanılır.\n",
    "* backward fonksiyonunun yaptığı şey Variable'ları kullanarak gradient'leri biriktirmektir.\n",
    "* gradient'leri her seferinde sıfırlamazsak bir önceki adımdaki gradientler toplanır, biriktirilir ve yanlış hesaplanmış olur.\n",
    "* gradient'ler sıfırlandığında onları kaybetmiyoruz, backward fonksiyonunda gradient'ler Variable içerisinde depolanır, biriktirilir. bu nedenle sıfırlama her adımda olur\n",
    "* backward fonksiyonu sayesinde gradient'leri biriktirebiliyoruz."
   ]
  },
  {
   "cell_type": "markdown",
   "id": "5bc9daaf-3ce0-4158-927e-d108c94c5e50",
   "metadata": {},
   "source": [
    "* modeli eğitelim\n",
    "* model(train)"
   ]
  },
  {
   "cell_type": "markdown",
   "id": "077f0f26-d6af-4bf4-9135-4a892a721db3",
   "metadata": {},
   "source": [
    "* loss hesabı yapacağız (cross entropy)"
   ]
  },
  {
   "cell_type": "markdown",
   "id": "854f43ac-aece-4b43-a36a-9082a38d7b93",
   "metadata": {},
   "source": [
    "* backpropagation yapılır\n",
    "* türev alarak geriye doğru gidilir (backward)\n",
    "* gradient'ler hesaplandı"
   ]
  },
  {
   "cell_type": "markdown",
   "id": "760f48e4-8082-49fe-bae4-c3824a1e5403",
   "metadata": {},
   "source": [
    "* gradient'ler (türevler) hesaplandıktan sonra parametreleri güncellemeliyiz\n",
    "* learning rate sabit bir değer ve weight biliniyor\n",
    "* w = w - lr * gradient (gradient'leri backward sonucunda bulduk)\n",
    "* parametreleri güncellemek için optimizer'ın step metodunu çağırırız\n",
    "* step()"
   ]
  },
  {
   "cell_type": "code",
   "execution_count": 20,
   "id": "b69fd11d-8005-440d-91da-2777155160ef",
   "metadata": {},
   "outputs": [],
   "source": [
    "# training işlemi for döngüsünde epoch sayısı kadar devam eder ve gerçekleştirilir"
   ]
  },
  {
   "cell_type": "markdown",
   "id": "b2e37ebc-1dc5-4c06-a939-410aef4e0d0a",
   "metadata": {},
   "source": [
    "* count 50'nin katı olduğunda prediction (tahmin) işlemini gerçekleştireceğiz\n",
    "* test veri setini kullanarak tahmin işlemini gerçekleştireceğiz\n",
    "* training aşamasında hemde prediction işlemi paralel olarak gerçekleştirelim\n",
    "* prediction:\n",
    "    * variable tanımlanır: variable(test resimleri)\n",
    "    * gradient'leri hesaplamayacağım çünkü prediction yapıyorum elimdeki parametreleri test ediyorum\n",
    "    * train ile parametre değerleri belirlendi bu parametreler kullanılarak prediction işlemi gerçekleştireceğim\n",
    "    * model(test)\n",
    "    * model'e test veri seti verilir ve çıktı olarak tahmini değerler bulunur\n",
    "    * loss hesabı yapmayacağım çünkü training aşamasında loss değeri hesaplanır\n",
    "    * accuracy değerine bakılır.\n",
    "    * özetle input'lar kullanılabilir hale getirilir yani variable tanımlanır, daha sonra prediction gerçekleştirilir. Accuracy değeri hesaplanır."
   ]
  },
  {
   "cell_type": "code",
   "execution_count": 21,
   "id": "0a9dbb88-bcc1-490e-aa2a-e5226632d7b7",
   "metadata": {},
   "outputs": [
    {
     "name": "stdout",
     "output_type": "stream",
     "text": [
      "Iteration: 500 Loss: 0.7707474231719971 Accuracy: 80.41666412353516 %\n",
      "Iteration: 1000 Loss: 0.464295893907547 Accuracy: 87.53571319580078 %\n",
      "Iteration: 1500 Loss: 0.22499513626098633 Accuracy: 89.54762268066406 %\n",
      "Iteration: 2000 Loss: 0.28686070442199707 Accuracy: 90.67857360839844 %\n",
      "Iteration: 2500 Loss: 0.3188752830028534 Accuracy: 91.9047622680664 %\n",
      "Iteration: 3000 Loss: 0.11533597111701965 Accuracy: 92.5 %\n",
      "Iteration: 3500 Loss: 0.2402036488056183 Accuracy: 93.4047622680664 %\n",
      "Iteration: 4000 Loss: 0.06156260892748833 Accuracy: 93.92857360839844 %\n",
      "Iteration: 4500 Loss: 0.2923550009727478 Accuracy: 94.41666412353516 %\n",
      "Iteration: 5000 Loss: 0.10613932460546494 Accuracy: 94.73809814453125 %\n",
      "Iteration: 5500 Loss: 0.18491365015506744 Accuracy: 94.8452377319336 %\n",
      "Iteration: 6000 Loss: 0.17496225237846375 Accuracy: 95.0952377319336 %\n",
      "Iteration: 6500 Loss: 0.09310413151979446 Accuracy: 95.42857360839844 %\n",
      "Iteration: 7000 Loss: 0.09780281782150269 Accuracy: 95.69047546386719 %\n",
      "Iteration: 7500 Loss: 0.12409452348947525 Accuracy: 95.78571319580078 %\n",
      "Iteration: 8000 Loss: 0.17961835861206055 Accuracy: 95.85713958740234 %\n",
      "Iteration: 8500 Loss: 0.05305035039782524 Accuracy: 96.02381134033203 %\n",
      "Iteration: 9000 Loss: 0.05572168901562691 Accuracy: 96.20237731933594 %\n",
      "Iteration: 9500 Loss: 0.023333875462412834 Accuracy: 96.26190185546875 %\n"
     ]
    }
   ],
   "source": [
    "# ANN modeli eğitelim\n",
    "\n",
    "count = 0 # her 50 adımda prediction işlemi gerçekleştirilecek\n",
    "loss_list = [] # hata değerleri\n",
    "iteration_list = []\n",
    "accuracy_list = [] # prediction sonunda ortaya çıkan accuracy doğruluk değerleri\n",
    "\n",
    "for epoch in range(num_epochs): # tüm train veri seti 29 kere train edilecek\n",
    "    for i, (images, labels) in enumerate(train_loader): # train_loader: variable\n",
    "        \n",
    "        # resimler ve resimlere karşılık gelen label'lar var\n",
    "        train = Variable(images.view(-1, 28*28)) # train edilecek veri\n",
    "        labels = Variable(labels) # train edilecek veriye karşılık gelen sınıflar\n",
    "        \n",
    "        # optimizer'in içerisindeki gradient'ler sıfırlanır\n",
    "        optimizer.zero_grad()\n",
    "        \n",
    "        # forward propagation\n",
    "        # model eğitilir ve tahmini değerler çıktı olarak üretilir: y_pred\n",
    "        outputs = model(train)\n",
    "        \n",
    "        # cross entropy loss (içerisinde softmax bulunur)\n",
    "        # tahmin edilen değerler (y_pred) ile gerçek değerler \n",
    "        loss = error(outputs, labels)\n",
    "        \n",
    "        # gradients hesaplanır\n",
    "        # loss değerini kullanarak back propagation işlemi gerçekleştirilir.\n",
    "        # ve gradient değerleri bulunur.\n",
    "        loss.backward()\n",
    "        \n",
    "        # parametreler güncellenir\n",
    "        # gradient değerleri hesaplanmıştı\n",
    "        # parametreler, learning rate ve gradient'lere göre güncellenir\n",
    "        optimizer.step()\n",
    "        \n",
    "        # bir training aşaması biter\n",
    "        \n",
    "        count += 1\n",
    "        \n",
    "        # count 50'nin katı olduğunda prediction (tahmin) işlemini gerçekleştireceğiz\n",
    "        # test veri setini kullanarak tahmin işlemini gerçekleştireceğiz\n",
    "        if count % 50 == 0:\n",
    "            # Accuracy\n",
    "            correct = 0 # kaç tane veri doğru tahmin edildi\n",
    "            total = 0 # kaç tane veri test edildi\n",
    "            \n",
    "            # test veri seti\n",
    "            for images, labels in test_loader:\n",
    "                # resimler ve resimlere karşılık gelen sınıflar\n",
    "                \n",
    "                # bu resimleri kullanarak test isimli bir variable oluşturdum\n",
    "                test = Variable(images.view(-1, 28*28))\n",
    "                \n",
    "                # forward propagation\n",
    "                # test veri setini modele input olarak verilir\n",
    "                # ve prediction işlemi gerçekleşir\n",
    "                # output olarak tahmini değerler üretilir\n",
    "                outputs = model(test) # model tahmin eder\n",
    "                # outputs (tahmini değerler), olasılıksal bir değerdir\n",
    "                # 10 farklı sınıf olduğundan 10 tane olasılıksal değer elde edilir\n",
    "                \n",
    "                # her bir resim için 10 tane olan tahmini olasılık değerlerinden \n",
    "                # en büyük olasılık değeri seçilir ve buna karşılık gelen sınıf atanır.\n",
    "                predicted = torch.max(outputs.data, 1)[1]\n",
    "                # 10 tane değerin içerisinden en büyük olanını alıyoruz\n",
    "                # en büyük olan, olasılık değeri en yüksek olan sınıf seçilir.\n",
    "                \n",
    "                # toplam tahmin edilen veri\n",
    "                total += len(labels)\n",
    "                \n",
    "                # kaç tane veri doğru tahmin edildi\n",
    "                correct += (predicted == labels).sum() # doğru tahmin edilen veri sayısı\n",
    "                \n",
    "            # Accuracy\n",
    "            accuracy = 100 * correct / float(total)\n",
    "            \n",
    "            # loss, iteration ve accuracy\n",
    "            loss_list.append(loss.data)\n",
    "            iteration_list.append(count)\n",
    "            accuracy_list.append(accuracy)\n",
    "            \n",
    "        # her 500'de bir \n",
    "        if count % 500 == 0:\n",
    "            print(\"Iteration: {} Loss: {} Accuracy: {} %\".format(count, loss.data, accuracy))"
   ]
  },
  {
   "cell_type": "markdown",
   "id": "9718f4ca-90bd-4ccc-9685-4f5069027dcc",
   "metadata": {},
   "source": [
    "İterasyon sayısı arttıkça loss değerleri azalır ve accuracy değerleri ise artar.\n",
    "\n",
    "100 resimden 96 tanesini doğru tahmin edebiliyorum demektir."
   ]
  },
  {
   "cell_type": "code",
   "execution_count": 22,
   "id": "b905d2ff-21d0-411a-8809-39888dfc6cea",
   "metadata": {},
   "outputs": [],
   "source": [
    "# görselleştirme"
   ]
  },
  {
   "cell_type": "code",
   "execution_count": 23,
   "id": "edb44114-5032-43b4-9ea8-b22969070c85",
   "metadata": {},
   "outputs": [
    {
     "data": {
      "image/png": "[encoded data removed]",
      "text/plain": [
       "<Figure size 640x480 with 1 Axes>"
      ]
     },
     "metadata": {},
     "output_type": "display_data"
    }
   ],
   "source": [
    "# Loss\n",
    "plt.plot(iteration_list, loss_list)\n",
    "plt.xlabel(\"İterasyon Sayısı\")\n",
    "plt.ylabel(\"Loss\")\n",
    "plt.title(\"ANN: Loss vs İterasyon Sayısı\")\n",
    "plt.show()"
   ]
  },
  {
   "cell_type": "markdown",
   "id": "0ec680cd-7b73-4c04-8926-dbb89ad84ef0",
   "metadata": {},
   "source": [
    "iterasyon sayısı arttıkça loss değeri azalmıştır. loss değerinin azalması modelin öğrendiği anlamına gelir. weight ve bias parametrelerinin güncellendiği anlamına gelir"
   ]
  },
  {
   "cell_type": "code",
   "execution_count": 24,
   "id": "721850a0",
   "metadata": {
    "tags": []
   },
   "outputs": [
    {
     "data": {
      "image/png": "[encoded data removed]",
      "text/plain": [
       "<Figure size 640x480 with 1 Axes>"
      ]
     },
     "metadata": {},
     "output_type": "display_data"
    }
   ],
   "source": [
    "# Accuracy\n",
    "plt.plot(iteration_list, accuracy_list, color=\"red\")\n",
    "plt.xlabel(\"İterasyon Sayısı\")\n",
    "plt.ylabel(\"Accuracy\")\n",
    "plt.title(\"ANN: Accuracy vs İterasyon Sayısı\")\n",
    "plt.show()"
   ]
  },
  {
   "cell_type": "markdown",
   "id": "dc1df884-0412-4e93-a2f4-bae390b82dfc",
   "metadata": {},
   "source": [
    "Accuracy değerinin arttığı gözlemlenmiştir."
   ]
  },
  {
   "cell_type": "markdown",
   "id": "cc8d0b7c-d11d-45f3-8ed3-cce4b523c2ae",
   "metadata": {},
   "source": [
    "lojistik regresyona göre başarım artmıştır. model karmaşıklığı arttıkça başarıda artmış olur."
   ]
  },
  {
   "cell_type": "code",
   "execution_count": null,
   "id": "a1d3fa3c-0d4e-479e-bc4a-1ff53ac17d39",
   "metadata": {},
   "outputs": [],
   "source": []
  },
  {
   "cell_type": "code",
   "execution_count": null,
   "id": "302d474a-7739-410c-9d21-e98391f73cc4",
   "metadata": {},
   "outputs": [],
   "source": []
  }
 ],
 "metadata": {
  "kernelspec": {
   "display_name": "Python 3 (ipykernel)",
   "language": "python",
   "name": "python3"
  },
  "language_info": {
   "codemirror_mode": {
    "name": "ipython",
    "version": 3
   },
   "file_extension": ".py",
   "mimetype": "text/x-python",
   "name": "python",
   "nbconvert_exporter": "python",
   "pygments_lexer": "ipython3",
   "version": "3.11.4"
  }
 },
 "nbformat": 4,
 "nbformat_minor": 5
}
