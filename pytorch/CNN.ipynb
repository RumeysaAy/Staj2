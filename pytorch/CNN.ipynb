{
 "cells": [
  {
   "cell_type": "markdown",
   "id": "ddba169b-c2f0-45c1-b095-fcccb6499858",
   "metadata": {},
   "source": [
    "Vanishing(= gözden kaybolmak) gradient(= bilgi) problem\n",
    "\n",
    "loss değeri, düşük seviyedeki özelliklere (low level feature) ulaşıldığında bu bilgi kaybetme problemi ortaya çıkar. (Loss, output yani çıktı sırasında oluşturuluyordu)"
   ]
  },
  {
   "cell_type": "code",
   "execution_count": null,
   "id": "e7632aa4-e3ce-478f-9d88-e16bca796af2",
   "metadata": {},
   "outputs": [],
   "source": []
  },
  {
   "cell_type": "markdown",
   "id": "694b8f8e-bda0-4a45-b362-bfb6d534cda3",
   "metadata": {},
   "source": [
    "# Deep Residual Networks (ResNets)"
   ]
  },
  {
   "cell_type": "markdown",
   "id": "d858db28-c200-492c-bca5-5592b56f0354",
   "metadata": {},
   "source": [
    "## Vanishing Gradient Problemi\n",
    "\n",
    "Vanishing Gradient Problemi, bir nöral ağın (neural network) çok derin olduğu durumlarda ortaya çıkan bir sorundur. Örneğin, 1000 sınıfı sınıflandırmak için 50 katman içeren bir nöral ağ, 20 katman içeren bir nöral ağa göre daha başarısız olabilir. Bunun nedeni, ağın ilk katmanlarındaki (low-level) bilginin kaybolmasıdır.\n",
    "\n",
    "Gradient, loss değerinin weight'lere göre türevi olarak tanımlanır ve weight'lerin (ağırlıkların) güncellenmesinde kullanılır:\n",
    "\n",
    "W =: W - (learning rate) * Gradient\n",
    "\n",
    "Ancak network’ün çok derin olduğu durumlarda, loss fonksiyonunun weight'lere göre türevini hesaplarken vanishing problemini yaşarız, yani gradient (türev) kaybolur.\n",
    "\n",
    "Low-level (düşük seviye) katmanlarda bilgi kaybetme problemi meydana gelir. Bu düşük seviyedeki özellikler (low level feature), güncellenmez ve bu nedenle bilgi kaybına uğrar.\n",
    "\n",
    "Vanishing Gradient Problemi, düşük seviyedeki (low-level) katmanlardan kaynaklanan bilgi kaybı ile ilgilidir. Bu sorunun üstesinden gelmek için \"Derin Artıklı Ağlar (Deep Residual Networks)\" gibi teknikler kullanılabilir."
   ]
  },
  {
   "attachments": {
    "dfd36c3a-1776-421a-a2be-412833caf46b.png": {
     "image/png": "[encoded data removed]"
    }
   },
   "cell_type": "markdown",
   "id": "73510575-47c9-4547-9c7d-b81abee6d5ad",
   "metadata": {},
   "source": [
    "## Deep Residual Networks\n",
    "\n",
    "![resnet.png](attachment:dfd36c3a-1776-421a-a2be-412833caf46b.png)"
   ]
  },
  {
   "cell_type": "markdown",
   "id": "66e009b0-12fc-46f8-9596-15fc729f85fa",
   "metadata": {},
   "source": [
    "# Infrared Pedestrian Dataset (Kızılötesi Yaya Veri Seti)\n",
    "\n",
    "Kızılötesi, bir kamera görüntüsünü ifade eder. Bu veri seti, bir aracın üzerine yerleştirilen kamera görüntülerini içerir. Bu görüntülerin boyutu 64*32'dir.\n",
    "\n",
    "\"Pedestrian,\" yaya yani insan anlamına gelir.\n",
    "\n",
    "Bu veri seti iki farklı sınıf içerir: \n",
    "1. Sınıf, bir görüntüde insanın vardır (pedestrian).\n",
    "2. Sınıf, bir görüntüde insanın olmadığını ifade eder (non-pedestrian)."
   ]
  },
  {
   "cell_type": "markdown",
   "id": "2bca7807-1db2-472a-9864-b55cea308dba",
   "metadata": {},
   "source": [
    "# Pytorch ile CNN"
   ]
  },
  {
   "cell_type": "code",
   "execution_count": 1,
   "id": "46d0e7d2-8937-44da-877c-11cecb1f0c7d",
   "metadata": {
    "tags": []
   },
   "outputs": [],
   "source": [
    "# pytorch\n",
    "import torch\n",
    "import torch.nn as nn # neural network yapısı\n",
    "import torch.nn.functional as F # fonksiyonlar\n",
    "import torch.utils.data\n",
    "import torch.optim as optim\n",
    "\n",
    "from PIL import Image # resimleri preprocess yaparken kullanırız\n",
    "\n",
    "# görselleştirme\n",
    "import matplotlib.pyplot as plt\n",
    "\n",
    "import numpy as np\n",
    "import os # resimleri import etmek için\n",
    "import time # algoritmanın çalışma zamanı"
   ]
  },
  {
   "cell_type": "code",
   "execution_count": null,
   "id": "46b2d45b-e7ff-48f6-a22b-ff345b1e562d",
   "metadata": {},
   "outputs": [],
   "source": []
  },
  {
   "cell_type": "markdown",
   "id": "203d859d-b53c-4617-a27c-070624e4e96d",
   "metadata": {},
   "source": [
    "GPU, grafik kartıdır. grafik kartı, neural network yapılarında CPU'dan çok daha hızlı çalışıyor bu yüzden kodları GPU yani grafik kartta çalıştırabiliriz böylece daha hızlı olur. default olarak kodlar CPU'da çalışır. GPU'da çalıştırmak için:\n",
    "\n",
    "``` python\n",
    "# cuda indirilip kurulmalı\n",
    "device = torch.device(\"cuda:0\" if torch.cuda.is_available() else \"cpu\")\n",
    "print(\"Device: \", device)\n",
    "```"
   ]
  },
  {
   "cell_type": "code",
   "execution_count": 2,
   "id": "0ac8ffdd-f6dc-455b-ba96-9cc68e7a2a00",
   "metadata": {},
   "outputs": [
    {
     "name": "stdout",
     "output_type": "stream",
     "text": [
      "Device: cpu\n"
     ]
    }
   ],
   "source": [
    "device = torch.device(\"cuda:0\" if torch.cuda.is_available() else \"cpu\")\n",
    "print(\"Device:\", device)"
   ]
  },
  {
   "cell_type": "code",
   "execution_count": null,
   "id": "ddd539b4-54b7-4196-a156-0c99d5553d19",
   "metadata": {},
   "outputs": [],
   "source": []
  },
  {
   "cell_type": "markdown",
   "id": "7e0135a9-499a-42c6-9094-9fc5e61006eb",
   "metadata": {},
   "source": [
    "### IR Pedestrian Projesi: Veri Seti Yükleme"
   ]
  },
  {
   "cell_type": "code",
   "execution_count": 3,
   "id": "818930a8-e044-4fb0-8177-88e53d471905",
   "metadata": {},
   "outputs": [],
   "source": [
    "# resimleri yüklemek için\n",
    "# ilgili klasördeki tüm resimleri alıp array isimli parametreye yükler\n",
    "\n",
    "def read_images(path, num_img): # path: klasörün yolu, num_img: kaç tane resim okunacak\n",
    "    # array: num_img satır, 64*32 sütundan oluşur ve bütün elemanları 0'dır.\n",
    "    array = np.zeros([num_img, 64*32]) # resimlerin boyutu 64 satır, 32 sütun\n",
    "    # her bir satır bir tane resim olacak\n",
    "    \n",
    "    i = 0\n",
    "    # path'in içerisindeki bütün resimleri yükler\n",
    "    # path klasörün yolu\n",
    "    # img ise o klasörün altındaki dosyalar\n",
    "    for img in os.listdir(path): \n",
    "        img_path = path + \"//\" + img\n",
    "        img = Image.open(img_path, mode=\"r\") # read\n",
    "        data = np.asarray(img, dtype = \"uint8\") # unit8'e çevirelim\n",
    "        # resimi array'de depolamak için düzleştirelim\n",
    "        data = data.flatten() # 5*5 -> 1*25\n",
    "        array[i,:] = data # i. satırın bütün sütunlarına düzleştirilen data'yı yazdır.\n",
    "        i += 1\n",
    "        \n",
    "    return array"
   ]
  },
  {
   "cell_type": "markdown",
   "id": "5286cb01-f0bf-441d-9392-c3873fecfbd9",
   "metadata": {},
   "source": [
    "#### train - negatif"
   ]
  },
  {
   "cell_type": "code",
   "execution_count": 4,
   "id": "dd157b99-e22a-410b-a48f-fce8109f2402",
   "metadata": {},
   "outputs": [],
   "source": [
    "train_neg_path = r\"LSIFIR/Classification/Train/neg\"\n",
    "num_train_neg_img = 43390\n",
    "train_negative_array = read_images(train_neg_path, num_train_neg_img)"
   ]
  },
  {
   "cell_type": "code",
   "execution_count": 5,
   "id": "689f8135-6d5c-4953-b5a3-74396c4f7a71",
   "metadata": {
    "tags": []
   },
   "outputs": [
    {
     "name": "stdout",
     "output_type": "stream",
     "text": [
      "x_train_negative_tensor: torch.Size([43390, 2048])\n"
     ]
    }
   ],
   "source": [
    "# pytorch kütüphanesinin numpy ile bir arayüzü var \n",
    "# olduğundan numpy array'i pytorch array'e çevirebilirim\n",
    "# numpy'da array, torch'da tensor kullanılır.\n",
    "\n",
    "# resimleri yani input'ları yükledik (x)\n",
    "x_train_negative_tensor = torch.from_numpy(train_negative_array)\n",
    "print(\"x_train_negative_tensor:\", x_train_negative_tensor.size())"
   ]
  },
  {
   "cell_type": "markdown",
   "id": "7ea05559-470c-42ba-aba0-e100ed591c81",
   "metadata": {},
   "source": [
    "x_train_negative_tensor içerisinde 43390 tane resim vardır."
   ]
  },
  {
   "cell_type": "code",
   "execution_count": 6,
   "id": "a59cab39-0ac0-4816-9eab-8af7b9d21574",
   "metadata": {
    "tags": []
   },
   "outputs": [
    {
     "name": "stdout",
     "output_type": "stream",
     "text": [
      "y_train_negative_tensor: torch.Size([43390])\n"
     ]
    }
   ],
   "source": [
    "# bu resimlerin label'larını yükleyelim\n",
    "# label y\n",
    "# yaya olmadığı için label 0 olsun\n",
    "y_train_negative_tensor = torch.zeros(num_train_neg_img, dtype=torch.long)\n",
    "print(\"y_train_negative_tensor:\", y_train_negative_tensor.size())"
   ]
  },
  {
   "cell_type": "code",
   "execution_count": null,
   "id": "ff76d0f7-50f2-42b7-9682-a2e36f62a268",
   "metadata": {},
   "outputs": [],
   "source": []
  },
  {
   "cell_type": "markdown",
   "id": "e474a72d-2078-4848-97ed-d4fc6b6d7318",
   "metadata": {},
   "source": [
    "#### train - pozitif"
   ]
  },
  {
   "cell_type": "code",
   "execution_count": 7,
   "id": "b27b7656-8148-40a4-b4df-6a72efdaaab6",
   "metadata": {},
   "outputs": [],
   "source": [
    "train_pos_path = r\"LSIFIR/Classification/Train/pos\"\n",
    "num_train_pos_img = 10208\n",
    "train_positive_array = read_images(train_pos_path, num_train_pos_img)"
   ]
  },
  {
   "cell_type": "code",
   "execution_count": 8,
   "id": "79959f3a-e4d1-4ac7-97fd-e35066ca0f7b",
   "metadata": {
    "tags": []
   },
   "outputs": [
    {
     "name": "stdout",
     "output_type": "stream",
     "text": [
      "x_train_positive_tensor: torch.Size([10208, 2048])\n"
     ]
    }
   ],
   "source": [
    "# pytorch kütüphanesinin numpy ile bir arayüzü var \n",
    "# olduğundan numpy array'i pytorch array'e çevirebilirim\n",
    "# numpy'da array, torch'da tensor kullanılır.\n",
    "\n",
    "# resimleri yani input'ları yükledik (x)\n",
    "x_train_positive_tensor = torch.from_numpy(train_positive_array)\n",
    "print(\"x_train_positive_tensor:\", x_train_positive_tensor.size())"
   ]
  },
  {
   "cell_type": "code",
   "execution_count": 9,
   "id": "afe3ac10-90b5-4af8-820e-8d88ae341ea1",
   "metadata": {
    "tags": []
   },
   "outputs": [
    {
     "name": "stdout",
     "output_type": "stream",
     "text": [
      "y_train_positive_tensor: torch.Size([10208])\n"
     ]
    }
   ],
   "source": [
    "# bu resimlerin label'larını yükleyelim\n",
    "# label y\n",
    "# yaya olduğu için label 1 olsun\n",
    "y_train_positive_tensor = torch.ones(num_train_pos_img, dtype=torch.long)\n",
    "print(\"y_train_positive_tensor:\", y_train_positive_tensor.size())"
   ]
  },
  {
   "cell_type": "markdown",
   "id": "dfc8272b-a721-4dda-b67a-a5799c722fa6",
   "metadata": {},
   "source": [
    "y_train_positive_tensor içerisinde 10208 tane resim vardır."
   ]
  },
  {
   "cell_type": "code",
   "execution_count": null,
   "id": "d97209be-7d00-4ee4-a062-fe9a8c08861a",
   "metadata": {},
   "outputs": [],
   "source": []
  },
  {
   "cell_type": "markdown",
   "id": "8593ec2b-06f0-44aa-b068-0754a7389e13",
   "metadata": {},
   "source": [
    "#### train-pos ve train-neg veri setlerini birleştirip train veri setini oluşturalım"
   ]
  },
  {
   "cell_type": "code",
   "execution_count": 10,
   "id": "41205658-aac0-4ff5-b3d9-785db62f403c",
   "metadata": {
    "tags": []
   },
   "outputs": [
    {
     "name": "stdout",
     "output_type": "stream",
     "text": [
      "x_train: torch.Size([53598, 2048])\n",
      "y_train: torch.Size([53598])\n"
     ]
    }
   ],
   "source": [
    "# concat\n",
    "# birleştirirken yukarıdan aşağıya doğru birleştireceğim (alt alta): 0 (satırlar birleştirilir)\n",
    "x_train = torch.cat((x_train_negative_tensor, x_train_positive_tensor), 0) # input\n",
    "y_train = torch.cat((y_train_negative_tensor, y_train_positive_tensor), 0) # label\n",
    "\n",
    "print(\"x_train:\", x_train.size())\n",
    "print(\"y_train:\", y_train.size())"
   ]
  },
  {
   "cell_type": "code",
   "execution_count": null,
   "id": "3f6ba0ab-ee68-4f30-8caf-e8ce36c5cb42",
   "metadata": {},
   "outputs": [],
   "source": []
  },
  {
   "cell_type": "code",
   "execution_count": null,
   "id": "593c8bea-4ebc-4930-8f2c-af222c070252",
   "metadata": {},
   "outputs": [],
   "source": []
  },
  {
   "cell_type": "markdown",
   "id": "4faa2818-a411-44a1-a208-2aa3ddd776ac",
   "metadata": {},
   "source": [
    "#### test - neg"
   ]
  },
  {
   "cell_type": "code",
   "execution_count": 11,
   "id": "cc270786-4dcc-4188-8f8a-24dfd46fa740",
   "metadata": {},
   "outputs": [],
   "source": [
    "test_neg_path = r\"LSIFIR/Classification/Test/neg\"\n",
    "num_test_neg_img = 22050\n",
    "test_negative_array = read_images(test_neg_path, num_test_neg_img)"
   ]
  },
  {
   "cell_type": "code",
   "execution_count": 12,
   "id": "5d8221f5-4197-468b-930a-da2a8263080f",
   "metadata": {
    "tags": []
   },
   "outputs": [
    {
     "name": "stdout",
     "output_type": "stream",
     "text": [
      "x_test_negative_tensor: torch.Size([20855, 2048])\n"
     ]
    }
   ],
   "source": [
    "# pytorch kütüphanesinin numpy ile bir arayüzü var \n",
    "# olduğundan numpy array'i pytorch array'e çevirebilirim\n",
    "# numpy'da array, torch'da tensor kullanılır.\n",
    "\n",
    "# resimleri yani input'ları yükledik (x)\n",
    "x_test_negative_tensor = torch.from_numpy(test_negative_array[:20855,:])\n",
    "print(\"x_test_negative_tensor:\", x_test_negative_tensor.size())"
   ]
  },
  {
   "cell_type": "code",
   "execution_count": 13,
   "id": "567f141f-a332-4065-8418-5cd0df531828",
   "metadata": {
    "tags": []
   },
   "outputs": [
    {
     "name": "stdout",
     "output_type": "stream",
     "text": [
      "y_test_negative_tensor: torch.Size([20855])\n"
     ]
    }
   ],
   "source": [
    "# bu resimlerin label'larını yükleyelim\n",
    "# label y\n",
    "# yaya olmadığı için label 0 olsun\n",
    "y_test_negative_tensor = torch.zeros(20855, dtype=torch.long)\n",
    "print(\"y_test_negative_tensor:\", y_test_negative_tensor.size())"
   ]
  },
  {
   "cell_type": "code",
   "execution_count": null,
   "id": "442ac7ac-583d-4db6-95b6-ef7c6ea68192",
   "metadata": {},
   "outputs": [],
   "source": []
  },
  {
   "cell_type": "code",
   "execution_count": null,
   "id": "2f14897f-4171-49a1-974b-e66d2ba0330c",
   "metadata": {},
   "outputs": [],
   "source": []
  },
  {
   "cell_type": "markdown",
   "id": "0012110a-aa06-4282-86e9-4fae249e8500",
   "metadata": {},
   "source": [
    "#### test - pos"
   ]
  },
  {
   "cell_type": "code",
   "execution_count": 14,
   "id": "31d87d25-6c07-43b9-a6a9-d7435ef26488",
   "metadata": {},
   "outputs": [],
   "source": [
    "test_pos_path = r\"LSIFIR/Classification/Test/pos\"\n",
    "num_test_pos_img = 5944\n",
    "test_positive_array = read_images(test_pos_path, num_test_pos_img)"
   ]
  },
  {
   "cell_type": "code",
   "execution_count": 15,
   "id": "bf65db54-9f92-4e81-a401-f8be921b5c6c",
   "metadata": {},
   "outputs": [
    {
     "name": "stdout",
     "output_type": "stream",
     "text": [
      "x_test_positive_tensor: torch.Size([5944, 2048])\n"
     ]
    }
   ],
   "source": [
    "x_test_positive_tensor = torch.from_numpy(test_positive_array)\n",
    "print(\"x_test_positive_tensor:\", x_test_positive_tensor.size())"
   ]
  },
  {
   "cell_type": "code",
   "execution_count": 16,
   "id": "5c1f0c7e-463e-4609-b85e-d50d21bce0ad",
   "metadata": {},
   "outputs": [
    {
     "name": "stdout",
     "output_type": "stream",
     "text": [
      "y_test_positive_tensor: torch.Size([5944])\n"
     ]
    }
   ],
   "source": [
    "# bu resimlerin label'larını yükleyelim\n",
    "# label y\n",
    "# yaya olduğu için label 1 olsun\n",
    "y_test_positive_tensor = torch.ones(num_test_pos_img, dtype=torch.long)\n",
    "print(\"y_test_positive_tensor:\", y_test_positive_tensor.size())"
   ]
  },
  {
   "cell_type": "code",
   "execution_count": null,
   "id": "c3ba6a58-a371-4994-a206-e0087f7daec5",
   "metadata": {},
   "outputs": [],
   "source": []
  },
  {
   "cell_type": "markdown",
   "id": "211e11bf-bf1d-4b84-b641-202fb73a1c4a",
   "metadata": {},
   "source": [
    "#### test-pos ve test-neg veri setlerini birleştirip train veri setini oluşturalım"
   ]
  },
  {
   "cell_type": "code",
   "execution_count": 17,
   "id": "b74e665b-0fd6-4981-b52a-ec40c2e8d90e",
   "metadata": {
    "tags": []
   },
   "outputs": [
    {
     "name": "stdout",
     "output_type": "stream",
     "text": [
      "x_test: torch.Size([26799, 2048])\n",
      "y_test: torch.Size([26799])\n"
     ]
    }
   ],
   "source": [
    "# concat\n",
    "# birleştirirken yukarıdan aşağıya doğru birleştireceğim (alt alta): 0 (satırlar birleştirilir)\n",
    "x_test = torch.cat((x_test_negative_tensor, x_test_positive_tensor), 0) # input\n",
    "y_test = torch.cat((y_test_negative_tensor, y_test_positive_tensor), 0) # label\n",
    "\n",
    "print(\"x_test:\", x_test.size())\n",
    "print(\"y_test:\", y_test.size())"
   ]
  },
  {
   "cell_type": "code",
   "execution_count": null,
   "id": "c3af8832-c641-4252-b9aa-5d524afa4475",
   "metadata": {},
   "outputs": [],
   "source": []
  },
  {
   "cell_type": "code",
   "execution_count": 18,
   "id": "492f7dd3-6d7d-4a0c-9623-61ff90ab0435",
   "metadata": {
    "tags": []
   },
   "outputs": [
    {
     "data": {
      "image/png": "[encoded data removed]",
      "text/plain": [
       "<Figure size 640x480 with 1 Axes>"
      ]
     },
     "metadata": {},
     "output_type": "display_data"
    }
   ],
   "source": [
    "# herhangi bir resmi görselleştirelim\n",
    "plt.imshow(x_train[49000,:].reshape(64,32), cmap=\"gray\")\n",
    "plt.show()"
   ]
  },
  {
   "cell_type": "code",
   "execution_count": null,
   "id": "838b79e4-8b10-4e67-b228-bbc8ddb5480b",
   "metadata": {},
   "outputs": [],
   "source": []
  },
  {
   "cell_type": "code",
   "execution_count": null,
   "id": "d20fc85b-fb70-4bde-8b37-8873257de6f1",
   "metadata": {},
   "outputs": [],
   "source": []
  },
  {
   "cell_type": "markdown",
   "id": "fb48a0f0-cc42-4732-bcbd-824a105677e0",
   "metadata": {},
   "source": [
    "### IR Pedestrian Projesi: Python(Pytorch) ile CNN Modeli Oluşturma"
   ]
  },
  {
   "cell_type": "code",
   "execution_count": 19,
   "id": "070a2886-3bec-45c5-b038-301176b84470",
   "metadata": {},
   "outputs": [],
   "source": [
    "# Hiperparametreler\n",
    "num_epochs = 5000\n",
    "num_classes = 2\n",
    "batch_size = 8933\n",
    "learning_rate = 0.00001"
   ]
  },
  {
   "cell_type": "code",
   "execution_count": 20,
   "id": "4da7dca5-b900-464f-bb49-f19656fdd7d1",
   "metadata": {
    "tags": []
   },
   "outputs": [],
   "source": [
    "# CNN sınıfı\n",
    "class Net(nn.Module): # pytorch'tan neural network ile ilgili yapıları kullanacağız (inheritance)\n",
    "    # constructor\n",
    "    def __init__(self): # pytorch'tan neural network ile ilgili yapılar\n",
    "        super(Net, self).__init__() # inheritance\n",
    "        \n",
    "        # feature extraction\n",
    "        # 2D convolution layer\n",
    "        self.conv1 = nn.Conv2d(1, 10, 5) # 1 input image channel, 10 output channel, 5*5 convolution filtresi\n",
    "        self.pool = nn.MaxPool2d(2,2) # pooling layer\n",
    "        self.conv2 = nn.Conv2d(10, 16, 5) # 2. hidden layer\n",
    "        \n",
    "        # fully connected layer\n",
    "        self.fc1 = nn.Linear(16*13*5, 520) # ilk linear layer'ın input'u 16*13*5, output'u 520\n",
    "        self.fc2 = nn.Linear(520, 130)\n",
    "        self.fc3 = nn.Linear(130, num_classes)\n",
    "        \n",
    "    \n",
    "    # forward propagation\n",
    "    def forward(self, x): # x, input\n",
    "        \n",
    "        # conv1'in output'u relu aktivasyon fonksiyonuna girer\n",
    "        # F.relu(self.conv1(x))\n",
    "        # convolution layer 1'den sonra aktivasyon fonksiyonu (relu) belirlemiş oldum\n",
    "        \n",
    "        # bundan sonra pooling yapılır:\n",
    "        # input ilk önce convolution layer'dan çıkıyor, sonra relu sonrada pooling\n",
    "        x = self.pool(F.relu(self.conv1(x)))\n",
    "        \n",
    "        # 2. convolution layer\n",
    "        x = self.pool(F.relu(self.conv2(x)))\n",
    "        \n",
    "        # düzleştirelim (flatten)\n",
    "        x = x.view(-1, 16*13*5) # boyutu: 16*13*5, -1: kendisi hesaplar\n",
    "        \n",
    "        # fully connected layer\n",
    "        x = F.relu(self.fc1(x))\n",
    "        x = F.relu(self.fc2(x))\n",
    "        x = self.fc3(x)\n",
    "        \n",
    "        return x"
   ]
  },
  {
   "cell_type": "code",
   "execution_count": 21,
   "id": "965fa874-e96f-436e-8633-772dba74880b",
   "metadata": {},
   "outputs": [],
   "source": [
    "# TensorDataset metoduyla x_train ve y_train veri setini birleştirip, train veri setini elde edelim\n",
    "train = torch.utils.data.TensorDataset(x_train, y_train)"
   ]
  },
  {
   "cell_type": "code",
   "execution_count": 22,
   "id": "a4555118-a453-4f33-8204-7f1ed1e6f668",
   "metadata": {},
   "outputs": [],
   "source": [
    "# train veri setini network'e yükleyebilmek için data tipinde olmalı\n",
    "\n",
    "# x_train ve y_train tensor'dü ve TensorDataset ile birleştirildi ve tensor train veri seti oluşturuldu\n",
    "# train'i data çevirelim ve eğitime hazır hale getirelim:\n",
    "# shuffle=True: data'yı karıştırarak eğit\n",
    "trainloader = torch.utils.data.DataLoader(train, batch_size = batch_size, shuffle=True)"
   ]
  },
  {
   "cell_type": "code",
   "execution_count": 23,
   "id": "a690c7fb-b1c0-4ac8-938c-b55bb3b6513d",
   "metadata": {},
   "outputs": [],
   "source": [
    "# TensorDataset metoduyla x_test ve y_test veri setini birleştirip, test veri setini elde edelim\n",
    "test = torch.utils.data.TensorDataset(x_test, y_test)"
   ]
  },
  {
   "cell_type": "code",
   "execution_count": 24,
   "id": "cec0d9bf-01e1-4cbd-a487-cc4e184a1db3",
   "metadata": {},
   "outputs": [],
   "source": [
    "# test veri setini network'e yükleyebilmek için data tipinde olmalı\n",
    "testloader = torch.utils.data.DataLoader(test, batch_size = batch_size, shuffle=False)"
   ]
  },
  {
   "cell_type": "code",
   "execution_count": 25,
   "id": "8ac02b88-2e61-4a0c-ade4-e2dcd11662c0",
   "metadata": {},
   "outputs": [],
   "source": [
    "# CNN'ü tanımlayalım\n",
    "net = Net() # GPU'da çalıştıracaksak GPU'ya yollayalım: net = Net().to(device)"
   ]
  },
  {
   "cell_type": "code",
   "execution_count": null,
   "id": "cf6dc7b8-da0d-4308-9eb5-15180e603819",
   "metadata": {},
   "outputs": [],
   "source": []
  },
  {
   "cell_type": "markdown",
   "id": "1b2bb2d2-74b5-4a47-ae74-1c2d8f1cfa28",
   "metadata": {},
   "source": [
    "### IR Pedestrian Projesi: Python(Pytorch) ile CNN Loss Fonksiyonu ve Optimizer"
   ]
  },
  {
   "cell_type": "code",
   "execution_count": 26,
   "id": "77f858fc-2fa9-42a3-8bb3-3992621153d5",
   "metadata": {},
   "outputs": [],
   "source": [
    "criterion = nn.CrossEntropyLoss()"
   ]
  },
  {
   "cell_type": "code",
   "execution_count": 27,
   "id": "db0db80a-ae57-4b49-b72a-f5b0856a46bc",
   "metadata": {},
   "outputs": [],
   "source": [
    "# net.parameters(): weight'ler ve bias'lar (input)\n",
    "# Stochastic gradient descent(SGD)'in hızlanma parametresi\n",
    "optimizer = optim.SGD(net.parameters(), lr = learning_rate, momentum=0.8)"
   ]
  },
  {
   "cell_type": "code",
   "execution_count": null,
   "id": "ddc8ae20-9fbe-4c06-94c2-23f64a81e3de",
   "metadata": {},
   "outputs": [],
   "source": []
  },
  {
   "cell_type": "markdown",
   "id": "f630082a-cc9e-4cd7-bd97-2dfd31e87443",
   "metadata": {},
   "source": [
    "### IR Pedestrian Projesi: Python(Pytorch) ile CNN Modeli Eğitimi"
   ]
  },
  {
   "cell_type": "code",
   "execution_count": 28,
   "id": "7556ccba-3257-436f-b8da-89caf1a8e8b0",
   "metadata": {},
   "outputs": [],
   "source": [
    "# başlangıç zamanı\n",
    "start = time.time() # şu anki zaman"
   ]
  },
  {
   "cell_type": "code",
   "execution_count": 29,
   "id": "7affeb00-5a88-487f-879f-745f72678a53",
   "metadata": {},
   "outputs": [],
   "source": [
    "# train boyunca elde etmemiz gereken metrikler vardır: accuracy ve loss\n",
    "# accuracy ve loss'u depolayalım\n",
    "train_acc = []\n",
    "test_acc = []\n",
    "loss_list = [] # toplam hata"
   ]
  },
  {
   "cell_type": "code",
   "execution_count": 30,
   "id": "4d7c25e1-c5ef-477d-b113-f9a0a7b16050",
   "metadata": {},
   "outputs": [],
   "source": [
    "use_gpu = False # eğer gpu(grafik kartı) kullanılıyorsa True yapmalıyız"
   ]
  },
  {
   "cell_type": "code",
   "execution_count": 31,
   "id": "2104df1e-c39f-4b0b-a1fb-15b537fd7655",
   "metadata": {},
   "outputs": [],
   "source": [
    "# train"
   ]
  },
  {
   "cell_type": "code",
   "execution_count": 32,
   "id": "ac2c1138-eb73-4362-8afc-746371ebfcc1",
   "metadata": {},
   "outputs": [
    {
     "name": "stdout",
     "output_type": "stream",
     "text": [
      "accuracy test: 31.8631292212396\n",
      "accuracy test: 30.654128885406173\n",
      "accuracy test: 74.34605768871972\n",
      "accuracy test: 78.9021978432031\n",
      "accuracy test: 76.31628045822605\n",
      "accuracy test: 79.8257397664092\n",
      "accuracy test: 75.30504869584686\n",
      "accuracy test: 79.64476286428598\n",
      "accuracy test: 73.44303891936266\n",
      "accuracy test: 79.39102205306168\n",
      "accuracy test: 72.48404791223552\n",
      "accuracy test: 79.3163924027016\n",
      "accuracy test: 72.872122094108\n",
      "accuracy test: 79.70819806709206\n",
      "accuracy test: 73.33855740885853\n",
      "accuracy test: 80.11866114407253\n",
      "accuracy test: 73.65946490540692\n",
      "accuracy test: 80.45449457069293\n",
      "accuracy test: 73.8236501361991\n",
      "accuracy test: 80.80711966864435\n",
      "accuracy test: 73.81991865368111\n",
      "accuracy test: 81.03287436098361\n",
      "accuracy test: 73.93186312922124\n",
      "accuracy test: 81.34258740997798\n",
      "accuracy test: 74.05127056979738\n",
      "accuracy test: 81.63550878764133\n",
      "accuracy test: 74.20426135303556\n",
      "accuracy test: 81.89857830516064\n",
      "accuracy test: 74.35725213627374\n",
      "accuracy test: 82.10194410239188\n",
      "accuracy test: 74.4915855069219\n",
      "accuracy test: 82.36687936117019\n",
      "accuracy test: 74.56248367476398\n",
      "accuracy test: 82.58330534721445\n",
      "accuracy test: 74.70054852793015\n",
      "accuracy test: 82.78293966192768\n",
      "accuracy test: 74.78637262584425\n",
      "accuracy test: 83.00682861300795\n",
      "accuracy test: 74.92816896152841\n",
      "accuracy test: 83.19153699764917\n",
      "accuracy test: 75.04011343706854\n",
      "accuracy test: 83.35945371095936\n",
      "accuracy test: 75.13340050001865\n",
      "accuracy test: 83.52550468301057\n",
      "accuracy test: 75.2490764580768\n",
      "accuracy test: 83.70088436135677\n",
      "accuracy test: 75.36475241613493\n",
      "accuracy test: 83.84827792081794\n",
      "accuracy test: 75.45057651404903\n",
      "accuracy test: 84.00313444531513\n",
      "accuracy test: 75.54013209448114\n",
      "accuracy test: 84.15052800477629\n",
      "accuracy test: 75.68939139520131\n",
      "accuracy test: 84.30165304675548\n",
      "accuracy test: 75.7714840105974\n",
      "accuracy test: 84.42292622859063\n",
      "accuracy test: 75.83118773088547\n",
      "accuracy test: 84.54606515168476\n",
      "accuracy test: 75.93940072390761\n",
      "accuracy test: 84.69719019366394\n",
      "accuracy test: 76.00656740923169\n",
      "accuracy test: 84.82032911675809\n",
      "accuracy test: 76.07746557707377\n",
      "accuracy test: 84.94346803985223\n",
      "accuracy test: 76.15582670995187\n",
      "accuracy test: 85.05914399791037\n",
      "accuracy test: 76.22672487779394\n",
      "accuracy test: 85.1729542147095\n",
      "accuracy test: 76.32747490578006\n",
      "accuracy test: 85.29236165528565\n",
      "accuracy test: 76.43941938132019\n",
      "accuracy test: 85.40057464830777\n",
      "accuracy test: 76.51404903168029\n",
      "accuracy test: 85.52557931266092\n",
      "accuracy test: 76.62599350722041\n",
      "accuracy test: 85.60394044553901\n",
      "accuracy test: 76.70062315758051\n",
      "accuracy test: 85.72894510989217\n",
      "accuracy test: 76.79017873801261\n",
      "accuracy test: 85.82223217284228\n"
     ]
    },
    {
     "ename": "KeyboardInterrupt",
     "evalue": "",
     "output_type": "error",
     "traceback": [
      "\u001b[0;31m---------------------------------------------------------------------------\u001b[0m",
      "\u001b[0;31mKeyboardInterrupt\u001b[0m                         Traceback (most recent call last)",
      "Cell \u001b[0;32mIn[32], line 33\u001b[0m\n\u001b[1;32m     30\u001b[0m loss \u001b[38;5;241m=\u001b[39m criterion(outputs, labels)\n\u001b[1;32m     32\u001b[0m \u001b[38;5;66;03m# back propagation\u001b[39;00m\n\u001b[0;32m---> 33\u001b[0m loss\u001b[38;5;241m.\u001b[39mbackward() \u001b[38;5;66;03m# gradient'leri buldum\u001b[39;00m\n\u001b[1;32m     35\u001b[0m \u001b[38;5;66;03m# weight'leri güncelleyelim\u001b[39;00m\n\u001b[1;32m     36\u001b[0m optimizer\u001b[38;5;241m.\u001b[39mstep()\n",
      "File \u001b[0;32m~/anaconda3/lib/python3.11/site-packages/torch/_tensor.py:487\u001b[0m, in \u001b[0;36mTensor.backward\u001b[0;34m(self, gradient, retain_graph, create_graph, inputs)\u001b[0m\n\u001b[1;32m    477\u001b[0m \u001b[38;5;28;01mif\u001b[39;00m has_torch_function_unary(\u001b[38;5;28mself\u001b[39m):\n\u001b[1;32m    478\u001b[0m     \u001b[38;5;28;01mreturn\u001b[39;00m handle_torch_function(\n\u001b[1;32m    479\u001b[0m         Tensor\u001b[38;5;241m.\u001b[39mbackward,\n\u001b[1;32m    480\u001b[0m         (\u001b[38;5;28mself\u001b[39m,),\n\u001b[0;32m   (...)\u001b[0m\n\u001b[1;32m    485\u001b[0m         inputs\u001b[38;5;241m=\u001b[39minputs,\n\u001b[1;32m    486\u001b[0m     )\n\u001b[0;32m--> 487\u001b[0m torch\u001b[38;5;241m.\u001b[39mautograd\u001b[38;5;241m.\u001b[39mbackward(\n\u001b[1;32m    488\u001b[0m     \u001b[38;5;28mself\u001b[39m, gradient, retain_graph, create_graph, inputs\u001b[38;5;241m=\u001b[39minputs\n\u001b[1;32m    489\u001b[0m )\n",
      "File \u001b[0;32m~/anaconda3/lib/python3.11/site-packages/torch/autograd/__init__.py:200\u001b[0m, in \u001b[0;36mbackward\u001b[0;34m(tensors, grad_tensors, retain_graph, create_graph, grad_variables, inputs)\u001b[0m\n\u001b[1;32m    195\u001b[0m     retain_graph \u001b[38;5;241m=\u001b[39m create_graph\n\u001b[1;32m    197\u001b[0m \u001b[38;5;66;03m# The reason we repeat same the comment below is that\u001b[39;00m\n\u001b[1;32m    198\u001b[0m \u001b[38;5;66;03m# some Python versions print out the first line of a multi-line function\u001b[39;00m\n\u001b[1;32m    199\u001b[0m \u001b[38;5;66;03m# calls in the traceback and some print out the last line\u001b[39;00m\n\u001b[0;32m--> 200\u001b[0m Variable\u001b[38;5;241m.\u001b[39m_execution_engine\u001b[38;5;241m.\u001b[39mrun_backward(  \u001b[38;5;66;03m# Calls into the C++ engine to run the backward pass\u001b[39;00m\n\u001b[1;32m    201\u001b[0m     tensors, grad_tensors_, retain_graph, create_graph, inputs,\n\u001b[1;32m    202\u001b[0m     allow_unreachable\u001b[38;5;241m=\u001b[39m\u001b[38;5;28;01mTrue\u001b[39;00m, accumulate_grad\u001b[38;5;241m=\u001b[39m\u001b[38;5;28;01mTrue\u001b[39;00m)\n",
      "\u001b[0;31mKeyboardInterrupt\u001b[0m: "
     ]
    }
   ],
   "source": [
    "# 5000 tane epoch demek net'in 5000 kere train veri setiyle eğitilmesidir.\n",
    "for epoch in range(num_epochs):\n",
    "    for i, data in enumerate(trainloader, 0): # batch_size kullandığım için 1 for döngüsü daha oluşturdum\n",
    "        # trainloader, eğitim için kullanacağımız veri setidir.\n",
    "        # i: index, 0, 1, 2... trainloader'daki resim sayısı kadar olacak\n",
    "        \n",
    "        #### preprocess\n",
    "        # data: resimler ve resimlerin label'ları\n",
    "        inputs, labels = data # resim, resmin etiketi yani sınıfı (0/1 insan var mı yok mu ?)\n",
    "        # input'un boyutu: batch_size, 64*32\n",
    "        # view: reshape\n",
    "        # train için input'u düzleştirmeliyiz\n",
    "        inputs = inputs.view(batch_size, 1, 64, 32) # 1 tane renk kanalı, resmin boyutu 64*32\n",
    "        inputs = inputs.float()\n",
    "        \n",
    "        # GPU kullanmak için\n",
    "        if use_gpu:\n",
    "            if torch.cuda.is_available():\n",
    "                inputs, labels = inputs.to(device), labels.to(device)\n",
    "                \n",
    "        # gradient, CNN modelinin öğrenmesini sağlayacak türevler\n",
    "        # zero gradient\n",
    "        # başlangıçta gradientleri yani türevleri sıfırlamak zorundayım\n",
    "        optimizer.zero_grad() # gradientler sıfırlanır.\n",
    "        \n",
    "        # forward propagation\n",
    "        outputs = net(inputs)\n",
    "        \n",
    "        # loss\n",
    "        loss = criterion(outputs, labels)\n",
    "        \n",
    "        # back propagation\n",
    "        loss.backward() # gradient'leri buldum\n",
    "        \n",
    "        # weight'leri güncelleyelim\n",
    "        optimizer.step()\n",
    "        \n",
    "    # her epoch tamamlandıktan sonra test ve train sonuçlarına bakalım\n",
    "    # eğitilen CNN'in accuracy değerleri\n",
    "    \n",
    "    # test\n",
    "    correct = 0 # test veri setinde ne kadar doğru bildi ?\n",
    "    total = 0 # ne kadar veri var\n",
    "    \n",
    "    # oto grad engine kapatalım\n",
    "    with torch.no_grad(): # bu komut ile back propagation kapatılır\n",
    "        for data in testloader:\n",
    "            # resimler, resimlerin sınıfları\n",
    "            images, labels = data\n",
    "            \n",
    "            # resimleri reshape yapalım\n",
    "            images = images.view(batch_size, 1, 64, 32)\n",
    "            images = images.float() # float'a çevirdim\n",
    "            \n",
    "            # GPU kullanmak için\n",
    "            if use_gpu:\n",
    "                if torch.cuda.is_available():\n",
    "                    images, labels = inputs.to(device), labels.to(device)\n",
    "                    \n",
    "            # resimlerin doğru olup olmadığını test edelim\n",
    "            # CNN'e resimleri yolladım\n",
    "            outputs = net(images)\n",
    "            \n",
    "            # outputs doğru mu yanlış mı?\n",
    "            # output'un data'sından maksimum değeri çekeceğim\n",
    "            # maksimum değer tahmin(predict) edilecek\n",
    "            _, predicted = torch.max(outputs.data, 1) # outputs yani tahminler 0 ya da 1 dir\n",
    "            # 1: dimension. Yani bu  aramayı satılarda mı yoksa sutunlarda mı yapacak anlamına geliyor. 1 demek satırlarda ara demek.\n",
    "            \n",
    "            total += labels.size(0) # toplam veri sayısı bulunur\n",
    "            \n",
    "            # doğru tahminleri toplayalım\n",
    "            correct += (predicted == labels).sum().item() # true 1 demek, false 0 demek\n",
    "            # item() ile int değer elde ederim\n",
    "        \n",
    "        acc1 = 100*correct/total\n",
    "        print(\"accuracy test:\", acc1)\n",
    "        test_acc.append(acc1)\n",
    "        \n",
    "        \n",
    "        # train\n",
    "        correct = 0 # train veri setinde ne kadar doğru bildi ?\n",
    "        total = 0 # ne kadar veri var\n",
    "    \n",
    "        # oto grad engine kapatalım\n",
    "        with torch.no_grad(): # bu komut ile back propagation kapatılır\n",
    "            for data in trainloader:\n",
    "                # resimler, resimlerin sınıfları\n",
    "                images, labels = data\n",
    "            \n",
    "                # resimleri reshape yapalım\n",
    "                images = images.view(batch_size, 1, 64, 32)\n",
    "                images = images.float() # float'a çevirdim\n",
    "            \n",
    "                # GPU kullanmak için\n",
    "                if use_gpu:\n",
    "                    if torch.cuda.is_available():\n",
    "                        images, labels = inputs.to(device), labels.to(device)\n",
    "                    \n",
    "                # resimlerin doğru olup olmadığını test edelim\n",
    "                # CNN'e resimleri yolladım\n",
    "                outputs = net(images)\n",
    "            \n",
    "                # outputs doğru mu yanlış mı?\n",
    "                # output'un data'sından maksimum değeri çekeceğim\n",
    "                # maksimum değer tahmin(predict) edilecek\n",
    "                _, predicted = torch.max(outputs.data, 1) # outputs yani tahminler 0 ya da 1 dir\n",
    "                # 1: dimension. Yani bu  aramayı satılarda mı yoksa sutunlarda mı yapacak anlamına geliyor. 1 demek satırlarda ara demek.\n",
    "            \n",
    "                total += labels.size(0) # toplam veri sayısı bulunur\n",
    "            \n",
    "                # doğru tahminleri toplayalım\n",
    "                correct += (predicted == labels).sum().item() # true 1 demek, false 0 demek\n",
    "                # item() ile int değer elde ederim\n",
    "        \n",
    "            acc2 = 100*correct/total\n",
    "            print(\"accuracy test:\", acc2)\n",
    "            train_acc.append(acc2)      "
   ]
  },
  {
   "cell_type": "raw",
   "id": "d2242d9c-afa7-453d-8180-29e7c9da9268",
   "metadata": {
    "tags": []
   },
   "source": [
    " _, predicted = torch.max(outputs.data, 1)\n",
    " \n",
    "# outputs yani tahminler 0 ya da 1 dir\n",
    "# 1: dimension. Yani bu  aramayı satılarda mı yoksa sutunlarda mı yapacak anlamına geliyor. 1 demek satırlarda ara demek.\n",
    "\n",
    "Outputlar negative ve positive durumlar icin probability matrisi olarak cikiyo, yani;\n",
    "[0.36,    0.64] gibi.\n",
    "_, predicted = torch.max(outputs, 1)\n",
    "predicted tensoru icindeki en yuksek probability'ye sahip olan class'i return eder.\n",
    "Bunu numpy.argmax'la yapiyoduk Keras sonrasi prediction kisminda."
   ]
  },
  {
   "cell_type": "code",
   "execution_count": null,
   "id": "375e0f11-2ae2-406b-8950-4486ee2d0352",
   "metadata": {},
   "outputs": [],
   "source": [
    "print(\"train tamamlandı\")"
   ]
  },
  {
   "cell_type": "code",
   "execution_count": null,
   "id": "1fc21edb-9231-44a6-ba20-a1e9a5c63e5c",
   "metadata": {},
   "outputs": [],
   "source": [
    "end = time.time() # bu andaki zaman"
   ]
  },
  {
   "cell_type": "code",
   "execution_count": null,
   "id": "55cfab7b-4c57-4197-bd7c-a3db51a6cbea",
   "metadata": {},
   "outputs": [],
   "source": [
    "# arada geçen zaman\n",
    "process_time = (end - start)/60\n",
    "print(\"process_time:\", process_time)"
   ]
  },
  {
   "cell_type": "code",
   "execution_count": null,
   "id": "2d9684c1-a3de-44a1-8ce8-11fcabe15b9c",
   "metadata": {},
   "outputs": [],
   "source": []
  },
  {
   "cell_type": "code",
   "execution_count": null,
   "id": "efbd20d4-c00c-48a2-bbd3-58afaef91d42",
   "metadata": {},
   "outputs": [],
   "source": []
  },
  {
   "cell_type": "code",
   "execution_count": null,
   "id": "555f4a9b-b87e-44dd-aa55-5dd7c48f5c3d",
   "metadata": {},
   "outputs": [],
   "source": []
  },
  {
   "cell_type": "code",
   "execution_count": null,
   "id": "62ee8b14-d1e7-42a8-83e0-98425bb2971f",
   "metadata": {},
   "outputs": [],
   "source": []
  },
  {
   "cell_type": "code",
   "execution_count": null,
   "id": "99e3a47f-bef6-4e55-b70d-c93b51c0fced",
   "metadata": {},
   "outputs": [],
   "source": []
  },
  {
   "cell_type": "code",
   "execution_count": null,
   "id": "a582f86b-df62-4eef-8f18-2cb48be61556",
   "metadata": {},
   "outputs": [],
   "source": []
  }
 ],
 "metadata": {
  "kernelspec": {
   "display_name": "Python 3 (ipykernel)",
   "language": "python",
   "name": "python3"
  },
  "language_info": {
   "codemirror_mode": {
    "name": "ipython",
    "version": 3
   },
   "file_extension": ".py",
   "mimetype": "text/x-python",
   "name": "python",
   "nbconvert_exporter": "python",
   "pygments_lexer": "ipython3",
   "version": "3.11.4"
  }
 },
 "nbformat": 4,
 "nbformat_minor": 5
}
