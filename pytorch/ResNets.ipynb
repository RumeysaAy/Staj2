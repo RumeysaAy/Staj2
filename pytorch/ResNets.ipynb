{
 "cells": [
  {
   "cell_type": "markdown",
   "id": "ed5eab57-76e2-4a50-9b43-3f9df21bbcdb",
   "metadata": {},
   "source": [
    "# Deep Residual Networks (ResNets)"
   ]
  },
  {
   "cell_type": "code",
   "execution_count": 1,
   "id": "7093da99-2bdd-4427-a1d2-acbe84c04787",
   "metadata": {},
   "outputs": [],
   "source": [
    "# pytorch\n",
    "import torch\n",
    "import torch.nn as nn # neural network yapısı\n",
    "import torch.utils.data # data'yı pytorch'a uygun hale getirebilmek için kullanacağız\n",
    "import torch.optim as optim\n",
    "\n",
    "from PIL import Image # resimleri preprocess yaparken kullanırız\n",
    "\n",
    "# görselleştirme\n",
    "import matplotlib.pyplot as plt\n",
    "\n",
    "import numpy as np\n",
    "import os # resimleri import etmek için"
   ]
  },
  {
   "cell_type": "markdown",
   "id": "55c9a642-4415-4654-a0ef-c8404bff3fde",
   "metadata": {},
   "source": [
    "GPU, grafik kartıdır. grafik kartı, neural network yapılarında CPU'dan çok daha hızlı çalışıyor bu yüzden kodları GPU yani grafik kartta çalıştırabiliriz böylece daha hızlı olur. default olarak kodlar CPU'da çalışır. GPU'da çalıştırmak için:"
   ]
  },
  {
   "cell_type": "code",
   "execution_count": 2,
   "id": "0ac8ffdd-f6dc-455b-ba96-9cc68e7a2a00",
   "metadata": {},
   "outputs": [
    {
     "name": "stdout",
     "output_type": "stream",
     "text": [
      "Device: cpu\n"
     ]
    }
   ],
   "source": [
    "# cuda indirilip kurulmalı\n",
    "device = torch.device(\"cuda:0\" if torch.cuda.is_available() else \"cpu\")\n",
    "print(\"Device:\", device)"
   ]
  },
  {
   "cell_type": "markdown",
   "id": "1fc775c2-a57c-4e47-a5e0-b0ace7583bc4",
   "metadata": {},
   "source": [
    "### Veri setini okumak için kullandığımız metot:\n",
    "\n",
    "İlgili klasörden istediğimiz resimleri okuyarak, bu resimleri istediğimiz bir konumda depoluyoruz."
   ]
  },
  {
   "cell_type": "code",
   "execution_count": 3,
   "id": "2cf0e22e-b801-4271-8167-9535d7ecf0f4",
   "metadata": {},
   "outputs": [],
   "source": [
    "# resimleri yüklemek için\n",
    "# ilgili klasördeki tüm resimleri alıp array isimli parametreye yükler\n",
    "\n",
    "def read_images(path, num_img): # path: klasörün yolu, num_img: kaç tane resim okunacak\n",
    "    # array: num_img satır, 64*32 sütundan oluşur ve bütün elemanları 0'dır.\n",
    "    array = np.zeros([num_img, 64*32]) # resimlerin boyutu 64 satır, 32 sütun\n",
    "    # her bir satır bir tane resim olacak\n",
    "    \n",
    "    i = 0\n",
    "    # path'in içerisindeki bütün resimleri yükler\n",
    "    # path klasörün yolu\n",
    "    # img ise o klasörün altındaki dosyalar\n",
    "    for img in os.listdir(path): \n",
    "        img_path = path + \"//\" + img\n",
    "        img = Image.open(img_path, mode=\"r\") # read\n",
    "        data = np.asarray(img, dtype = \"uint8\") # unit8'e çevirelim\n",
    "        # resimi array'de depolamak için düzleştirelim\n",
    "        data = data.flatten() # 5*5 -> 1*25\n",
    "        array[i,:] = data # i. satırın bütün sütunlarına düzleştirilen data'yı yazdır.\n",
    "        i += 1\n",
    "        \n",
    "    return array"
   ]
  },
  {
   "cell_type": "markdown",
   "id": "bfd4fdde-1f14-49e6-9724-ecd301fedff9",
   "metadata": {},
   "source": [
    "### Veri setlerini okuyup, birleştirdiğimiz bölüm:"
   ]
  },
  {
   "cell_type": "markdown",
   "id": "96693d3f-2708-477d-984a-6acacc796506",
   "metadata": {},
   "source": [
    "#### train - negatif"
   ]
  },
  {
   "cell_type": "code",
   "execution_count": 4,
   "id": "afda8005-7e8f-4c08-aa65-b9dc0e207d2e",
   "metadata": {},
   "outputs": [],
   "source": [
    "train_neg_path = r\"LSIFIR/Classification/Train/neg\"\n",
    "num_train_neg_img = 43390\n",
    "train_negative_array = read_images(train_neg_path, num_train_neg_img)"
   ]
  },
  {
   "cell_type": "code",
   "execution_count": 5,
   "id": "f2571e0e-9613-4782-93ab-e42aad44ed96",
   "metadata": {
    "tags": []
   },
   "outputs": [
    {
     "name": "stdout",
     "output_type": "stream",
     "text": [
      "x_train_negative_tensor: torch.Size([42000, 2048])\n"
     ]
    }
   ],
   "source": [
    "# pytorch kütüphanesinin numpy ile bir arayüzü var \n",
    "# olduğundan numpy array'i pytorch array'e çevirebilirim\n",
    "# numpy'da array, torch'da tensor kullanılır.\n",
    "\n",
    "# ilk 42000 resmi yani input'ları yükledik (x)\n",
    "x_train_negative_tensor = torch.from_numpy(train_negative_array[:42000,:])\n",
    "print(\"x_train_negative_tensor:\", x_train_negative_tensor.size())"
   ]
  },
  {
   "cell_type": "markdown",
   "id": "3a69dca0-9913-4be6-aef6-4c212ceb5c5a",
   "metadata": {},
   "source": [
    "x_train_negative_tensor içerisinde 43390 tane resim vardır."
   ]
  },
  {
   "cell_type": "code",
   "execution_count": 6,
   "id": "b0682e4f-181b-4ff3-bf20-a1473af55e1a",
   "metadata": {
    "tags": []
   },
   "outputs": [
    {
     "name": "stdout",
     "output_type": "stream",
     "text": [
      "y_train_negative_tensor: torch.Size([42000])\n"
     ]
    }
   ],
   "source": [
    "# bu resimlerin label'larını yükleyelim\n",
    "# label y\n",
    "# yaya olmadığı için label 0 olsun\n",
    "y_train_negative_tensor = torch.zeros(42000, dtype=torch.long)\n",
    "print(\"y_train_negative_tensor:\", y_train_negative_tensor.size())"
   ]
  },
  {
   "cell_type": "markdown",
   "id": "98b3b235-74b5-465e-8869-5e96987646f6",
   "metadata": {},
   "source": [
    "#### train - pozitif"
   ]
  },
  {
   "cell_type": "code",
   "execution_count": 7,
   "id": "549a3b3b-9c2c-47f0-b52d-59e396462c12",
   "metadata": {},
   "outputs": [],
   "source": [
    "train_pos_path = r\"LSIFIR/Classification/Train/pos\"\n",
    "num_train_pos_img = 10208\n",
    "train_positive_array = read_images(train_pos_path, num_train_pos_img)"
   ]
  },
  {
   "cell_type": "code",
   "execution_count": 8,
   "id": "8714e2a0-033b-4d04-ad89-8501b7943cf9",
   "metadata": {
    "tags": []
   },
   "outputs": [
    {
     "name": "stdout",
     "output_type": "stream",
     "text": [
      "x_train_positive_tensor: torch.Size([10000, 2048])\n"
     ]
    }
   ],
   "source": [
    "# pytorch kütüphanesinin numpy ile bir arayüzü var \n",
    "# olduğundan numpy array'i pytorch array'e çevirebilirim\n",
    "# numpy'da array, torch'da tensor kullanılır.\n",
    "\n",
    "# resimleri yani input'ları yükledik (x)\n",
    "x_train_positive_tensor = torch.from_numpy(train_positive_array[:10000,:])\n",
    "print(\"x_train_positive_tensor:\", x_train_positive_tensor.size())"
   ]
  },
  {
   "cell_type": "code",
   "execution_count": 9,
   "id": "70b6a5c3-2f6f-4475-855c-27d4309c4f06",
   "metadata": {
    "tags": []
   },
   "outputs": [
    {
     "name": "stdout",
     "output_type": "stream",
     "text": [
      "y_train_positive_tensor: torch.Size([10000])\n"
     ]
    }
   ],
   "source": [
    "# bu resimlerin label'larını yükleyelim\n",
    "# label y\n",
    "# yaya olduğu için label 1 olsun\n",
    "y_train_positive_tensor = torch.ones(10000, dtype=torch.long)\n",
    "print(\"y_train_positive_tensor:\", y_train_positive_tensor.size())"
   ]
  },
  {
   "cell_type": "markdown",
   "id": "0ed6c855-0e6e-4c97-9f6b-89f7cd8eec0f",
   "metadata": {},
   "source": [
    "y_train_positive_tensor içerisinde 10208 tane resim vardır."
   ]
  },
  {
   "cell_type": "markdown",
   "id": "94a8fb18-b266-4e10-baaf-2105d4325f5c",
   "metadata": {},
   "source": [
    "#### train-pos ve train-neg veri setlerini birleştirip train veri setini oluşturalım"
   ]
  },
  {
   "cell_type": "code",
   "execution_count": 10,
   "id": "2ea215af-bfb4-42f1-988b-dae6f57852be",
   "metadata": {
    "tags": []
   },
   "outputs": [
    {
     "name": "stdout",
     "output_type": "stream",
     "text": [
      "x_train: torch.Size([52000, 2048])\n",
      "y_train: torch.Size([52000])\n"
     ]
    }
   ],
   "source": [
    "# concat\n",
    "# birleştirirken yukarıdan aşağıya doğru birleştireceğim (alt alta): 0 (satırlar birleştirilir)\n",
    "x_train = torch.cat((x_train_negative_tensor, x_train_positive_tensor), 0) # input\n",
    "y_train = torch.cat((y_train_negative_tensor, y_train_positive_tensor), 0) # label\n",
    "\n",
    "print(\"x_train:\", x_train.size())\n",
    "print(\"y_train:\", y_train.size())"
   ]
  },
  {
   "cell_type": "markdown",
   "id": "079e67c7-2123-481f-8188-b095ac4b025e",
   "metadata": {},
   "source": [
    "#### test - neg"
   ]
  },
  {
   "cell_type": "code",
   "execution_count": 11,
   "id": "6e667d8a-9002-48e8-a7bf-388551e3c769",
   "metadata": {},
   "outputs": [],
   "source": [
    "test_neg_path = r\"LSIFIR/Classification/Test/neg\"\n",
    "num_test_neg_img = 22050\n",
    "test_negative_array = read_images(test_neg_path, num_test_neg_img)"
   ]
  },
  {
   "cell_type": "code",
   "execution_count": 12,
   "id": "45caf4cf-5245-431d-ab32-818dce0dbeaa",
   "metadata": {
    "tags": []
   },
   "outputs": [
    {
     "name": "stdout",
     "output_type": "stream",
     "text": [
      "x_test_negative_tensor: torch.Size([18056, 2048])\n"
     ]
    }
   ],
   "source": [
    "# pytorch kütüphanesinin numpy ile bir arayüzü var \n",
    "# olduğundan numpy array'i pytorch array'e çevirebilirim\n",
    "# numpy'da array, torch'da tensor kullanılır.\n",
    "\n",
    "# resimleri yani input'ları yükledik (x)\n",
    "x_test_negative_tensor = torch.from_numpy(test_negative_array[:18056,:])\n",
    "print(\"x_test_negative_tensor:\", x_test_negative_tensor.size())"
   ]
  },
  {
   "cell_type": "code",
   "execution_count": 13,
   "id": "29179863-c7cb-4477-9203-a96c0d0ff4ae",
   "metadata": {
    "tags": []
   },
   "outputs": [
    {
     "name": "stdout",
     "output_type": "stream",
     "text": [
      "y_test_negative_tensor: torch.Size([18056])\n"
     ]
    }
   ],
   "source": [
    "# bu resimlerin label'larını yükleyelim\n",
    "# label y\n",
    "# yaya olmadığı için label 0 olsun\n",
    "y_test_negative_tensor = torch.zeros(18056, dtype=torch.long)\n",
    "print(\"y_test_negative_tensor:\", y_test_negative_tensor.size())"
   ]
  },
  {
   "cell_type": "markdown",
   "id": "2e6b1717-8ab6-4cc7-982c-f1993892809b",
   "metadata": {},
   "source": [
    "#### test - pos"
   ]
  },
  {
   "cell_type": "code",
   "execution_count": 14,
   "id": "887c2671-dd3d-45ea-984b-8e60771f1e2c",
   "metadata": {},
   "outputs": [],
   "source": [
    "test_pos_path = r\"LSIFIR/Classification/Test/pos\"\n",
    "num_test_pos_img = 5944\n",
    "test_positive_array = read_images(test_pos_path, num_test_pos_img)"
   ]
  },
  {
   "cell_type": "code",
   "execution_count": 15,
   "id": "1aae7327-4abc-4f6b-ac46-f86fcc1fede0",
   "metadata": {},
   "outputs": [
    {
     "name": "stdout",
     "output_type": "stream",
     "text": [
      "x_test_positive_tensor: torch.Size([5944, 2048])\n"
     ]
    }
   ],
   "source": [
    "x_test_positive_tensor = torch.from_numpy(test_positive_array)\n",
    "print(\"x_test_positive_tensor:\", x_test_positive_tensor.size())"
   ]
  },
  {
   "cell_type": "code",
   "execution_count": 16,
   "id": "c0c388bf-89c4-4b3e-941d-93310de2099b",
   "metadata": {},
   "outputs": [
    {
     "name": "stdout",
     "output_type": "stream",
     "text": [
      "y_test_positive_tensor: torch.Size([5944])\n"
     ]
    }
   ],
   "source": [
    "# bu resimlerin label'larını yükleyelim\n",
    "# label y\n",
    "# yaya olduğu için label 1 olsun\n",
    "y_test_positive_tensor = torch.ones(num_test_pos_img, dtype=torch.long)\n",
    "print(\"y_test_positive_tensor:\", y_test_positive_tensor.size())"
   ]
  },
  {
   "cell_type": "markdown",
   "id": "7f2f86db-627c-4c5b-b2bf-2b7fdbdf5291",
   "metadata": {},
   "source": [
    "#### test-pos ve test-neg veri setlerini birleştirip train veri setini oluşturalım"
   ]
  },
  {
   "cell_type": "code",
   "execution_count": 17,
   "id": "c6b00ca0-510c-4040-8445-3e3300515d81",
   "metadata": {
    "tags": []
   },
   "outputs": [
    {
     "name": "stdout",
     "output_type": "stream",
     "text": [
      "x_test: torch.Size([24000, 2048])\n",
      "y_test: torch.Size([24000])\n"
     ]
    }
   ],
   "source": [
    "# concat\n",
    "# birleştirirken yukarıdan aşağıya doğru birleştireceğim (alt alta): 0 (satırlar birleştirilir)\n",
    "x_test = torch.cat((x_test_negative_tensor, x_test_positive_tensor), 0) # input\n",
    "y_test = torch.cat((y_test_negative_tensor, y_test_positive_tensor), 0) # label\n",
    "\n",
    "print(\"x_test:\", x_test.size())\n",
    "print(\"y_test:\", y_test.size())"
   ]
  },
  {
   "cell_type": "code",
   "execution_count": 18,
   "id": "21ad93a2-a1db-49a2-a83b-f00e42cdf47f",
   "metadata": {
    "tags": []
   },
   "outputs": [
    {
     "data": {
      "image/png": "[encoded data removed]",
      "text/plain": [
       "<Figure size 640x480 with 1 Axes>"
      ]
     },
     "metadata": {},
     "output_type": "display_data"
    }
   ],
   "source": [
    "# herhangi bir resmi görselleştirelim\n",
    "plt.imshow(x_train[43600,:].reshape(64,32), cmap=\"gray\")\n",
    "plt.show()"
   ]
  },
  {
   "cell_type": "code",
   "execution_count": null,
   "id": "9460bf57-3ed5-4aa2-8476-18a384cd8ce3",
   "metadata": {},
   "outputs": [],
   "source": []
  },
  {
   "cell_type": "markdown",
   "id": "21bb6b84-4ec6-4fe7-964b-d8d66db1870f",
   "metadata": {},
   "source": [
    "Resimleri yükledik, veri setimizi oluşturduk. Şimdi ise bu array'leri pytorch'a uygun hale getirelim."
   ]
  },
  {
   "cell_type": "code",
   "execution_count": 19,
   "id": "167d424c-2406-4312-bb80-02de949d5e1e",
   "metadata": {},
   "outputs": [],
   "source": [
    "num_classes = 2 # insan içeren ve içermeyen resimler"
   ]
  },
  {
   "cell_type": "code",
   "execution_count": 20,
   "id": "750c9333-7162-4001-a882-749fa8f4a6b1",
   "metadata": {},
   "outputs": [],
   "source": [
    "### Hiperparametreler\n",
    "num_epochs = 100\n",
    "batch_size = 2000\n",
    "learning_rate = 0.0001"
   ]
  },
  {
   "cell_type": "code",
   "execution_count": 21,
   "id": "9b1bd89b-ccd7-4049-bd03-88a8db1e066d",
   "metadata": {},
   "outputs": [],
   "source": [
    "# x_train ve y_train'i birleştirelim ve train tensor elde edilir\n",
    "train = torch.utils.data.TensorDataset(x_train, y_train)\n",
    "# DataLoader metoduyla batch_size belirlenir ve shuffle = True (verileri karıştır)\n",
    "trainloader = torch.utils.data.DataLoader(train, batch_size = batch_size, shuffle = True)"
   ]
  },
  {
   "cell_type": "code",
   "execution_count": 22,
   "id": "359a5023-60b2-48e2-a871-be8c520e1ddc",
   "metadata": {},
   "outputs": [],
   "source": [
    "test = torch.utils.data.TensorDataset(x_test, y_test)\n",
    "testloader = torch.utils.data.DataLoader(test, batch_size = batch_size, shuffle = False)"
   ]
  },
  {
   "cell_type": "code",
   "execution_count": 23,
   "id": "14fe7c42-b36a-4e9f-91b0-ea9365ec90ea",
   "metadata": {},
   "outputs": [],
   "source": [
    "# train ve test için kullanılacak olan veri setlerini trainloader ve testloader oluşturuldu."
   ]
  },
  {
   "cell_type": "code",
   "execution_count": null,
   "id": "4b60b9e4-3a77-4003-aa26-cb9198e5be3b",
   "metadata": {},
   "outputs": [],
   "source": []
  },
  {
   "cell_type": "markdown",
   "id": "d954f734-55c1-440c-b89b-f9da7d28754f",
   "metadata": {},
   "source": [
    "### IR Pedestrian Projesi: Python(Pytorch) ile Deep Residual Basic Block"
   ]
  },
  {
   "cell_type": "markdown",
   "id": "94ec26e1-0e96-4013-bf47-2fb2c053a6ca",
   "metadata": {},
   "source": [
    "**Padding:**\n",
    "\n",
    "Normalde bir filtre resmin üzerinde dolaştırıldığında, çıktı (output) resmi orijinal resimden daha küçük olur. Bu küçülmenin önlenmesi için padding (doldurma) işlemi yapılır.\n",
    "\n",
    "Örnek olarak, 4x4 boyutundaki bir resmin üzerinde 2x2 boyutundaki bir filtre (stride = 1) kullanırsak, sonuç olarak 3x3 boyutunda bir çıktı elde ederiz.\n",
    "\n",
    "Ancak, çıktının orijinal resimle aynı boyutta olmasını istiyorsak, giriş (input) resminin (örneğin 4x4) etrafına padding ekleriz ve boyutunu artırırız.\n",
    "\n",
    "Boyutun azaltılmaması, low level layer'lardaki (ilk layer'lar) bilgi kaybını engeller."
   ]
  },
  {
   "cell_type": "code",
   "execution_count": 24,
   "id": "d202fd36-80ef-450e-950a-bb0922e0d483",
   "metadata": {},
   "outputs": [],
   "source": [
    "# 1. convolutional layer\n",
    "# filtre: 3x3 (kernel_size)\n",
    "def conv3x3(in_planes, out_planes, stride = 1): # input channel, output channel\n",
    "    # in_planes, input resimindeki kanal sayısıdır: RGB 3, gray scale ise 1\n",
    "    # out_planes ise layer'daki nöron sayısı\n",
    "    # stride, bir resim üzerinde filtreyle (kernel ile) tarama yaparken, 1 ise 1'er 1'er atlayarak tarama yapılır\n",
    "    return nn.Conv2d(in_planes, out_planes, kernel_size = 3, stride = stride, padding = 1, bias = False)\n"
   ]
  },
  {
   "cell_type": "code",
   "execution_count": 25,
   "id": "47d6154c-56bc-468b-92a1-3126478c8a90",
   "metadata": {},
   "outputs": [],
   "source": [
    "# Batch normalizasyon yapılacağından bias'a gerek yoktur."
   ]
  },
  {
   "cell_type": "code",
   "execution_count": 26,
   "id": "c47321ac",
   "metadata": {},
   "outputs": [],
   "source": [
    "# 2. convolutional layer\n",
    "# filtre: 1x1 (kernel_size)\n",
    "def conv1x1(in_planes, out_planes, stride = 1): # input channel, output channel\n",
    "    # in_planes, input resimindeki kanal sayısıdır: RGB 3, gray scale ise 1\n",
    "    # out_planes ise layer'daki nöron sayısı\n",
    "    # stride, bir resim üzerinde filtreyle (kernel ile) tarama yaparken, 1 ise 1'er 1'er atlayarak tarama yapılır\n",
    "    return nn.Conv2d(in_planes, out_planes, kernel_size = 1, stride = stride, bias = False)"
   ]
  },
  {
   "attachments": {
    "870c8ae2-a19e-4a5b-a8d2-65d8c914f4b6.png": {
     "image/png": "[encoded data removed]"
    }
   },
   "cell_type": "markdown",
   "id": "9605fe2c-ee4c-4af4-ac07-e75fd921a7f2",
   "metadata": {},
   "source": [
    "### Basic Block\n",
    "\n",
    "![resnet.png](attachment:870c8ae2-a19e-4a5b-a8d2-65d8c914f4b6.png)"
   ]
  },
  {
   "cell_type": "code",
   "execution_count": 27,
   "id": "60988c69-9336-49af-a6e5-ddb4cd935de4",
   "metadata": {},
   "outputs": [],
   "source": [
    "# basic block\n",
    "class BasicBlock(nn.Module): # pytorch'un neural network Module sınıfını inherit etti (miras aldı)\n",
    "    # nn.Module sınıfdaki bazı fonksiyonları kullanmak için\n",
    "    \n",
    "    expansion = 1\n",
    "    \n",
    "    # input channel, output channel\n",
    "    def __init__(self,inplanes, planes, stride = 1, downsample = None):\n",
    "        super(BasicBlock,self).__init__()\n",
    "        # BasicBlock neural network Module sınıfını başlatıyor\n",
    "        # o sınıfdaki metotları kullanabilirim\n",
    "        \n",
    "        # basic block oluşturulur:\n",
    "        # conv, bn, relu, stride, downsample\n",
    "        \n",
    "        # batch normalizasyon her layer'da normalizasyon yapmak demekti\n",
    "        \n",
    "        self.conv1 = conv3x3(inplanes, planes, stride) # input channel, output channel, stride\n",
    "        self.bn1 = nn.BatchNorm2d(planes) # conv1'in output'u bn1'in input'u oldu.\n",
    "        \n",
    "        # ReLU aktivasyon fonksiyonunu çağırdıktan sonra sonucunu kendisine eşitle\n",
    "        self.relu = nn.ReLU(inplace = True) # aktivasyon fonksiyonu\n",
    "        \n",
    "        # dropout ile rastgele node'lar kapatılır, overfitting önlenir.\n",
    "        self.drop = nn.Dropout(0.9)\n",
    "        \n",
    "        self.conv2 = conv3x3(planes, planes) # input channel, output channel\n",
    "        self.bn2 = nn.BatchNorm2d(planes) # output channel\n",
    "        \n",
    "        self.downsample = downsample\n",
    "        self.stride = stride\n",
    "        # basic bloklarımızı tanımladık\n",
    "        \n",
    "    # forward ile basic blokları birbirine bağlayalım\n",
    "    def forward(self, x): # içerisinde bulunduğu sınıfın objesi, input\n",
    "        identity = x # shortcut yani x aşağıdaki layer'ların paralelinde gelir\n",
    "        # ve relu'dan önce toplanır\n",
    "        \n",
    "        # 1. kısım\n",
    "        out = self.conv1(x) # convolutional layer\n",
    "        out = self.bn1(out) # BatchNorm2d\n",
    "        out = self.relu(out) # aktivasyon fonksiyonu\n",
    "        out = self.drop(out) # Dropout\n",
    "        # 2. kısım\n",
    "        out = self.conv2(out) # convolutional layer\n",
    "        out = self.bn2(out) # BatchNorm2d\n",
    "        out = self.drop(out) # Dropout\n",
    "        \n",
    "        # identity ve out'u toplamamız için aynı boyutta olmalılar\n",
    "        # bu yüzden downsample yapalım\n",
    "        if self.downsample is not None: # eğer downsample varsa\n",
    "            identity = self.downsample(x) # out ile boyutlar eşitlenir.\n",
    "        \n",
    "        out += identity # shortcut yani x\n",
    "        \n",
    "        out = self.relu(out) # aktivasyon fonksiyonu\n",
    "        \n",
    "        return out"
   ]
  },
  {
   "cell_type": "code",
   "execution_count": 28,
   "id": "6b8cbe09-aa3d-4b1a-a36b-25ce737bdfcb",
   "metadata": {},
   "outputs": [],
   "source": [
    "# stride 1 olduğunda sorun yoktur fakat stride 2 ise boyut azalır bu yüzden x (identity)\n",
    "# ve out toplanamaz çünkü out'un boyutu daha küçük olur\n",
    "# bu yüzden eğer stride 2 ise identity'e downsample yapmak zorundayım"
   ]
  },
  {
   "cell_type": "code",
   "execution_count": 29,
   "id": "727cd656-1893-4e7e-8727-53aba0046b6a",
   "metadata": {},
   "outputs": [],
   "source": [
    "# downsample:\n",
    "# conv ve batchnorm olacak (sağda)\n",
    "# sol taraftakiyle aynı stride \n",
    "# böylece sol ve sağ (identity) taraftaki size'lar birbirine eşit olur"
   ]
  },
  {
   "cell_type": "markdown",
   "id": "06fcd59b-ad7e-4438-98b6-60436a50ac2c",
   "metadata": {},
   "source": [
    "BatchNorm, normalizasyonun her bir layer’da yapılmış halidir. input, her layer’dan sonra aktivasyon fonksiyonuna giriyor, aktivasyon fonksiyonundan çıkan output normalize ediliyor. Her bir layer’da normalize işleminin yapılmasıdır."
   ]
  },
  {
   "cell_type": "markdown",
   "id": "bea60b82-02a1-476b-b680-5f6f33d4e188",
   "metadata": {},
   "source": [
    "### Deep Residual Network Layer ve Deep Residual Network Modeli"
   ]
  },
  {
   "cell_type": "code",
   "execution_count": 30,
   "id": "67c8a99c-b67a-43cf-919b-f0db0d022931",
   "metadata": {},
   "outputs": [],
   "source": [
    "# _make_layer ile birden çok basic block birleştirerek deep residual network oluşturacağız"
   ]
  },
  {
   "cell_type": "code",
   "execution_count": 31,
   "id": "58282854-583f-4935-9852-b9cf9de7aaff",
   "metadata": {},
   "outputs": [],
   "source": [
    "# deep residual network class\n",
    "class ResNet(nn.Module): # nn.Module'den inherit eder\n",
    "    \n",
    "    # num_classes = 2'ydi (insan var, insan yok)\n",
    "    def __init__(self, block, layers, num_classes = num_classes):\n",
    "        super(ResNet,self).__init__() # nn fonksiyonlarını kullanabiliriz\n",
    "        \n",
    "        self.inplanes = 64 # input channel (hiperparametre)\n",
    "        # input channel, output channel\n",
    "        # stride = 2 olduğundan downsample yapılır\n",
    "        self.conv1 = nn.Conv2d(1, 64, kernel_size=7, stride = 2, padding = 3, bias= False)\n",
    "        # conv1 output channel = 64 old. BatchNorm2d input 64\n",
    "        self.bn1 = nn.BatchNorm2d(64)\n",
    "        \n",
    "        self.relu = nn.ReLU(inplace = True)\n",
    "        # pooling\n",
    "        self.maxpool = nn.MaxPool2d(kernel_size= 3, stride = 2, padding = 1)\n",
    "        \n",
    "        ####### _make_layer ########\n",
    "        \n",
    "        # ml1\n",
    "        # block, input channel, layers = her layer için oluşturulacak blok sayısı\n",
    "        self.layer1 = self._make_layer(block, 64, layers[0], stride = 1)\n",
    "        \n",
    "        # ml2\n",
    "        self.layer2 = self._make_layer(block, 128, layers[1], stride = 2)\n",
    "        \n",
    "        # ml3\n",
    "        self.layer3 = self._make_layer(block, 256, layers[2], stride = 2)\n",
    "        \n",
    "        #### Pooling\n",
    "        self.avgpool = nn.AdaptiveAvgPool2d((1,1))    \n",
    "        \n",
    "        # adaptive pooling'in avg pooling'den farkı \n",
    "        # avg pooling'de filtrenin boyutu belirlenir \n",
    "        # adaptive pooling'de output verilir (1,1) ve filtrenin boyutunu kendisi belirler\n",
    "        # yani output'un boyutuna göre filtre boyutunu kendisi ayarlar\n",
    "        \n",
    "        #### fully connected\n",
    "        # block genişlemesi: expansion = 1\n",
    "        # num_classes = 2'ydi (insan var, insan yok)\n",
    "        self.fc = nn.Linear(256*block.expansion, num_classes)\n",
    "        \n",
    "        # birçok layer olduğundan birçok weight vardır\n",
    "        # bu weightlere ilk değerlerini atamalıyız\n",
    "        # eğer mantıksız olursa model iyi öğrenemez\n",
    "        for m in self.modules(): # modules, nn sınıfından gelir. m'e sırasıyla layerları atar\n",
    "            # m: conv1, bn1...\n",
    "            \n",
    "            if isinstance(m,nn.Conv2d): # m, Conv2d mi?\n",
    "                # m'in weight'lerini güncelle\n",
    "                # kaiming_normal_, 0'a çok yakın değerler atar\n",
    "                nn.init.kaiming_normal_(m.weight, mode = \"fan_out\", nonlinearity = \"relu\")\n",
    "                \n",
    "            elif isinstance(m, nn.BatchNorm2d): # m, BatchNorm2d ise\n",
    "                nn.init.constant_(m.weight,1) # tüm weight'leri 1'e eşitle\n",
    "                nn.init.constant_(m.bias,0) # tüm bias'ları 0'a eşitle\n",
    "        \n",
    "    \n",
    "    # basic block'ları art arda koyarak yeni bir yapı oluşturacak\n",
    "    # _make_layer, aldığı input'lara göre basic block'ları birbirine bağlar\n",
    "    # _make_layer metodu deep residual network'ün basic block kısmını oluşturan yapı olacak\n",
    "    def _make_layer(self, block, planes, blocks, stride = 1): # planes = input channel \n",
    "        # blocks: basic block'lardan kaç tane inşaa edilecek (2 ise iki tane block art arda bağlanır)\n",
    "        \n",
    "        downsample = None\n",
    "        # _make_layer basic block yaparken downsample'ın olup olmaması yani \n",
    "        # stride = 1 olup olmaması önemliydi\n",
    "        # downsample'ı aktif edeceğiz mi etmeyeceğiz mi karar vermeliyiz\n",
    "        # çünkü basic blocklar birbirine bağlanacak ve stride biliniyor\n",
    "        # bu yüzden downsample'ın yapılıp yapılmayacağına karar verilebilir\n",
    "       \n",
    "        # inplanes: input channel\n",
    "        # stride 1'den farklıysa boyut değişir bu yüzden downsample yapılmalı\n",
    "        if stride != 1 or self.inplanes != planes*block.expansion:\n",
    "            # her zaman expansion=1 olarak kullanacağız\n",
    "            # expansion=1 olması genişletilmiş bir tane blok olacak demektir.\n",
    "            # expansion=1 olması inplanes'e eşitlik sağlar: self.inplanes = planes*block.expansion\n",
    "            # inplanes (input channel)'a eşit değilse downsample yapılır çünkü boyut değişir\n",
    "            downsample = nn.Sequential(\n",
    "                # input channel, output channel\n",
    "                conv1x1(self.inplanes, planes*block.expansion, stride),\n",
    "                # conv1x1'in çıktısı BatchNorm2d'un input'u\n",
    "                nn.BatchNorm2d(planes*block.expansion))\n",
    "            \n",
    "            \n",
    "            \n",
    "        layers = []\n",
    "        # input channel, output channel\n",
    "        layers.append(block(self.inplanes, planes, stride, downsample))\n",
    "        self.inplanes = planes*block.expansion # blokları genişletmek istersek expansion artırılır\n",
    "            \n",
    "        # blok sayısına (blocks) göre blok ekleyeceğiz\n",
    "        # default olarak 1 tane block eklediğimizden blocks - 1 kadar blok ekleyeceğiz\n",
    "        for _ in range(1, blocks):\n",
    "            layers.append(block(self.inplanes, planes))\n",
    "                \n",
    "        # layer'ların hepsini alacak art arda dizecek ve \n",
    "        # sequantial bir neural network haline getirecek\n",
    "        # 1 tane layer oluşturacak\n",
    "        return nn.Sequential(*layers)\n",
    "    \n",
    "    \n",
    "    \n",
    "    def forward(self, x):\n",
    "        x = self.conv1(x)\n",
    "        x = self.bn1(x)\n",
    "        \n",
    "        x = self.relu(x)\n",
    "        x = self.maxpool(x)\n",
    "        \n",
    "        x = self.layer1(x) # 2 tane basic block bulunur\n",
    "        x = self.layer2(x)\n",
    "        x = self.layer3(x)    \n",
    "        \n",
    "        x = self.avgpool(x)\n",
    "        \n",
    "        # x'in boyutunu view ile değiştiriyoruz\n",
    "        # flattening: düzleştirme yapılır\n",
    "        x = x.view(x.size(0), -1) # -1: x'e göre doldurur\n",
    "        \n",
    "        x = self.fc(x)\n",
    "        \n",
    "        return x # sınıflar (0 ya da 1)"
   ]
  },
  {
   "cell_type": "code",
   "execution_count": 32,
   "id": "23f999d5-6b12-43a1-a774-3907cb7aa5d5",
   "metadata": {},
   "outputs": [],
   "source": [
    "# 2 tane basic block oluşturulacak\n",
    "# ve _make_layer, bu iki tane bloğu birbirine bağlayacak\n",
    "# blok1 ve blok2'nin özelliği downsample yapabilir yapmayabilir"
   ]
  },
  {
   "cell_type": "code",
   "execution_count": 33,
   "id": "17c9e260-d859-4cdc-87bc-049821a9f461",
   "metadata": {},
   "outputs": [],
   "source": [
    "# _make_layer ile basic block'ları bir araya getirerek layer yapmayı öğrenmiştik\n",
    "# resnet'in diğer layer'ları ile basic block'lar'dan oluşan _make_layer'ı birleştireceğiz\n",
    "# blocks = 2 ise _make_layer 2 bloktan oluşacak\n",
    "# layer'lar init fonksiyonunda inşaa edilecek, forward fonksiyonunda ise birleştirilecek"
   ]
  },
  {
   "cell_type": "markdown",
   "id": "47c69c0f-7fd1-46a3-9fee-148f5555ba47",
   "metadata": {},
   "source": [
    "#### İlk Deep Residual Network Modelini Yaratalım:"
   ]
  },
  {
   "cell_type": "code",
   "execution_count": 34,
   "id": "c6e4006c-a48c-4192-afc5-8a563735af61",
   "metadata": {},
   "outputs": [],
   "source": [
    "# layers = [2, 2, 2]\n",
    "# 3 layer olacak ve her layer'da 2 tane BasicBlock olacak\n",
    "model = ResNet(BasicBlock, [2, 2, 2])"
   ]
  },
  {
   "cell_type": "code",
   "execution_count": 35,
   "id": "1fd5b8fa-1db3-495c-b4ab-7263882046e2",
   "metadata": {
    "tags": []
   },
   "outputs": [],
   "source": [
    "# GPU'da çalıştırmak için\n",
    "# model device'a gönderilir, device GPU olmalı\n",
    "# model = ResNet(BasicBlock, [2, 2, 2]).to(device)"
   ]
  },
  {
   "cell_type": "code",
   "execution_count": null,
   "id": "b92150aa-3631-4f76-8eb5-71dcb0da1721",
   "metadata": {},
   "outputs": [],
   "source": []
  },
  {
   "cell_type": "code",
   "execution_count": null,
   "id": "1876ed8a-f63e-4b42-bfde-e25d7b9f93bb",
   "metadata": {},
   "outputs": [],
   "source": []
  },
  {
   "cell_type": "markdown",
   "id": "e13de725-69ab-4d04-b85d-c01703d47182",
   "metadata": {},
   "source": [
    "### ResNet Loss Fonksiyonu ve Optimizer"
   ]
  },
  {
   "cell_type": "code",
   "execution_count": 36,
   "id": "2707fc20-cad2-4988-826e-a907fa25ccf1",
   "metadata": {},
   "outputs": [],
   "source": [
    "# Loss\n",
    "criterion = nn.CrossEntropyLoss()"
   ]
  },
  {
   "cell_type": "code",
   "execution_count": 37,
   "id": "b5eca141-d723-43d4-92d6-59b410c354f9",
   "metadata": {},
   "outputs": [],
   "source": [
    "# optimizer\n",
    "# Adaptive momentum\n",
    "# model'in parametrelerini güncelle\n",
    "optimizer = torch.optim.Adam(model.parameters(), lr = learning_rate)"
   ]
  },
  {
   "cell_type": "code",
   "execution_count": null,
   "id": "b6c98768-087e-45bd-ae53-0ece25dff905",
   "metadata": {},
   "outputs": [],
   "source": []
  },
  {
   "cell_type": "markdown",
   "id": "d226d825-9cb6-4848-b112-f08564cce342",
   "metadata": {},
   "source": [
    "### ResNet Eğitimi"
   ]
  },
  {
   "cell_type": "code",
   "execution_count": 38,
   "id": "3c072bf4-dfbe-4a49-b9f6-f28c779d3db0",
   "metadata": {},
   "outputs": [
    {
     "name": "stdout",
     "output_type": "stream",
     "text": [
      "epoch: 0 0/26\n",
      "epoch: 0 2/26\n",
      "epoch: 0 4/26\n",
      "epoch: 0 6/26\n",
      "epoch: 0 8/26\n",
      "epoch: 0 10/26\n",
      "epoch: 0 12/26\n",
      "epoch: 0 14/26\n",
      "epoch: 0 16/26\n",
      "epoch: 0 18/26\n",
      "epoch: 0 20/26\n",
      "epoch: 0 22/26\n",
      "epoch: 0 24/26\n",
      "Accuracy train 79 %\n",
      "Accuracy test 74 %\n",
      "epoch: 1 0/26\n",
      "epoch: 1 2/26\n",
      "epoch: 1 4/26\n",
      "epoch: 1 6/26\n",
      "epoch: 1 8/26\n",
      "epoch: 1 10/26\n",
      "epoch: 1 12/26\n",
      "epoch: 1 14/26\n",
      "epoch: 1 16/26\n",
      "epoch: 1 18/26\n",
      "epoch: 1 20/26\n",
      "epoch: 1 22/26\n",
      "epoch: 1 24/26\n",
      "Accuracy train 80 %\n",
      "Accuracy test 74 %\n",
      "epoch: 2 0/26\n",
      "epoch: 2 2/26\n",
      "epoch: 2 4/26\n",
      "epoch: 2 6/26\n",
      "epoch: 2 8/26\n",
      "epoch: 2 10/26\n",
      "epoch: 2 12/26\n",
      "epoch: 2 14/26\n",
      "epoch: 2 16/26\n",
      "epoch: 2 18/26\n",
      "epoch: 2 20/26\n",
      "epoch: 2 22/26\n",
      "epoch: 2 24/26\n",
      "Accuracy train 80 %\n",
      "Accuracy test 71 %\n",
      "epoch: 3 0/26\n",
      "epoch: 3 2/26\n",
      "epoch: 3 4/26\n",
      "epoch: 3 6/26\n",
      "epoch: 3 8/26\n",
      "epoch: 3 10/26\n",
      "epoch: 3 12/26\n",
      "epoch: 3 14/26\n",
      "epoch: 3 16/26\n",
      "epoch: 3 18/26\n",
      "epoch: 3 20/26\n",
      "epoch: 3 22/26\n",
      "epoch: 3 24/26\n",
      "Accuracy train 81 %\n",
      "Accuracy test 69 %\n",
      "epoch: 4 0/26\n",
      "epoch: 4 2/26\n",
      "epoch: 4 4/26\n",
      "epoch: 4 6/26\n",
      "epoch: 4 8/26\n",
      "epoch: 4 10/26\n",
      "epoch: 4 12/26\n",
      "epoch: 4 14/26\n",
      "epoch: 4 16/26\n",
      "epoch: 4 18/26\n",
      "epoch: 4 20/26\n",
      "epoch: 4 22/26\n",
      "epoch: 4 24/26\n",
      "Accuracy train 83 %\n",
      "Accuracy test 68 %\n",
      "epoch: 5 0/26\n",
      "epoch: 5 2/26\n",
      "epoch: 5 4/26\n",
      "epoch: 5 6/26\n",
      "epoch: 5 8/26\n",
      "epoch: 5 10/26\n",
      "epoch: 5 12/26\n",
      "epoch: 5 14/26\n",
      "epoch: 5 16/26\n",
      "epoch: 5 18/26\n",
      "epoch: 5 20/26\n",
      "epoch: 5 22/26\n",
      "epoch: 5 24/26\n",
      "Accuracy train 85 %\n",
      "Accuracy test 68 %\n",
      "epoch: 6 0/26\n",
      "epoch: 6 2/26\n",
      "epoch: 6 4/26\n",
      "epoch: 6 6/26\n",
      "epoch: 6 8/26\n",
      "epoch: 6 10/26\n",
      "epoch: 6 12/26\n",
      "epoch: 6 14/26\n",
      "epoch: 6 16/26\n",
      "epoch: 6 18/26\n",
      "epoch: 6 20/26\n",
      "epoch: 6 22/26\n",
      "epoch: 6 24/26\n",
      "Accuracy train 86 %\n",
      "Accuracy test 68 %\n",
      "epoch: 7 0/26\n",
      "epoch: 7 2/26\n",
      "epoch: 7 4/26\n",
      "epoch: 7 6/26\n",
      "epoch: 7 8/26\n",
      "epoch: 7 10/26\n",
      "epoch: 7 12/26\n",
      "epoch: 7 14/26\n",
      "epoch: 7 16/26\n",
      "epoch: 7 18/26\n",
      "epoch: 7 20/26\n",
      "epoch: 7 22/26\n",
      "epoch: 7 24/26\n",
      "Accuracy train 87 %\n",
      "Accuracy test 67 %\n",
      "epoch: 8 0/26\n",
      "epoch: 8 2/26\n",
      "epoch: 8 4/26\n",
      "epoch: 8 6/26\n",
      "epoch: 8 8/26\n",
      "epoch: 8 10/26\n",
      "epoch: 8 12/26\n",
      "epoch: 8 14/26\n",
      "epoch: 8 16/26\n",
      "epoch: 8 18/26\n",
      "epoch: 8 20/26\n",
      "epoch: 8 22/26\n",
      "epoch: 8 24/26\n",
      "Accuracy train 88 %\n",
      "Accuracy test 67 %\n",
      "epoch: 9 0/26\n",
      "epoch: 9 2/26\n",
      "epoch: 9 4/26\n",
      "epoch: 9 6/26\n",
      "epoch: 9 8/26\n",
      "epoch: 9 10/26\n",
      "epoch: 9 12/26\n",
      "epoch: 9 14/26\n",
      "epoch: 9 16/26\n",
      "epoch: 9 18/26\n",
      "epoch: 9 20/26\n",
      "epoch: 9 22/26\n",
      "epoch: 9 24/26\n",
      "Accuracy train 89 %\n",
      "Accuracy test 67 %\n",
      "epoch: 10 0/26\n",
      "epoch: 10 2/26\n",
      "epoch: 10 4/26\n",
      "epoch: 10 6/26\n",
      "epoch: 10 8/26\n",
      "epoch: 10 10/26\n",
      "epoch: 10 12/26\n",
      "epoch: 10 14/26\n",
      "epoch: 10 16/26\n",
      "epoch: 10 18/26\n",
      "epoch: 10 20/26\n",
      "epoch: 10 22/26\n",
      "epoch: 10 24/26\n",
      "Accuracy train 90 %\n",
      "Accuracy test 67 %\n",
      "epoch: 11 0/26\n",
      "epoch: 11 2/26\n",
      "epoch: 11 4/26\n",
      "epoch: 11 6/26\n",
      "epoch: 11 8/26\n",
      "epoch: 11 10/26\n",
      "epoch: 11 12/26\n",
      "epoch: 11 14/26\n",
      "epoch: 11 16/26\n",
      "epoch: 11 18/26\n",
      "epoch: 11 20/26\n",
      "epoch: 11 22/26\n",
      "epoch: 11 24/26\n",
      "Accuracy train 91 %\n",
      "Accuracy test 68 %\n",
      "epoch: 12 0/26\n",
      "epoch: 12 2/26\n",
      "epoch: 12 4/26\n",
      "epoch: 12 6/26\n",
      "epoch: 12 8/26\n",
      "epoch: 12 10/26\n",
      "epoch: 12 12/26\n",
      "epoch: 12 14/26\n",
      "epoch: 12 16/26\n",
      "epoch: 12 18/26\n",
      "epoch: 12 20/26\n",
      "epoch: 12 22/26\n",
      "epoch: 12 24/26\n",
      "Accuracy train 91 %\n",
      "Accuracy test 67 %\n",
      "epoch: 13 0/26\n",
      "epoch: 13 2/26\n",
      "epoch: 13 4/26\n",
      "epoch: 13 6/26\n",
      "epoch: 13 8/26\n",
      "epoch: 13 10/26\n",
      "epoch: 13 12/26\n",
      "epoch: 13 14/26\n",
      "epoch: 13 16/26\n",
      "epoch: 13 18/26\n",
      "epoch: 13 20/26\n",
      "epoch: 13 22/26\n",
      "epoch: 13 24/26\n",
      "Accuracy train 92 %\n",
      "Accuracy test 68 %\n",
      "epoch: 14 0/26\n",
      "epoch: 14 2/26\n",
      "epoch: 14 4/26\n",
      "epoch: 14 6/26\n",
      "epoch: 14 8/26\n",
      "epoch: 14 10/26\n",
      "epoch: 14 12/26\n",
      "epoch: 14 14/26\n",
      "epoch: 14 16/26\n",
      "epoch: 14 18/26\n",
      "epoch: 14 20/26\n",
      "epoch: 14 22/26\n",
      "epoch: 14 24/26\n",
      "Accuracy train 93 %\n",
      "Accuracy test 68 %\n",
      "epoch: 15 0/26\n",
      "epoch: 15 2/26\n",
      "epoch: 15 4/26\n",
      "epoch: 15 6/26\n",
      "epoch: 15 8/26\n",
      "epoch: 15 10/26\n",
      "epoch: 15 12/26\n",
      "epoch: 15 14/26\n",
      "epoch: 15 16/26\n",
      "epoch: 15 18/26\n",
      "epoch: 15 20/26\n",
      "epoch: 15 22/26\n",
      "epoch: 15 24/26\n",
      "Accuracy train 93 %\n",
      "Accuracy test 68 %\n",
      "epoch: 16 0/26\n",
      "epoch: 16 2/26\n",
      "epoch: 16 4/26\n",
      "epoch: 16 6/26\n",
      "epoch: 16 8/26\n",
      "epoch: 16 10/26\n",
      "epoch: 16 12/26\n",
      "epoch: 16 14/26\n",
      "epoch: 16 16/26\n",
      "epoch: 16 18/26\n",
      "epoch: 16 20/26\n",
      "epoch: 16 22/26\n",
      "epoch: 16 24/26\n",
      "Accuracy train 93 %\n",
      "Accuracy test 69 %\n",
      "epoch: 17 0/26\n",
      "epoch: 17 2/26\n",
      "epoch: 17 4/26\n",
      "epoch: 17 6/26\n",
      "epoch: 17 8/26\n",
      "epoch: 17 10/26\n",
      "epoch: 17 12/26\n",
      "epoch: 17 14/26\n",
      "epoch: 17 16/26\n",
      "epoch: 17 18/26\n",
      "epoch: 17 20/26\n",
      "epoch: 17 22/26\n",
      "epoch: 17 24/26\n",
      "Accuracy train 94 %\n",
      "Accuracy test 68 %\n",
      "epoch: 18 0/26\n",
      "epoch: 18 2/26\n",
      "epoch: 18 4/26\n",
      "epoch: 18 6/26\n",
      "epoch: 18 8/26\n",
      "epoch: 18 10/26\n",
      "epoch: 18 12/26\n",
      "epoch: 18 14/26\n",
      "epoch: 18 16/26\n",
      "epoch: 18 18/26\n",
      "epoch: 18 20/26\n",
      "epoch: 18 22/26\n",
      "epoch: 18 24/26\n",
      "Accuracy train 94 %\n",
      "Accuracy test 69 %\n",
      "epoch: 19 0/26\n",
      "epoch: 19 2/26\n",
      "epoch: 19 4/26\n",
      "epoch: 19 6/26\n",
      "epoch: 19 8/26\n",
      "epoch: 19 10/26\n",
      "epoch: 19 12/26\n",
      "epoch: 19 14/26\n",
      "epoch: 19 16/26\n",
      "epoch: 19 18/26\n",
      "epoch: 19 20/26\n",
      "epoch: 19 22/26\n",
      "epoch: 19 24/26\n",
      "Accuracy train 94 %\n",
      "Accuracy test 69 %\n",
      "epoch: 20 0/26\n",
      "epoch: 20 2/26\n",
      "epoch: 20 4/26\n",
      "epoch: 20 6/26\n",
      "epoch: 20 8/26\n",
      "epoch: 20 10/26\n",
      "epoch: 20 12/26\n",
      "epoch: 20 14/26\n",
      "epoch: 20 16/26\n",
      "epoch: 20 18/26\n",
      "epoch: 20 20/26\n",
      "epoch: 20 22/26\n",
      "epoch: 20 24/26\n",
      "Accuracy train 94 %\n",
      "Accuracy test 68 %\n",
      "epoch: 21 0/26\n",
      "epoch: 21 2/26\n",
      "epoch: 21 4/26\n",
      "epoch: 21 6/26\n",
      "epoch: 21 8/26\n",
      "epoch: 21 10/26\n",
      "epoch: 21 12/26\n",
      "epoch: 21 14/26\n",
      "epoch: 21 16/26\n",
      "epoch: 21 18/26\n",
      "epoch: 21 20/26\n",
      "epoch: 21 22/26\n",
      "epoch: 21 24/26\n",
      "Accuracy train 95 %\n",
      "Accuracy test 69 %\n",
      "epoch: 22 0/26\n",
      "epoch: 22 2/26\n",
      "epoch: 22 4/26\n",
      "epoch: 22 6/26\n",
      "epoch: 22 8/26\n",
      "epoch: 22 10/26\n",
      "epoch: 22 12/26\n",
      "epoch: 22 14/26\n",
      "epoch: 22 16/26\n",
      "epoch: 22 18/26\n",
      "epoch: 22 20/26\n",
      "epoch: 22 22/26\n",
      "epoch: 22 24/26\n",
      "Accuracy train 95 %\n",
      "Accuracy test 69 %\n",
      "epoch: 23 0/26\n",
      "epoch: 23 2/26\n",
      "epoch: 23 4/26\n",
      "epoch: 23 6/26\n",
      "epoch: 23 8/26\n",
      "epoch: 23 10/26\n",
      "epoch: 23 12/26\n",
      "epoch: 23 14/26\n",
      "epoch: 23 16/26\n",
      "epoch: 23 18/26\n",
      "epoch: 23 20/26\n",
      "epoch: 23 22/26\n",
      "epoch: 23 24/26\n",
      "Accuracy train 95 %\n",
      "Accuracy test 68 %\n",
      "epoch: 24 0/26\n",
      "epoch: 24 2/26\n",
      "epoch: 24 4/26\n",
      "epoch: 24 6/26\n",
      "epoch: 24 8/26\n",
      "epoch: 24 10/26\n",
      "epoch: 24 12/26\n",
      "epoch: 24 14/26\n",
      "epoch: 24 16/26\n",
      "epoch: 24 18/26\n",
      "epoch: 24 20/26\n",
      "epoch: 24 22/26\n",
      "epoch: 24 24/26\n",
      "Accuracy train 95 %\n",
      "Accuracy test 69 %\n",
      "epoch: 25 0/26\n",
      "epoch: 25 2/26\n",
      "epoch: 25 4/26\n",
      "epoch: 25 6/26\n",
      "epoch: 25 8/26\n",
      "epoch: 25 10/26\n",
      "epoch: 25 12/26\n",
      "epoch: 25 14/26\n",
      "epoch: 25 16/26\n",
      "epoch: 25 18/26\n",
      "epoch: 25 20/26\n",
      "epoch: 25 22/26\n",
      "epoch: 25 24/26\n",
      "Accuracy train 95 %\n",
      "Accuracy test 68 %\n",
      "epoch: 26 0/26\n",
      "epoch: 26 2/26\n",
      "epoch: 26 4/26\n",
      "epoch: 26 6/26\n",
      "epoch: 26 8/26\n",
      "epoch: 26 10/26\n",
      "epoch: 26 12/26\n",
      "epoch: 26 14/26\n",
      "epoch: 26 16/26\n",
      "epoch: 26 18/26\n",
      "epoch: 26 20/26\n",
      "epoch: 26 22/26\n",
      "epoch: 26 24/26\n",
      "Accuracy train 95 %\n",
      "Accuracy test 69 %\n",
      "epoch: 27 0/26\n",
      "epoch: 27 2/26\n",
      "epoch: 27 4/26\n",
      "epoch: 27 6/26\n",
      "epoch: 27 8/26\n",
      "epoch: 27 10/26\n",
      "epoch: 27 12/26\n",
      "epoch: 27 14/26\n",
      "epoch: 27 16/26\n",
      "epoch: 27 18/26\n",
      "epoch: 27 20/26\n",
      "epoch: 27 22/26\n",
      "epoch: 27 24/26\n",
      "Accuracy train 95 %\n",
      "Accuracy test 69 %\n",
      "epoch: 28 0/26\n",
      "epoch: 28 2/26\n",
      "epoch: 28 4/26\n",
      "epoch: 28 6/26\n",
      "epoch: 28 8/26\n",
      "epoch: 28 10/26\n",
      "epoch: 28 12/26\n",
      "epoch: 28 14/26\n",
      "epoch: 28 16/26\n",
      "epoch: 28 18/26\n",
      "epoch: 28 20/26\n",
      "epoch: 28 22/26\n",
      "epoch: 28 24/26\n",
      "Accuracy train 95 %\n",
      "Accuracy test 69 %\n",
      "epoch: 29 0/26\n",
      "epoch: 29 2/26\n",
      "epoch: 29 4/26\n",
      "epoch: 29 6/26\n",
      "epoch: 29 8/26\n",
      "epoch: 29 10/26\n",
      "epoch: 29 12/26\n",
      "epoch: 29 14/26\n",
      "epoch: 29 16/26\n",
      "epoch: 29 18/26\n",
      "epoch: 29 20/26\n",
      "epoch: 29 22/26\n",
      "epoch: 29 24/26\n",
      "Accuracy train 95 %\n",
      "Accuracy test 70 %\n",
      "epoch: 30 0/26\n",
      "epoch: 30 2/26\n",
      "epoch: 30 4/26\n",
      "epoch: 30 6/26\n",
      "epoch: 30 8/26\n",
      "epoch: 30 10/26\n",
      "epoch: 30 12/26\n",
      "epoch: 30 14/26\n",
      "epoch: 30 16/26\n",
      "epoch: 30 18/26\n",
      "epoch: 30 20/26\n",
      "epoch: 30 22/26\n",
      "epoch: 30 24/26\n",
      "Accuracy train 96 %\n",
      "Accuracy test 69 %\n",
      "epoch: 31 0/26\n",
      "epoch: 31 2/26\n",
      "epoch: 31 4/26\n",
      "epoch: 31 6/26\n",
      "epoch: 31 8/26\n",
      "epoch: 31 10/26\n",
      "epoch: 31 12/26\n",
      "epoch: 31 14/26\n",
      "epoch: 31 16/26\n",
      "epoch: 31 18/26\n",
      "epoch: 31 20/26\n",
      "epoch: 31 22/26\n",
      "epoch: 31 24/26\n",
      "Accuracy train 96 %\n",
      "Accuracy test 69 %\n",
      "epoch: 32 0/26\n"
     ]
    },
    {
     "ename": "KeyboardInterrupt",
     "evalue": "",
     "output_type": "error",
     "traceback": [
      "\u001b[0;31m---------------------------------------------------------------------------\u001b[0m",
      "\u001b[0;31mKeyboardInterrupt\u001b[0m                         Traceback (most recent call last)",
      "Cell \u001b[0;32mIn[38], line 26\u001b[0m\n\u001b[1;32m     21\u001b[0m         images, labels \u001b[38;5;241m=\u001b[39m images\u001b[38;5;241m.\u001b[39mto(device), labels\u001b[38;5;241m.\u001b[39mto(device)\n\u001b[1;32m     24\u001b[0m \u001b[38;5;66;03m# resimleri modele input olarak vereceğiz ve model tahmin yapacak\u001b[39;00m\n\u001b[1;32m     25\u001b[0m \u001b[38;5;66;03m# tahmini değerler output olarak geri dönderilecek\u001b[39;00m\n\u001b[0;32m---> 26\u001b[0m outputs \u001b[38;5;241m=\u001b[39m model(images)\n\u001b[1;32m     28\u001b[0m \u001b[38;5;66;03m# gerçek değerler (labels) ve tahmini değerler (outputs) ile loss hesaplanır\u001b[39;00m\n\u001b[1;32m     29\u001b[0m loss \u001b[38;5;241m=\u001b[39m criterion(outputs, labels)\n",
      "File \u001b[0;32m~/anaconda3/lib/python3.11/site-packages/torch/nn/modules/module.py:1501\u001b[0m, in \u001b[0;36mModule._call_impl\u001b[0;34m(self, *args, **kwargs)\u001b[0m\n\u001b[1;32m   1496\u001b[0m \u001b[38;5;66;03m# If we don't have any hooks, we want to skip the rest of the logic in\u001b[39;00m\n\u001b[1;32m   1497\u001b[0m \u001b[38;5;66;03m# this function, and just call forward.\u001b[39;00m\n\u001b[1;32m   1498\u001b[0m \u001b[38;5;28;01mif\u001b[39;00m \u001b[38;5;129;01mnot\u001b[39;00m (\u001b[38;5;28mself\u001b[39m\u001b[38;5;241m.\u001b[39m_backward_hooks \u001b[38;5;129;01mor\u001b[39;00m \u001b[38;5;28mself\u001b[39m\u001b[38;5;241m.\u001b[39m_backward_pre_hooks \u001b[38;5;129;01mor\u001b[39;00m \u001b[38;5;28mself\u001b[39m\u001b[38;5;241m.\u001b[39m_forward_hooks \u001b[38;5;129;01mor\u001b[39;00m \u001b[38;5;28mself\u001b[39m\u001b[38;5;241m.\u001b[39m_forward_pre_hooks\n\u001b[1;32m   1499\u001b[0m         \u001b[38;5;129;01mor\u001b[39;00m _global_backward_pre_hooks \u001b[38;5;129;01mor\u001b[39;00m _global_backward_hooks\n\u001b[1;32m   1500\u001b[0m         \u001b[38;5;129;01mor\u001b[39;00m _global_forward_hooks \u001b[38;5;129;01mor\u001b[39;00m _global_forward_pre_hooks):\n\u001b[0;32m-> 1501\u001b[0m     \u001b[38;5;28;01mreturn\u001b[39;00m forward_call(\u001b[38;5;241m*\u001b[39margs, \u001b[38;5;241m*\u001b[39m\u001b[38;5;241m*\u001b[39mkwargs)\n\u001b[1;32m   1502\u001b[0m \u001b[38;5;66;03m# Do not call functions when jit is used\u001b[39;00m\n\u001b[1;32m   1503\u001b[0m full_backward_hooks, non_full_backward_hooks \u001b[38;5;241m=\u001b[39m [], []\n",
      "Cell \u001b[0;32mIn[31], line 112\u001b[0m, in \u001b[0;36mResNet.forward\u001b[0;34m(self, x)\u001b[0m\n\u001b[1;32m    109\u001b[0m x \u001b[38;5;241m=\u001b[39m \u001b[38;5;28mself\u001b[39m\u001b[38;5;241m.\u001b[39mrelu(x)\n\u001b[1;32m    110\u001b[0m x \u001b[38;5;241m=\u001b[39m \u001b[38;5;28mself\u001b[39m\u001b[38;5;241m.\u001b[39mmaxpool(x)\n\u001b[0;32m--> 112\u001b[0m x \u001b[38;5;241m=\u001b[39m \u001b[38;5;28mself\u001b[39m\u001b[38;5;241m.\u001b[39mlayer1(x) \u001b[38;5;66;03m# 2 tane basic block bulunur\u001b[39;00m\n\u001b[1;32m    113\u001b[0m x \u001b[38;5;241m=\u001b[39m \u001b[38;5;28mself\u001b[39m\u001b[38;5;241m.\u001b[39mlayer2(x)\n\u001b[1;32m    114\u001b[0m x \u001b[38;5;241m=\u001b[39m \u001b[38;5;28mself\u001b[39m\u001b[38;5;241m.\u001b[39mlayer3(x)    \n",
      "File \u001b[0;32m~/anaconda3/lib/python3.11/site-packages/torch/nn/modules/module.py:1501\u001b[0m, in \u001b[0;36mModule._call_impl\u001b[0;34m(self, *args, **kwargs)\u001b[0m\n\u001b[1;32m   1496\u001b[0m \u001b[38;5;66;03m# If we don't have any hooks, we want to skip the rest of the logic in\u001b[39;00m\n\u001b[1;32m   1497\u001b[0m \u001b[38;5;66;03m# this function, and just call forward.\u001b[39;00m\n\u001b[1;32m   1498\u001b[0m \u001b[38;5;28;01mif\u001b[39;00m \u001b[38;5;129;01mnot\u001b[39;00m (\u001b[38;5;28mself\u001b[39m\u001b[38;5;241m.\u001b[39m_backward_hooks \u001b[38;5;129;01mor\u001b[39;00m \u001b[38;5;28mself\u001b[39m\u001b[38;5;241m.\u001b[39m_backward_pre_hooks \u001b[38;5;129;01mor\u001b[39;00m \u001b[38;5;28mself\u001b[39m\u001b[38;5;241m.\u001b[39m_forward_hooks \u001b[38;5;129;01mor\u001b[39;00m \u001b[38;5;28mself\u001b[39m\u001b[38;5;241m.\u001b[39m_forward_pre_hooks\n\u001b[1;32m   1499\u001b[0m         \u001b[38;5;129;01mor\u001b[39;00m _global_backward_pre_hooks \u001b[38;5;129;01mor\u001b[39;00m _global_backward_hooks\n\u001b[1;32m   1500\u001b[0m         \u001b[38;5;129;01mor\u001b[39;00m _global_forward_hooks \u001b[38;5;129;01mor\u001b[39;00m _global_forward_pre_hooks):\n\u001b[0;32m-> 1501\u001b[0m     \u001b[38;5;28;01mreturn\u001b[39;00m forward_call(\u001b[38;5;241m*\u001b[39margs, \u001b[38;5;241m*\u001b[39m\u001b[38;5;241m*\u001b[39mkwargs)\n\u001b[1;32m   1502\u001b[0m \u001b[38;5;66;03m# Do not call functions when jit is used\u001b[39;00m\n\u001b[1;32m   1503\u001b[0m full_backward_hooks, non_full_backward_hooks \u001b[38;5;241m=\u001b[39m [], []\n",
      "File \u001b[0;32m~/anaconda3/lib/python3.11/site-packages/torch/nn/modules/container.py:217\u001b[0m, in \u001b[0;36mSequential.forward\u001b[0;34m(self, input)\u001b[0m\n\u001b[1;32m    215\u001b[0m \u001b[38;5;28;01mdef\u001b[39;00m \u001b[38;5;21mforward\u001b[39m(\u001b[38;5;28mself\u001b[39m, \u001b[38;5;28minput\u001b[39m):\n\u001b[1;32m    216\u001b[0m     \u001b[38;5;28;01mfor\u001b[39;00m module \u001b[38;5;129;01min\u001b[39;00m \u001b[38;5;28mself\u001b[39m:\n\u001b[0;32m--> 217\u001b[0m         \u001b[38;5;28minput\u001b[39m \u001b[38;5;241m=\u001b[39m module(\u001b[38;5;28minput\u001b[39m)\n\u001b[1;32m    218\u001b[0m     \u001b[38;5;28;01mreturn\u001b[39;00m \u001b[38;5;28minput\u001b[39m\n",
      "File \u001b[0;32m~/anaconda3/lib/python3.11/site-packages/torch/nn/modules/module.py:1501\u001b[0m, in \u001b[0;36mModule._call_impl\u001b[0;34m(self, *args, **kwargs)\u001b[0m\n\u001b[1;32m   1496\u001b[0m \u001b[38;5;66;03m# If we don't have any hooks, we want to skip the rest of the logic in\u001b[39;00m\n\u001b[1;32m   1497\u001b[0m \u001b[38;5;66;03m# this function, and just call forward.\u001b[39;00m\n\u001b[1;32m   1498\u001b[0m \u001b[38;5;28;01mif\u001b[39;00m \u001b[38;5;129;01mnot\u001b[39;00m (\u001b[38;5;28mself\u001b[39m\u001b[38;5;241m.\u001b[39m_backward_hooks \u001b[38;5;129;01mor\u001b[39;00m \u001b[38;5;28mself\u001b[39m\u001b[38;5;241m.\u001b[39m_backward_pre_hooks \u001b[38;5;129;01mor\u001b[39;00m \u001b[38;5;28mself\u001b[39m\u001b[38;5;241m.\u001b[39m_forward_hooks \u001b[38;5;129;01mor\u001b[39;00m \u001b[38;5;28mself\u001b[39m\u001b[38;5;241m.\u001b[39m_forward_pre_hooks\n\u001b[1;32m   1499\u001b[0m         \u001b[38;5;129;01mor\u001b[39;00m _global_backward_pre_hooks \u001b[38;5;129;01mor\u001b[39;00m _global_backward_hooks\n\u001b[1;32m   1500\u001b[0m         \u001b[38;5;129;01mor\u001b[39;00m _global_forward_hooks \u001b[38;5;129;01mor\u001b[39;00m _global_forward_pre_hooks):\n\u001b[0;32m-> 1501\u001b[0m     \u001b[38;5;28;01mreturn\u001b[39;00m forward_call(\u001b[38;5;241m*\u001b[39margs, \u001b[38;5;241m*\u001b[39m\u001b[38;5;241m*\u001b[39mkwargs)\n\u001b[1;32m   1502\u001b[0m \u001b[38;5;66;03m# Do not call functions when jit is used\u001b[39;00m\n\u001b[1;32m   1503\u001b[0m full_backward_hooks, non_full_backward_hooks \u001b[38;5;241m=\u001b[39m [], []\n",
      "Cell \u001b[0;32mIn[27], line 40\u001b[0m, in \u001b[0;36mBasicBlock.forward\u001b[0;34m(self, x)\u001b[0m\n\u001b[1;32m     36\u001b[0m identity \u001b[38;5;241m=\u001b[39m x \u001b[38;5;66;03m# shortcut yani x aşağıdaki layer'ların paralelinde gelir\u001b[39;00m\n\u001b[1;32m     37\u001b[0m \u001b[38;5;66;03m# ve relu'dan önce toplanır\u001b[39;00m\n\u001b[1;32m     38\u001b[0m \n\u001b[1;32m     39\u001b[0m \u001b[38;5;66;03m# 1. kısım\u001b[39;00m\n\u001b[0;32m---> 40\u001b[0m out \u001b[38;5;241m=\u001b[39m \u001b[38;5;28mself\u001b[39m\u001b[38;5;241m.\u001b[39mconv1(x) \u001b[38;5;66;03m# convolutional layer\u001b[39;00m\n\u001b[1;32m     41\u001b[0m out \u001b[38;5;241m=\u001b[39m \u001b[38;5;28mself\u001b[39m\u001b[38;5;241m.\u001b[39mbn1(out) \u001b[38;5;66;03m# BatchNorm2d\u001b[39;00m\n\u001b[1;32m     42\u001b[0m out \u001b[38;5;241m=\u001b[39m \u001b[38;5;28mself\u001b[39m\u001b[38;5;241m.\u001b[39mrelu(out) \u001b[38;5;66;03m# aktivasyon fonksiyonu\u001b[39;00m\n",
      "File \u001b[0;32m~/anaconda3/lib/python3.11/site-packages/torch/nn/modules/module.py:1501\u001b[0m, in \u001b[0;36mModule._call_impl\u001b[0;34m(self, *args, **kwargs)\u001b[0m\n\u001b[1;32m   1496\u001b[0m \u001b[38;5;66;03m# If we don't have any hooks, we want to skip the rest of the logic in\u001b[39;00m\n\u001b[1;32m   1497\u001b[0m \u001b[38;5;66;03m# this function, and just call forward.\u001b[39;00m\n\u001b[1;32m   1498\u001b[0m \u001b[38;5;28;01mif\u001b[39;00m \u001b[38;5;129;01mnot\u001b[39;00m (\u001b[38;5;28mself\u001b[39m\u001b[38;5;241m.\u001b[39m_backward_hooks \u001b[38;5;129;01mor\u001b[39;00m \u001b[38;5;28mself\u001b[39m\u001b[38;5;241m.\u001b[39m_backward_pre_hooks \u001b[38;5;129;01mor\u001b[39;00m \u001b[38;5;28mself\u001b[39m\u001b[38;5;241m.\u001b[39m_forward_hooks \u001b[38;5;129;01mor\u001b[39;00m \u001b[38;5;28mself\u001b[39m\u001b[38;5;241m.\u001b[39m_forward_pre_hooks\n\u001b[1;32m   1499\u001b[0m         \u001b[38;5;129;01mor\u001b[39;00m _global_backward_pre_hooks \u001b[38;5;129;01mor\u001b[39;00m _global_backward_hooks\n\u001b[1;32m   1500\u001b[0m         \u001b[38;5;129;01mor\u001b[39;00m _global_forward_hooks \u001b[38;5;129;01mor\u001b[39;00m _global_forward_pre_hooks):\n\u001b[0;32m-> 1501\u001b[0m     \u001b[38;5;28;01mreturn\u001b[39;00m forward_call(\u001b[38;5;241m*\u001b[39margs, \u001b[38;5;241m*\u001b[39m\u001b[38;5;241m*\u001b[39mkwargs)\n\u001b[1;32m   1502\u001b[0m \u001b[38;5;66;03m# Do not call functions when jit is used\u001b[39;00m\n\u001b[1;32m   1503\u001b[0m full_backward_hooks, non_full_backward_hooks \u001b[38;5;241m=\u001b[39m [], []\n",
      "File \u001b[0;32m~/anaconda3/lib/python3.11/site-packages/torch/nn/modules/conv.py:463\u001b[0m, in \u001b[0;36mConv2d.forward\u001b[0;34m(self, input)\u001b[0m\n\u001b[1;32m    462\u001b[0m \u001b[38;5;28;01mdef\u001b[39;00m \u001b[38;5;21mforward\u001b[39m(\u001b[38;5;28mself\u001b[39m, \u001b[38;5;28minput\u001b[39m: Tensor) \u001b[38;5;241m-\u001b[39m\u001b[38;5;241m>\u001b[39m Tensor:\n\u001b[0;32m--> 463\u001b[0m     \u001b[38;5;28;01mreturn\u001b[39;00m \u001b[38;5;28mself\u001b[39m\u001b[38;5;241m.\u001b[39m_conv_forward(\u001b[38;5;28minput\u001b[39m, \u001b[38;5;28mself\u001b[39m\u001b[38;5;241m.\u001b[39mweight, \u001b[38;5;28mself\u001b[39m\u001b[38;5;241m.\u001b[39mbias)\n",
      "File \u001b[0;32m~/anaconda3/lib/python3.11/site-packages/torch/nn/modules/conv.py:459\u001b[0m, in \u001b[0;36mConv2d._conv_forward\u001b[0;34m(self, input, weight, bias)\u001b[0m\n\u001b[1;32m    455\u001b[0m \u001b[38;5;28;01mif\u001b[39;00m \u001b[38;5;28mself\u001b[39m\u001b[38;5;241m.\u001b[39mpadding_mode \u001b[38;5;241m!=\u001b[39m \u001b[38;5;124m'\u001b[39m\u001b[38;5;124mzeros\u001b[39m\u001b[38;5;124m'\u001b[39m:\n\u001b[1;32m    456\u001b[0m     \u001b[38;5;28;01mreturn\u001b[39;00m F\u001b[38;5;241m.\u001b[39mconv2d(F\u001b[38;5;241m.\u001b[39mpad(\u001b[38;5;28minput\u001b[39m, \u001b[38;5;28mself\u001b[39m\u001b[38;5;241m.\u001b[39m_reversed_padding_repeated_twice, mode\u001b[38;5;241m=\u001b[39m\u001b[38;5;28mself\u001b[39m\u001b[38;5;241m.\u001b[39mpadding_mode),\n\u001b[1;32m    457\u001b[0m                     weight, bias, \u001b[38;5;28mself\u001b[39m\u001b[38;5;241m.\u001b[39mstride,\n\u001b[1;32m    458\u001b[0m                     _pair(\u001b[38;5;241m0\u001b[39m), \u001b[38;5;28mself\u001b[39m\u001b[38;5;241m.\u001b[39mdilation, \u001b[38;5;28mself\u001b[39m\u001b[38;5;241m.\u001b[39mgroups)\n\u001b[0;32m--> 459\u001b[0m \u001b[38;5;28;01mreturn\u001b[39;00m F\u001b[38;5;241m.\u001b[39mconv2d(\u001b[38;5;28minput\u001b[39m, weight, bias, \u001b[38;5;28mself\u001b[39m\u001b[38;5;241m.\u001b[39mstride,\n\u001b[1;32m    460\u001b[0m                 \u001b[38;5;28mself\u001b[39m\u001b[38;5;241m.\u001b[39mpadding, \u001b[38;5;28mself\u001b[39m\u001b[38;5;241m.\u001b[39mdilation, \u001b[38;5;28mself\u001b[39m\u001b[38;5;241m.\u001b[39mgroups)\n",
      "\u001b[0;31mKeyboardInterrupt\u001b[0m: "
     ]
    }
   ],
   "source": [
    "loss_list = [] # loss değerleri\n",
    "# accuracy değerleri\n",
    "train_acc = []\n",
    "test_acc = []\n",
    "use_gpu = False # GPU kullanmak için\n",
    "\n",
    "total_step = len(trainloader)\n",
    "\n",
    "for epoch in range(num_epochs): # 100\n",
    "    for i, (images, labels) in enumerate(trainloader):\n",
    "        \n",
    "        # reshape: yeniden boyutlandıralım\n",
    "        # batch_size: kaç tane resim aynı anda eğitilsin, kanal sayısı, resimin boyutu 64*32\n",
    "        images = images.view(batch_size, 1, 64, 32)\n",
    "        images = images.float()\n",
    "        \n",
    "        # GPU\n",
    "        if use_gpu:\n",
    "            if torch.cuda.is_available(): # cuda kuruluysa\n",
    "                # resimleri ve label'ları işlem görebilmesi için device'a yani gpu'ya yollamalıyız\n",
    "                images, labels = images.to(device), labels.to(device)\n",
    "                \n",
    "        \n",
    "        # resimleri modele input olarak vereceğiz ve model tahmin yapacak\n",
    "        # tahmini değerler output olarak geri dönderilecek\n",
    "        outputs = model(images)\n",
    "        \n",
    "        # gerçek değerler (labels) ve tahmini değerler (outputs) ile loss hesaplanır\n",
    "        loss = criterion(outputs, labels)\n",
    "        \n",
    "        \n",
    "        # backward ve optimization\n",
    "        \n",
    "        # optimizer'da gradient'lere sıfır atayalım\n",
    "        optimizer.zero_grad() # pytorch'ta gradient'ler her adımda sıfırlanması gerekir\n",
    "        \n",
    "        # back propagation yapalım\n",
    "        # loss fonksiyonuna göre parametreleri (weight'leri) güncellememiz gerekir\n",
    "        # back propagation ile gradient'leri bulmalıyız\n",
    "        loss.backward() # back propagation yap\n",
    "        optimizer.step() # ile güncellenir\n",
    "        \n",
    "        \n",
    "        \n",
    "        if i % 2 == 0:\n",
    "            print(\"epoch: {} {}/{}\".format(epoch, i, total_step))\n",
    "            \n",
    "            \n",
    "    # bir epoch tamamlandıktan sonra her epoch'un sonunda train ve test veri setine göre\n",
    "    # accuracy değerlerine bakalım\n",
    "    \n",
    "    # train veri setine göre accuracy değerlerine bakalım\n",
    "    correct = 0\n",
    "    total = 0\n",
    "    \n",
    "    with torch.no_grad(): # parametreler güncellenmeyecek\n",
    "        for data in trainloader:\n",
    "            # model ne kadar doğrulukta tahmin yapabiliyor\n",
    "            images, labels = data\n",
    "            \n",
    "            # reshape: yeniden boyutlandıralım\n",
    "            # batch_size: kaç tane resim aynı anda eğitilsin, kanal sayısı, resimin boyutu 64*32\n",
    "            images = images.view(batch_size, 1, 64, 32)\n",
    "            images = images.float()\n",
    "            \n",
    "            # GPU\n",
    "            if use_gpu:\n",
    "                if torch.cuda.is_available(): # cuda kuruluysa\n",
    "                    # resimleri ve label'ları işlem görebilmesi için device'a yani gpu'ya yollamalıyız\n",
    "                    images, labels = images.to(device), labels.to(device)\n",
    "                    \n",
    "            # output'lardan ne kadarı doğru\n",
    "            # model tahmin eder, tahminler outputs'a atanır\n",
    "            outputs = model(images)\n",
    "            # kaç tane doğru tahmin yapıldı\n",
    "            \n",
    "            # olasılık değerlerinden en büyük olanın indeksini yani sınıfını geri dönderir\n",
    "            _, predicted = torch.max(outputs.data, 1)\n",
    "            \n",
    "            # toplam veri\n",
    "            total += labels.size(0)\n",
    "            \n",
    "            # toplam doğru tahmin edilen veri\n",
    "            correct += (predicted == labels).sum().item() # int'e çevirmek için item fonk. kul.\n",
    "            \n",
    "    print(\"Accuracy train %d %%\" %(100*correct/total))\n",
    "    train_acc.append(100*correct/total)\n",
    "    \n",
    "    \n",
    "    \n",
    "    # test veri setine göre accuracy değerlerine bakalım\n",
    "    correct = 0\n",
    "    total = 0\n",
    "    \n",
    "    with torch.no_grad(): # parametreler güncellenmeyecek\n",
    "        for data in testloader:\n",
    "            # model ne kadar doğrulukta tahmin yapabiliyor\n",
    "            images, labels = data\n",
    "            \n",
    "            # reshape: yeniden boyutlandıralım\n",
    "            # batch_size: kaç tane resim aynı anda eğitilsin, kanal sayısı, resimin boyutu 64*32\n",
    "            images = images.view(batch_size, 1, 64, 32)\n",
    "            images = images.float()\n",
    "            \n",
    "            # GPU\n",
    "            if use_gpu:\n",
    "                if torch.cuda.is_available(): # cuda kuruluysa\n",
    "                    # resimleri ve label'ları işlem görebilmesi için device'a yani gpu'ya yollamalıyız\n",
    "                    images, labels = images.to(device), labels.to(device)\n",
    "                    \n",
    "            # output'lardan ne kadarı doğru\n",
    "            # model tahmin eder, tahminler outputs'a atanır\n",
    "            outputs = model(images)\n",
    "            # kaç tane doğru tahmin yapıldı\n",
    "            \n",
    "            # olasılık değerlerinden en büyük olanın indeksini yani sınıfını geri dönderir\n",
    "            _, predicted = torch.max(outputs.data, 1)\n",
    "            \n",
    "            # toplam veri\n",
    "            total += labels.size(0)\n",
    "            \n",
    "            # toplam doğru tahmin edilen veri\n",
    "            correct += (predicted == labels).sum().item() # int'e çevirmek için item fonk. kul.\n",
    "            \n",
    "    print(\"Accuracy test %d %%\" %(100*correct/total))\n",
    "    test_acc.append(100*correct/total)\n",
    "    \n",
    "    \n",
    "    # loss değerini depolayalım\n",
    "    loss_list.append(loss.item()) # item ile loss değerini int'e çevirdim"
   ]
  },
  {
   "cell_type": "code",
   "execution_count": null,
   "id": "42780b04-1dc0-4d80-887b-75b945572e4b",
   "metadata": {},
   "outputs": [],
   "source": []
  },
  {
   "cell_type": "code",
   "execution_count": null,
   "id": "43b12d5e-a115-4024-a106-77d8ce67b853",
   "metadata": {},
   "outputs": [],
   "source": [
    "# görselleştirme"
   ]
  },
  {
   "cell_type": "code",
   "execution_count": 39,
   "id": "ee3e7263-42af-467f-87f1-7cea74b7031a",
   "metadata": {},
   "outputs": [
    {
     "data": {
      "image/png": "[encoded data removed]",
      "text/plain": [
       "<Figure size 640x480 with 2 Axes>"
      ]
     },
     "metadata": {},
     "output_type": "display_data"
    }
   ],
   "source": [
    "fig, ax1 = plt.subplots()\n",
    "plt.plot(loss_list, label = \"Loss\", color = \"black\")\n",
    "ax2 = ax1.twinx()\n",
    "ax2.plot(np.array(test_acc)/100, label = \"Test Acc\", color=\"green\")\n",
    "ax2.plot(np.array(train_acc)/100, label = \"Train Acc\", color=\"red\")\n",
    "ax1.legend()\n",
    "ax2.legend()\n",
    "ax1.set_xlabel(\"Epoch\")\n",
    "fig.tight_layout()\n",
    "plt.title(\"Loss vs Test Accuracy\")\n",
    "plt.show()"
   ]
  },
  {
   "cell_type": "code",
   "execution_count": null,
   "id": "82c3c1ac-3822-4fba-807c-75273bd1da08",
   "metadata": {},
   "outputs": [],
   "source": []
  },
  {
   "cell_type": "markdown",
   "id": "508d6f0a-3a29-40dd-a3c2-24d7c7694516",
   "metadata": {},
   "source": [
    "* Train Accuracy: %81\n",
    "* Test Accuracy: %69\n",
    "* training yani epoch sayısı arttıkça Accuracy değerlerinin arttığı gözlemlenmiştir."
   ]
  },
  {
   "cell_type": "code",
   "execution_count": null,
   "id": "ba58503b-fab9-4527-9ad7-e91d91877a55",
   "metadata": {},
   "outputs": [],
   "source": []
  }
 ],
 "metadata": {
  "kernelspec": {
   "display_name": "Python 3 (ipykernel)",
   "language": "python",
   "name": "python3"
  },
  "language_info": {
   "codemirror_mode": {
    "name": "ipython",
    "version": 3
   },
   "file_extension": ".py",
   "mimetype": "text/x-python",
   "name": "python",
   "nbconvert_exporter": "python",
   "pygments_lexer": "ipython3",
   "version": "3.11.4"
  }
 },
 "nbformat": 4,
 "nbformat_minor": 5
}
