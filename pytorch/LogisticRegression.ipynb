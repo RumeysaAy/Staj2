{
 "cells": [
  {
   "cell_type": "markdown",
   "id": "539a73a1-f370-4798-a609-981cba80e345",
   "metadata": {},
   "source": [
    "# Logistic Regression"
   ]
  },
  {
   "cell_type": "code",
   "execution_count": 1,
   "id": "d3d14d4f-8a4f-4745-adb1-96ff02364a53",
   "metadata": {
    "tags": []
   },
   "outputs": [],
   "source": [
    "import torch\n",
    "import torch.nn as nn # neural network\n",
    "from torch.autograd import Variable # gradient, türev hesabı için\n",
    "from torch.utils.data import DataLoader, TensorDataset\n",
    "\n",
    "import pandas as pd # veriyi import etmek için\n",
    "import numpy as np\n",
    "\n",
    "from sklearn.model_selection import train_test_split # veriyi train ve test olarak ayıracağım\n",
    "\n",
    "import matplotlib.pyplot as plt"
   ]
  },
  {
   "cell_type": "markdown",
   "id": "62d200ea-f486-4697-9500-35f8d10fe9e2",
   "metadata": {},
   "source": [
    "## Problem Tanımı ve Veri Seti Hazırlama (Preprocess)"
   ]
  },
  {
   "cell_type": "markdown",
   "id": "369df00e-1027-4420-9e2c-0d3ec62b5fab",
   "metadata": {},
   "source": [
    "* MNIST veri seti, 28x28 piksel boyutunda siyah-beyaz (gray-scale) resimler içerir. Toplam piksel sayısı 28x28 = 784'tür.\n",
    "* Bu veri setinde yer alan resimler el yazısıyla yazılmış rakam görsellerini içerir (0-9 arası rakamlar).\n",
    "* Dolayısıyla, bu veri setinde 10 farklı sınıf bulunur, her sınıf bir rakamı temsil eder (0-9).\n",
    "* Renk tonları, siyahtan (0) beyaza (255) kadar değişir, arada farklı gri tonları bulunur.\n",
    "* Toplamda 785 sütun bulunur. İlk sütun, resmin sınıfını belirten etiketi (label) içerir. Diğer sütunlarda ise resmin her pikselinin değeri bulunur."
   ]
  },
  {
   "cell_type": "code",
   "execution_count": 2,
   "id": "4d1dc8fe-b4b6-44fb-8bd0-a54747e6237d",
   "metadata": {
    "tags": []
   },
   "outputs": [
    {
     "data": {
      "text/html": [
       "<div>\n",
       "<style scoped>\n",
       "    .dataframe tbody tr th:only-of-type {\n",
       "        vertical-align: middle;\n",
       "    }\n",
       "\n",
       "    .dataframe tbody tr th {\n",
       "        vertical-align: top;\n",
       "    }\n",
       "\n",
       "    .dataframe thead th {\n",
       "        text-align: right;\n",
       "    }\n",
       "</style>\n",
       "<table border=\"1\" class=\"dataframe\">\n",
       "  <thead>\n",
       "    <tr style=\"text-align: right;\">\n",
       "      <th></th>\n",
       "      <th>label</th>\n",
       "      <th>pixel0</th>\n",
       "      <th>pixel1</th>\n",
       "      <th>pixel2</th>\n",
       "      <th>pixel3</th>\n",
       "      <th>pixel4</th>\n",
       "      <th>pixel5</th>\n",
       "      <th>pixel6</th>\n",
       "      <th>pixel7</th>\n",
       "      <th>pixel8</th>\n",
       "      <th>...</th>\n",
       "      <th>pixel774</th>\n",
       "      <th>pixel775</th>\n",
       "      <th>pixel776</th>\n",
       "      <th>pixel777</th>\n",
       "      <th>pixel778</th>\n",
       "      <th>pixel779</th>\n",
       "      <th>pixel780</th>\n",
       "      <th>pixel781</th>\n",
       "      <th>pixel782</th>\n",
       "      <th>pixel783</th>\n",
       "    </tr>\n",
       "  </thead>\n",
       "  <tbody>\n",
       "    <tr>\n",
       "      <th>0</th>\n",
       "      <td>1.0</td>\n",
       "      <td>0.0</td>\n",
       "      <td>0.0</td>\n",
       "      <td>0.0</td>\n",
       "      <td>0.0</td>\n",
       "      <td>0.0</td>\n",
       "      <td>0.0</td>\n",
       "      <td>0.0</td>\n",
       "      <td>0.0</td>\n",
       "      <td>0.0</td>\n",
       "      <td>...</td>\n",
       "      <td>0.0</td>\n",
       "      <td>0.0</td>\n",
       "      <td>0.0</td>\n",
       "      <td>0.0</td>\n",
       "      <td>0.0</td>\n",
       "      <td>0.0</td>\n",
       "      <td>0.0</td>\n",
       "      <td>0.0</td>\n",
       "      <td>0.0</td>\n",
       "      <td>0.0</td>\n",
       "    </tr>\n",
       "    <tr>\n",
       "      <th>1</th>\n",
       "      <td>0.0</td>\n",
       "      <td>0.0</td>\n",
       "      <td>0.0</td>\n",
       "      <td>0.0</td>\n",
       "      <td>0.0</td>\n",
       "      <td>0.0</td>\n",
       "      <td>0.0</td>\n",
       "      <td>0.0</td>\n",
       "      <td>0.0</td>\n",
       "      <td>0.0</td>\n",
       "      <td>...</td>\n",
       "      <td>0.0</td>\n",
       "      <td>0.0</td>\n",
       "      <td>0.0</td>\n",
       "      <td>0.0</td>\n",
       "      <td>0.0</td>\n",
       "      <td>0.0</td>\n",
       "      <td>0.0</td>\n",
       "      <td>0.0</td>\n",
       "      <td>0.0</td>\n",
       "      <td>0.0</td>\n",
       "    </tr>\n",
       "    <tr>\n",
       "      <th>2</th>\n",
       "      <td>1.0</td>\n",
       "      <td>0.0</td>\n",
       "      <td>0.0</td>\n",
       "      <td>0.0</td>\n",
       "      <td>0.0</td>\n",
       "      <td>0.0</td>\n",
       "      <td>0.0</td>\n",
       "      <td>0.0</td>\n",
       "      <td>0.0</td>\n",
       "      <td>0.0</td>\n",
       "      <td>...</td>\n",
       "      <td>0.0</td>\n",
       "      <td>0.0</td>\n",
       "      <td>0.0</td>\n",
       "      <td>0.0</td>\n",
       "      <td>0.0</td>\n",
       "      <td>0.0</td>\n",
       "      <td>0.0</td>\n",
       "      <td>0.0</td>\n",
       "      <td>0.0</td>\n",
       "      <td>0.0</td>\n",
       "    </tr>\n",
       "    <tr>\n",
       "      <th>3</th>\n",
       "      <td>4.0</td>\n",
       "      <td>0.0</td>\n",
       "      <td>0.0</td>\n",
       "      <td>0.0</td>\n",
       "      <td>0.0</td>\n",
       "      <td>0.0</td>\n",
       "      <td>0.0</td>\n",
       "      <td>0.0</td>\n",
       "      <td>0.0</td>\n",
       "      <td>0.0</td>\n",
       "      <td>...</td>\n",
       "      <td>0.0</td>\n",
       "      <td>0.0</td>\n",
       "      <td>0.0</td>\n",
       "      <td>0.0</td>\n",
       "      <td>0.0</td>\n",
       "      <td>0.0</td>\n",
       "      <td>0.0</td>\n",
       "      <td>0.0</td>\n",
       "      <td>0.0</td>\n",
       "      <td>0.0</td>\n",
       "    </tr>\n",
       "    <tr>\n",
       "      <th>4</th>\n",
       "      <td>0.0</td>\n",
       "      <td>0.0</td>\n",
       "      <td>0.0</td>\n",
       "      <td>0.0</td>\n",
       "      <td>0.0</td>\n",
       "      <td>0.0</td>\n",
       "      <td>0.0</td>\n",
       "      <td>0.0</td>\n",
       "      <td>0.0</td>\n",
       "      <td>0.0</td>\n",
       "      <td>...</td>\n",
       "      <td>0.0</td>\n",
       "      <td>0.0</td>\n",
       "      <td>0.0</td>\n",
       "      <td>0.0</td>\n",
       "      <td>0.0</td>\n",
       "      <td>0.0</td>\n",
       "      <td>0.0</td>\n",
       "      <td>0.0</td>\n",
       "      <td>0.0</td>\n",
       "      <td>0.0</td>\n",
       "    </tr>\n",
       "  </tbody>\n",
       "</table>\n",
       "<p>5 rows × 785 columns</p>\n",
       "</div>"
      ],
      "text/plain": [
       "   label  pixel0  pixel1  pixel2  pixel3  pixel4  pixel5  pixel6  pixel7  \\\n",
       "0    1.0     0.0     0.0     0.0     0.0     0.0     0.0     0.0     0.0   \n",
       "1    0.0     0.0     0.0     0.0     0.0     0.0     0.0     0.0     0.0   \n",
       "2    1.0     0.0     0.0     0.0     0.0     0.0     0.0     0.0     0.0   \n",
       "3    4.0     0.0     0.0     0.0     0.0     0.0     0.0     0.0     0.0   \n",
       "4    0.0     0.0     0.0     0.0     0.0     0.0     0.0     0.0     0.0   \n",
       "\n",
       "   pixel8  ...  pixel774  pixel775  pixel776  pixel777  pixel778  pixel779  \\\n",
       "0     0.0  ...       0.0       0.0       0.0       0.0       0.0       0.0   \n",
       "1     0.0  ...       0.0       0.0       0.0       0.0       0.0       0.0   \n",
       "2     0.0  ...       0.0       0.0       0.0       0.0       0.0       0.0   \n",
       "3     0.0  ...       0.0       0.0       0.0       0.0       0.0       0.0   \n",
       "4     0.0  ...       0.0       0.0       0.0       0.0       0.0       0.0   \n",
       "\n",
       "   pixel780  pixel781  pixel782  pixel783  \n",
       "0       0.0       0.0       0.0       0.0  \n",
       "1       0.0       0.0       0.0       0.0  \n",
       "2       0.0       0.0       0.0       0.0  \n",
       "3       0.0       0.0       0.0       0.0  \n",
       "4       0.0       0.0       0.0       0.0  \n",
       "\n",
       "[5 rows x 785 columns]"
      ]
     },
     "execution_count": 2,
     "metadata": {},
     "output_type": "execute_result"
    }
   ],
   "source": [
    "train = pd.read_csv(r\"train.csv\", dtype = np.float32)\n",
    "train.head()"
   ]
  },
  {
   "cell_type": "code",
   "execution_count": 3,
   "id": "5e39bc63-f63a-45e4-bd0c-db9b44485b59",
   "metadata": {
    "tags": []
   },
   "outputs": [
    {
     "data": {
      "text/plain": [
       "array([1., 0., 1., 4., 0.], dtype=float32)"
      ]
     },
     "execution_count": 3,
     "metadata": {},
     "output_type": "execute_result"
    }
   ],
   "source": [
    "targets_numpy = train.label.values\n",
    "targets_numpy[:5] # label sütunu"
   ]
  },
  {
   "cell_type": "code",
   "execution_count": 4,
   "id": "95fb9b9b-8adf-4980-aaf2-82fac48d6907",
   "metadata": {},
   "outputs": [],
   "source": [
    "# label sütunu dışındaki bütün değerleri (piksel değerleri) al ve normalize et\n",
    "features_numpy = train.loc[:, train.columns != \"label\"].values / 255 # normalizasyon"
   ]
  },
  {
   "cell_type": "code",
   "execution_count": 5,
   "id": "d6ef20ed-deaf-44b0-a303-120b176ba028",
   "metadata": {},
   "outputs": [],
   "source": [
    "# %20 test veri seti olsun\n",
    "features_train, features_test, targets_train, targets_test = train_test_split(features_numpy,\n",
    "                                                                              targets_numpy,\n",
    "                                                                              test_size = 0.2,\n",
    "                                                                              random_state = 42)"
   ]
  },
  {
   "cell_type": "code",
   "execution_count": 6,
   "id": "0545a135-ead1-4bda-9da7-ba2bd207092f",
   "metadata": {},
   "outputs": [],
   "source": [
    "# pytorch kütüphanesinde gradient hesabı (türev) yapabilmek ve bunları biriktirebilmek için \n",
    "# variable veri yapısına ihtiyacımız vardır. bunun için ilk önce tensor'lere dönüştürelim"
   ]
  },
  {
   "cell_type": "code",
   "execution_count": 7,
   "id": "523708b1-fab7-4ba1-a2b5-68fbec7631b4",
   "metadata": {},
   "outputs": [],
   "source": [
    "# numpy -> tensor\n",
    "featuresTrain = torch.from_numpy(features_train) # tensor\n",
    "targetsTrain = torch.from_numpy(targets_train).type(torch.LongTensor) # tensor"
   ]
  },
  {
   "cell_type": "code",
   "execution_count": 8,
   "id": "7dd89de8-b4ae-4a78-bc09-f4be79a75ada",
   "metadata": {
    "tags": []
   },
   "outputs": [
    {
     "data": {
      "text/plain": [
       "torch.Size([33600, 784])"
      ]
     },
     "execution_count": 8,
     "metadata": {},
     "output_type": "execute_result"
    }
   ],
   "source": [
    "featuresTrain.shape # toplam resim/örnek sayısı (satır) : 33600\n",
    "# 1 resimdeki toplam piksel sayısı 784 (28*28)"
   ]
  },
  {
   "cell_type": "code",
   "execution_count": 9,
   "id": "7a2126e4-f29b-41ea-bed4-c94d13ce6c4a",
   "metadata": {},
   "outputs": [],
   "source": [
    "# numpy -> tensor\n",
    "featuresTest = torch.from_numpy(features_test) # tensor\n",
    "targetsTest = torch.from_numpy(targets_test).type(torch.LongTensor) # tensor"
   ]
  },
  {
   "cell_type": "markdown",
   "id": "7308410d-c5e2-426a-a4b2-df5c7484df82",
   "metadata": {},
   "source": [
    "**Batch Boyutu (batch_size):**\n",
    "* Veriyi eğitim işlemini gerçekleştirmek için kaç parçaya böleceğimizi belirler.\n",
    "* Örneğin, elimizde 1000 örnek veri varsa ve batch boyutunu 10 olarak seçersek, her bir batch (grup) içinde 100 örnek bulunur.\n",
    "* Bu 10 grup sırayla eğitim işlemini gerçekleştirebilir. Batch boyutu, her bir grubun içindeki örnek sayısını temsil eder.\n",
    "* Eğer bir eğitim veri setini batch boyutuna bölersek, train sayısını buluruz. \n",
    "* 1000 örneğe sahip bir eğitim veri seti olsun eğer batch_size 100 ise 10 kez eğitilir."
   ]
  },
  {
   "cell_type": "markdown",
   "id": "01ba606b-8441-4fe7-8964-bf5f7960f0a4",
   "metadata": {},
   "source": [
    "* 100 örnekten oluşan bir veri seti var\n",
    "* batch_size = 50 (bir gruptaki örnek sayısı) (100/50 = 2 grup oluşur)"
   ]
  },
  {
   "cell_type": "markdown",
   "id": "8ad6c6a6-dfc1-4d73-912a-a393c2ca70a9",
   "metadata": {},
   "source": [
    "* epoch = 2 olsun"
   ]
  },
  {
   "cell_type": "markdown",
   "id": "791ddfd6-522b-4412-904f-9589ea41bef3",
   "metadata": {},
   "source": [
    "1. epoch: \n",
    "* içerisinde veri seti 2'ye bölünür: 100/2 = 50 (batch_size = 50 olduğundan)\n",
    "* 50 tane resim ile train işlemi gerçekleştirilir, parametreler güncellenir\n",
    "* sonra diğer 50 tane resim ile train işlemi gerçekleştirilir\n",
    "* bu iki 50 resim birbirinden farklı resimlerdir ve veri setini oluştururlar"
   ]
  },
  {
   "cell_type": "markdown",
   "id": "278230bb-69ea-4880-8ea8-0b2bdd1fe2b3",
   "metadata": {},
   "source": [
    "2. epoch:\n",
    "* aynı veri seti tekrar 2'ye bölünür: 100/2 = 50\n",
    "* 50 tane resim ile train işlemi gerçekleştirilir, parametreler güncellenir\n",
    "* sonra diğer 50 tane resim ile train işlemi gerçekleştirilir\n",
    "* bu iki 50 resim birbirinden farklı resimlerdir ve veri setini oluştururlar"
   ]
  },
  {
   "cell_type": "markdown",
   "id": "2813069f-bc30-4fa5-a34f-81b375f46fe5",
   "metadata": {},
   "source": [
    "train weight'lerin güncellenmesidir neural network'te, deep learning'de çok fazla parametre olduğundan eğer bunları bölmezsek 1 kerede işleyebileceğimizden fazla veriye sahip oluruz bu traning işlemini olumsuz etkiler"
   ]
  },
  {
   "cell_type": "markdown",
   "id": "198a0a7b-cddb-4a75-b3ec-3f00b3ed013a",
   "metadata": {},
   "source": [
    "bütün veri seti epoch sayısı kadar train edilir."
   ]
  },
  {
   "cell_type": "markdown",
   "id": "1e94a5c2-d27d-43d8-847d-8f0c5ef64d21",
   "metadata": {},
   "source": [
    "1 epoch'ta her grup ayrı ayrı bir kere train edilir."
   ]
  },
  {
   "cell_type": "markdown",
   "id": "fc6b76d4-8287-44b2-b6a9-78bbfe678eb4",
   "metadata": {},
   "source": [
    "* veri seti 33600 tane örnekten oluşsun\n",
    "* batch_size (her grubun içerisindeki örnek sayısı) 100 ise 33600/100 = 336 tane grup vardır\n",
    "* 1 epoch'ta 336 tane grup vardır (her grup 100 örnek içerir)\n",
    "* dolayısıyla 1 epoch 336 iterasyondan oluşur.\n",
    "* 29 tane epoch yaparsak 29 * 336 = 9744 tane iterasyon yapmalıyız"
   ]
  },
  {
   "cell_type": "code",
   "execution_count": 10,
   "id": "96c1bdcd-f30f-4bab-9b90-528dba673de4",
   "metadata": {},
   "outputs": [
    {
     "data": {
      "text/plain": [
       "29"
      ]
     },
     "execution_count": 10,
     "metadata": {},
     "output_type": "execute_result"
    }
   ],
   "source": [
    "# batch_size, epoch and iteration\n",
    "batch_size = 100\n",
    "n_iters = 10000\n",
    "\n",
    "# epoch sayısı = iterasyon sayısı / grup sayısı\n",
    "num_epochs = n_iters / (len(features_train)/ batch_size)\n",
    "num_epochs = int(num_epochs)\n",
    "num_epochs"
   ]
  },
  {
   "cell_type": "code",
   "execution_count": 11,
   "id": "21986939-8cb7-4503-b3a8-961baf61e834",
   "metadata": {},
   "outputs": [],
   "source": [
    "# Pytorch ile train ve test veri setlerini oluşturalım\n",
    "train = TensorDataset(featuresTrain, targetsTrain) # pikseller, sınıf\n",
    "test = TensorDataset(featuresTest, targetsTest)"
   ]
  },
  {
   "cell_type": "code",
   "execution_count": 12,
   "id": "4e1345cd-9e4e-4848-8ef7-187641418aa9",
   "metadata": {},
   "outputs": [],
   "source": [
    "# data loader\n",
    "# veri setini batch_size'a göre düzenliyor\n",
    "# pytorch'ta training yapabilmek için gerekli olan veri tipine dönüştürür\n",
    "# DataLoader, veri kümesini mini gruplar halinde işlemek için kullanılan bir yardımcı sınıftır.\n",
    "# Bu, eğitim verilerini mini gruplar halinde yüklemek için kullanılır.\n",
    "# batch_size: Bu, her bir mini grup (batch) için kaç örnek alınacağını belirtir.\n",
    "# Mini gruplar, modelin eğitim sırasında güncellemelerini hesaplamak için kullanılır.\n",
    "# shuffle: Bu, veri kümesinin karıştırılıp karıştırılmayacağını belirtir\n",
    "train_loader = DataLoader(train, batch_size = batch_size, shuffle = False)\n",
    "test_loader = DataLoader(test, batch_size = batch_size, shuffle = False)"
   ]
  },
  {
   "cell_type": "code",
   "execution_count": 13,
   "id": "83ddbf8c-6408-4635-86db-c68641d79d29",
   "metadata": {
    "tags": []
   },
   "outputs": [
    {
     "data": {
      "image/png": "[encoded data removed]",
      "text/plain": [
       "<Figure size 640x480 with 1 Axes>"
      ]
     },
     "metadata": {},
     "output_type": "display_data"
    }
   ],
   "source": [
    "# resimi görselleştirelim\n",
    "plt.imshow(features_numpy[0].reshape(28,28)) # 0. satırdaki örneği 28,28 görselleştirelim\n",
    "plt.axis(\"off\")\n",
    "plt.title(str(targets_numpy[0])) # label, sınıf\n",
    "plt.savefig(\"graph.png\") # resimi kaydedelim\n",
    "plt.show()"
   ]
  },
  {
   "cell_type": "code",
   "execution_count": null,
   "id": "8faae58a-7b81-431d-9aa4-74b5eda040d5",
   "metadata": {},
   "outputs": [],
   "source": []
  },
  {
   "cell_type": "markdown",
   "id": "5ece990a-802d-4cb8-93f3-078e7aac4de4",
   "metadata": {},
   "source": [
    "## Logistic Regression Modelinin Kurulması"
   ]
  },
  {
   "cell_type": "markdown",
   "id": "fc78442d-b426-47d7-b552-e85cd0345ac5",
   "metadata": {},
   "source": [
    "lineer regresyon ile lojistik regresyon arasındaki fark lojistik regresyonda softmax fonksiyonunun olmasıdır. pytorch'da sınıf yazarken fark yoktur fakat loss fonksiyonunun içerisinde softmax fonksiyonu tanımlanmıştır. bu softmax fonksiyonunu kullanarak lojistik regresyon yapacağız."
   ]
  },
  {
   "cell_type": "code",
   "execution_count": 14,
   "id": "7250eb76-71c0-41f7-90a8-bcd0d5503066",
   "metadata": {},
   "outputs": [],
   "source": [
    "class LogisticRegressionModel(nn.Module): # torch'un neural network kütüphanesiden Module'ü inherit eder\n",
    "    \n",
    "    def __init__(self, input_dim, out_dim): # constructor'ın içerisine super\n",
    "        super(LogisticRegressionModel, self).__init__() # nn.Module'ün __init__() fonksiyonu çağrılır\n",
    "        # Module'ün içerisindeki nesneleri kullanabiliriz\n",
    "        \n",
    "        # 10 tane sınıf olduğundan output_size = 10\n",
    "        # 28 * 28 = 784 tane piksel input_size = 784\n",
    "        self.linear = nn.Linear(input_dim, output_dim)\n",
    "        \n",
    "    # eğitim işlemi gerçekleşirken forward pytorch tarafından otomatik bir şekilde çağrılıyor\n",
    "    def forward(self, x): # input (train veri seti) gönderebilmemiz için\n",
    "        out = self.linear(x) # prediction\n",
    "        return out # tahmini değerler "
   ]
  },
  {
   "cell_type": "code",
   "execution_count": 15,
   "id": "2813a102-8b21-437b-bef6-dea8d8ed6982",
   "metadata": {},
   "outputs": [],
   "source": [
    "input_dim = 28*28 # piksel sayısı\n",
    "output_dim = 10  # sınıf sayısı 10 (0-9)"
   ]
  },
  {
   "cell_type": "code",
   "execution_count": 16,
   "id": "d0eac01c-7779-4efb-8f68-41092acb0bfe",
   "metadata": {},
   "outputs": [],
   "source": [
    "# logistic regression modelini oluşturduk\n",
    "model = LogisticRegressionModel(input_dim, output_dim)"
   ]
  },
  {
   "cell_type": "code",
   "execution_count": 17,
   "id": "c04fec9e-2465-4e87-bdc2-39658d3161c8",
   "metadata": {},
   "outputs": [],
   "source": [
    "# cross entropy loss\n",
    "error = nn.CrossEntropyLoss() # softmax\n",
    "# forward'dan sonra error'e bakılır \n",
    "# dolayısıyla softmax fonksiyonumuzu kullanmış olacağız"
   ]
  },
  {
   "cell_type": "markdown",
   "id": "0c874ff4-eb54-48d7-a76e-02eed32020a1",
   "metadata": {},
   "source": [
    "eğer binary classification yapıyor olsaydık (2 tane sınıf (output) olsaydı) sigmoid fonksiyonu kullanılır fakat burada multi classification olduğundan softmax kullanılır ve CrossEntropyLoss'un içerisinde softmax bulunur."
   ]
  },
  {
   "cell_type": "code",
   "execution_count": 18,
   "id": "c5948aaa-44bb-4a67-a5aa-4e295e6eb8b8",
   "metadata": {},
   "outputs": [],
   "source": [
    "# SGD Optimizer\n",
    "learning_rate = 0.001\n",
    "\n",
    "# parametre güncellemesi optimizer'ın içerisinde olur.\n",
    "optimizer = torch.optim.SGD(model.parameters(), lr=learning_rate)"
   ]
  },
  {
   "cell_type": "markdown",
   "id": "cb43d0c7-7039-427c-8f77-0666d8792ac9",
   "metadata": {},
   "source": [
    "## Logistic Regression Modelinin Eğitimi ve Testi"
   ]
  },
  {
   "cell_type": "markdown",
   "id": "0229a379-a082-4bb0-a7d0-17b0f7def8f7",
   "metadata": {},
   "source": [
    "### Logistic Regression Modelinin Eğitimi"
   ]
  },
  {
   "cell_type": "code",
   "execution_count": 19,
   "id": "03a71f7c-9aa1-4fd9-abe3-a2b3284277d3",
   "metadata": {
    "tags": []
   },
   "outputs": [
    {
     "name": "stdout",
     "output_type": "stream",
     "text": [
      "Iteration: 500 Loss: 1.8146382570266724 Accuracy: 67.13095092773438%\n",
      "Iteration: 1000 Loss: 1.6224467754364014 Accuracy: 75.38095092773438%\n",
      "Iteration: 1500 Loss: 1.3104503154754639 Accuracy: 78.10713958740234%\n",
      "Iteration: 2000 Loss: 1.2075599431991577 Accuracy: 79.58333587646484%\n",
      "Iteration: 2500 Loss: 1.0432839393615723 Accuracy: 80.66666412353516%\n",
      "Iteration: 3000 Loss: 0.9415042400360107 Accuracy: 81.63095092773438%\n",
      "Iteration: 3500 Loss: 0.9082298874855042 Accuracy: 82.3452377319336%\n",
      "Iteration: 4000 Loss: 0.7559759616851807 Accuracy: 83.0%\n",
      "Iteration: 4500 Loss: 0.9739794135093689 Accuracy: 83.52381134033203%\n",
      "Iteration: 5000 Loss: 0.8067194223403931 Accuracy: 83.88095092773438%\n",
      "Iteration: 5500 Loss: 0.7467281222343445 Accuracy: 84.27381134033203%\n",
      "Iteration: 6000 Loss: 0.8815550208091736 Accuracy: 84.64286041259766%\n",
      "Iteration: 6500 Loss: 0.6627237200737 Accuracy: 84.88095092773438%\n",
      "Iteration: 7000 Loss: 0.7117974758148193 Accuracy: 85.0952377319336%\n",
      "Iteration: 7500 Loss: 0.6353728771209717 Accuracy: 85.28571319580078%\n",
      "Iteration: 8000 Loss: 0.7491604089736938 Accuracy: 85.39286041259766%\n",
      "Iteration: 8500 Loss: 0.5471600294113159 Accuracy: 85.55952453613281%\n",
      "Iteration: 9000 Loss: 0.6648848652839661 Accuracy: 85.70237731933594%\n",
      "Iteration: 9500 Loss: 0.528527021408081 Accuracy: 85.77381134033203%\n"
     ]
    }
   ],
   "source": [
    "count = 0\n",
    "loss_list=[]\n",
    "iteration_list = []\n",
    "\n",
    "for epoch in range(num_epochs): # tüm veri seti kaç kez train edilecek? num_epochs = 29\n",
    "    # index sayısı, (resimler, bu resimlere karşılık gelen sınıflar)\n",
    "    for i, (images, labels) in enumerate(train_loader):\n",
    "        \n",
    "        # Variables\n",
    "        # gradient'leri tutabilmek için variable oluşturalım\n",
    "        # view, reshape demektir.\n",
    "        train = Variable(images.view(-1, 28*28)) # kaç tane resim varsa o kadar satır\n",
    "        # 1 resim 28*28 pikselden oluştuğundan o kadarda sütun olmalı\n",
    "        labels = Variable(labels)\n",
    "        \n",
    "        # optimizer'ın içerisinde güncellenmesi gereken parametreler var\n",
    "        # bu parametrelere (w ve b) ilk değerlerini atıyalım\n",
    "        optimizer.zero_grad() # bu parametrelere ilk değer olarak sıfır atıyorum\n",
    "        \n",
    "        # forward propagation\n",
    "        # parametrelere ilk değerleri atanmıştı (optimizer'ın içerisinde weight'ler 0'dır)\n",
    "        # modele train veri seti verilir ve output olarak tahmini değerler geri dönderilir\n",
    "        outputs = model(train)\n",
    "        # eğitimde gerçek değerlerle tahmini değerler karşılaştırılır\n",
    "        # değerler farklıysa parametreler güncellenir aynı olması sağlanmaya çalışılır\n",
    "        # loss azaltılır\n",
    "        \n",
    "        # softmax ve cross entropy loss\n",
    "        loss = error(outputs, labels) # loss'u kullanarak gradientler hesaplanacak \n",
    "        \n",
    "        # gradient'ler hesaplanır\n",
    "        loss.backward() # loss'un parametrelere göre türevi alınır\n",
    "        # gradient değerleri var\n",
    "        \n",
    "        # parametreler (w ve b) güncellenir\n",
    "        optimizer.step()\n",
    "        \n",
    "        count +=1 # \n",
    "        \n",
    "        \n",
    "        # Prediction\n",
    "        # veri hem train edilir hemde 50 adımda bir prediction işlemi gerçekleştirilir\n",
    "        if count % 50 == 0: # count 50 ve katları ise prediction(tahmin) işlemi yapılır\n",
    "            \n",
    "            # accuracy değerini hesaplamak için\n",
    "            correct = 0 # doğru tahmin sayısı\n",
    "            total = 0 # toplam tahmin sayısı\n",
    "            \n",
    "            # Prediction\n",
    "            for images, labels in test_loader:\n",
    "                \n",
    "                test = Variable(images.view(-1, 28*28)) # resimler\n",
    "                # test: torch.Size([100, 784])\n",
    "                \n",
    "                # Forward propagation\n",
    "                outputs = model(test) # tahmin edilen değerler\n",
    "                # outputs, olasılıksal bir sonuçtur\n",
    "                # lojistik regresyon sonucunda olasılıksal değerler ortaya çıkar\n",
    "                # outputs: torch.Size([100, 10])\n",
    "                \n",
    "                # olasılıksal değerlerden 1'e en yakın değere bakılır.\n",
    "                predicted = torch.max(outputs.data, 1)[1]\n",
    "                # predicted: tensor([6, 6, 5, 5, 6, 6, 6, 5, 5\n",
    "                # predicted: torch.Size([100])\n",
    "                \n",
    "                # 100 örnek kullanıldı dolayısıyla 100 tane tahmin yapıldı bu total'dır\n",
    "                total += len(labels) # test veri setinin içerisinde kaç tane örnek olduğu bulunur\n",
    "                # total: 100, 200...\n",
    "                \n",
    "                # bu 100 örnekten kaç tanesi doğru tahmin edildi\n",
    "                correct += (predicted == labels).sum() # kaç tane doğru tahmin yapıldı\n",
    "                # her döngüde doğru tahmin sayısı toplanır\n",
    "                \n",
    "            # accuracy\n",
    "            accuracy = 100 * correct / float(total)\n",
    "            \n",
    "            # loss ve iterasyon sayısı\n",
    "            loss_list.append(loss.data)\n",
    "            iteration_list.append(count)\n",
    "            \n",
    "        \n",
    "        if count % 500 == 0:\n",
    "            # count 500'ün katı oldukça iterasyon, loss ve accuracy değerlerini yazdır\n",
    "            print(\"Iteration: {} Loss: {} Accuracy: {}%\".format(count, loss.data, accuracy))"
   ]
  },
  {
   "cell_type": "markdown",
   "id": "76711ec7-a4d8-49de-ac18-65e5e9f1ba59",
   "metadata": {},
   "source": [
    "Loss değeri azalırken Accuracy değeri artar."
   ]
  },
  {
   "cell_type": "code",
   "execution_count": 20,
   "id": "d966599a-0bb5-430d-abed-2090f552d3bd",
   "metadata": {
    "tags": []
   },
   "outputs": [
    {
     "data": {
      "image/png": "[encoded data removed]",
      "text/plain": [
       "<Figure size 640x480 with 1 Axes>"
      ]
     },
     "metadata": {},
     "output_type": "display_data"
    }
   ],
   "source": [
    "# görselleştirme\n",
    "plt.plot(iteration_list, loss_list)\n",
    "plt.xlabel(\"Iterasyon Sayısı\")\n",
    "plt.ylabel(\"Loss\")\n",
    "plt.title(\"Lojistik Regresyon\")\n",
    "plt.show()"
   ]
  },
  {
   "cell_type": "code",
   "execution_count": null,
   "id": "af865dd0-b32e-4a81-b51f-d3be6f1fe40c",
   "metadata": {},
   "outputs": [],
   "source": []
  },
  {
   "cell_type": "code",
   "execution_count": null,
   "id": "46bb94ef-a8ca-417b-89ea-18690e2e339c",
   "metadata": {},
   "outputs": [],
   "source": []
  },
  {
   "cell_type": "code",
   "execution_count": null,
   "id": "6aa2a04b-c3d9-4c4f-a6e1-b51cd851d5db",
   "metadata": {},
   "outputs": [],
   "source": []
  },
  {
   "cell_type": "code",
   "execution_count": null,
   "id": "b44b29f2-6fc6-470c-81f0-262aee9c4eab",
   "metadata": {},
   "outputs": [],
   "source": []
  },
  {
   "cell_type": "code",
   "execution_count": null,
   "id": "42e3ee95-2a46-4c2a-8f03-7830c40504df",
   "metadata": {},
   "outputs": [],
   "source": []
  },
  {
   "cell_type": "code",
   "execution_count": null,
   "id": "5759e882-108e-4876-a186-459002ad97f7",
   "metadata": {},
   "outputs": [],
   "source": []
  }
 ],
 "metadata": {
  "kernelspec": {
   "display_name": "Python 3 (ipykernel)",
   "language": "python",
   "name": "python3"
  },
  "language_info": {
   "codemirror_mode": {
    "name": "ipython",
    "version": 3
   },
   "file_extension": ".py",
   "mimetype": "text/x-python",
   "name": "python",
   "nbconvert_exporter": "python",
   "pygments_lexer": "ipython3",
   "version": "3.11.4"
  }
 },
 "nbformat": 4,
 "nbformat_minor": 5
}
