{
  "nbformat": 4,
  "nbformat_minor": 0,
  "metadata": {
    "colab": {
      "provenance": []
    },
    "kernelspec": {
      "name": "python3",
      "display_name": "Python 3"
    },
    "language_info": {
      "name": "python"
    }
  },
  "cells": [
    {
      "cell_type": "markdown",
      "source": [
        "* !pip install tensorflow\n",
        "* !pip install embeddings\n",
        "* !pip install keras"
      ],
      "metadata": {
        "id": "ZApyC4_znaSt"
      }
    },
    {
      "cell_type": "markdown",
      "source": [
        "# PROJE 7: SENTIMENT ANALYSIS"
      ],
      "metadata": {
        "id": "uiHMFqNWoFXs"
      }
    },
    {
      "cell_type": "markdown",
      "source": [
        "Duygu analizi yapacağız, yani IMDB filmlerindeki insanların yorumlarını analiz edeceğiz. Bu yorumların olumlu mu yoksa olumsuz mu olduğunu belirleyeceğiz."
      ],
      "metadata": {
        "id": "DTRFcmupoIsF"
      }
    },
    {
      "cell_type": "markdown",
      "source": [
        "## Konu Başlıkları\n",
        "\n",
        "1. [Python Kütüphaneleri](#1)\n",
        "1. [Veri Seti ve Problem Tanımı](#2)\n",
        "1. [Keşifsel Veri Analizi](#3)\n",
        "1. [Preprocess: Padding ve Eğitim/Test Verisinin Ayrılması](#4)\n",
        "1. [Recurrent Neural Network](#5)\n",
        "1. [Recurrent Neural Network Eğitimi](#6)\n",
        "1. [Sonuçların Değerlendirilmesi](#7)"
      ],
      "metadata": {
        "id": "LeH9TkvWoLUH"
      }
    },
    {
      "cell_type": "markdown",
      "source": [
        "<a id=\"1\" ></a>\n",
        "## Python Kütüphaneleri"
      ],
      "metadata": {
        "id": "8-qT7JN3oV4v"
      }
    },
    {
      "cell_type": "code",
      "execution_count": null,
      "metadata": {
        "id": "muCw43f0lcNx"
      },
      "outputs": [],
      "source": [
        "import numpy as np\n",
        "from scipy import stats\n",
        "\n",
        "import matplotlib.pyplot as plt\n",
        "import seaborn as sns\n",
        "\n",
        "from keras.datasets import imdb\n",
        "from keras.preprocessing.sequence import pad_sequences # her satırdaki kelime sayısı aynı olması için\n",
        "from keras.models import Sequential # Sequential bir model yaratılacak\n",
        "# gerekli olan tüm layer'ları Sequential'a ekleyeceğim yani bir dizi oluşturuyorum\n",
        "from keras.layers import SimpleRNN, Dense, Activation, Embedding\n",
        "# Embedding layer, integer'ları belirli boyutlarda yoğunluk vektörlerine\n",
        "# çevirmemizde yardımcı olacak bir tane layer olacak bunu yaparken belirli bir kelime sayısı kullanacağız\n",
        "# kelimeleri integer'dan layer'lara, vektörlere çevireceğiz\n",
        "# sınıflandırma yapabilmek için Dense layer kullanacağız\n",
        "# sınıflandırma yapabilmek için bir tane sigmoit fonksiyonu kullanacağız bunu Activation layer'ın içerisine ekleyeceğiz"
      ]
    },
    {
      "cell_type": "code",
      "source": [],
      "metadata": {
        "id": "aGbcVTuLJNCA"
      },
      "execution_count": null,
      "outputs": []
    },
    {
      "cell_type": "markdown",
      "source": [
        "<a id=\"2\" ></a>\n",
        "## Veri Seti ve Problem Tanımı"
      ],
      "metadata": {
        "id": "-FsnFMI4oRXM"
      }
    },
    {
      "cell_type": "markdown",
      "source": [
        "Bu, IMDB'den alınan ve duyarlılıklara göre (olumlu/olumsuz) etiketlenen 25.000 film incelemesinden oluşan bir veri kümesidir. İncelemeler önceden işlenmiştir ve her inceleme, kelime dizinlerinin (tamsayılar) bir listesi olarak kodlanmıştır. Kolaylık sağlamak amacıyla, kelimeler veri setindeki genel frekansa göre indekslenir, böylece örneğin \"3\" tam sayısı veride en sık görülen 3. kelimeyi kodlar. Bu, \"yalnızca en yaygın 10.000 kelimeyi dikkate alın, ancak en yaygın 20 kelimeyi eleyin\" gibi hızlı filtreleme işlemlerine olanak tanır.\n",
        "\n",
        "Anlamsız bir kelime veya boşluk varsa bu 0 olarak adlandırıldı.\n",
        "\n",
        "25.000 train veri seti - 25.000 test veri seti\n",
        "\n",
        "toplam 50.000 veri"
      ],
      "metadata": {
        "id": "ibxxFYa2vO8y"
      }
    },
    {
      "cell_type": "code",
      "source": [
        "(x_train, y_train), (x_test, y_test) = imdb.load_data(path=\"imdb.npz\",\n",
        "                                                      # num_words=1000 en çok kullanılan 1000 kelimeyi getir diğerlerini getirme\n",
        "                                                      num_words=None, # veri setinin içerisindeki tüm kelimeleri getir\n",
        "                                                      skip_top=0, # 1 ise en sık kullanılan kelimeyi getirme\n",
        "                                                      maxlen=None, # yorumun uzunluğu\n",
        "                                                      seed=113, # veri üretilirken karıştırılır. aynı sırayı vermesi için\n",
        "                                                      start_char=1, # yorumun hangi karakterden başlayacağını söyler 0 ise boş karaker\n",
        "                                                      oov_char=2,\n",
        "                                                      index_from=3\n",
        "                                                     )"
      ],
      "metadata": {
        "id": "dqusvgY6q5xo"
      },
      "execution_count": null,
      "outputs": []
    },
    {
      "cell_type": "code",
      "source": [
        "print(\"Type x_train:\", type(x_train))\n",
        "print(\"Type y_train:\", type(y_train))"
      ],
      "metadata": {
        "colab": {
          "base_uri": "https://localhost:8080/"
        },
        "id": "sS-pT0lToEbw",
        "outputId": "00ea4dea-9dd9-4f5a-d2c1-7671db895ca1"
      },
      "execution_count": null,
      "outputs": [
        {
          "output_type": "stream",
          "name": "stdout",
          "text": [
            "Type x_train: <class 'numpy.ndarray'>\n",
            "Type y_train: <class 'numpy.ndarray'>\n"
          ]
        }
      ]
    },
    {
      "cell_type": "code",
      "source": [
        "print(\"X train shape:\", x_train.shape)\n",
        "print(\"Y train shape:\", y_train.shape)"
      ],
      "metadata": {
        "colab": {
          "base_uri": "https://localhost:8080/"
        },
        "id": "rZZlnBtt8qO-",
        "outputId": "9364a383-b142-4593-e9ce-b594ed850ec9"
      },
      "execution_count": null,
      "outputs": [
        {
          "output_type": "stream",
          "name": "stdout",
          "text": [
            "X train shape: (25000,)\n",
            "Y train shape: (25000,)\n"
          ]
        }
      ]
    },
    {
      "cell_type": "code",
      "source": [
        "# kelimelerin karşılık geldiği integer değerleri\n",
        "x_train[0][:3]"
      ],
      "metadata": {
        "colab": {
          "base_uri": "https://localhost:8080/"
        },
        "id": "TdFS225T-UWY",
        "outputId": "feed533f-32c1-4dd5-d478-581d588466c6"
      },
      "execution_count": null,
      "outputs": [
        {
          "output_type": "execute_result",
          "data": {
            "text/plain": [
              "[1, 14, 22]"
            ]
          },
          "metadata": {},
          "execution_count": 5
        }
      ]
    },
    {
      "cell_type": "code",
      "source": [
        "len(x_train[0])"
      ],
      "metadata": {
        "colab": {
          "base_uri": "https://localhost:8080/"
        },
        "id": "_pXKNCiFev5u",
        "outputId": "5e216296-9097-4833-b873-db728dca78cf"
      },
      "execution_count": null,
      "outputs": [
        {
          "output_type": "execute_result",
          "data": {
            "text/plain": [
              "218"
            ]
          },
          "metadata": {},
          "execution_count": 6
        }
      ]
    },
    {
      "cell_type": "code",
      "source": [
        "len(x_train)"
      ],
      "metadata": {
        "colab": {
          "base_uri": "https://localhost:8080/"
        },
        "id": "6bgrIW2neltF",
        "outputId": "db89f5da-2921-440c-9ee3-5fea5beb3d9a"
      },
      "execution_count": null,
      "outputs": [
        {
          "output_type": "execute_result",
          "data": {
            "text/plain": [
              "25000"
            ]
          },
          "metadata": {},
          "execution_count": 7
        }
      ]
    },
    {
      "cell_type": "code",
      "source": [
        "x_train[:3]"
      ],
      "metadata": {
        "colab": {
          "base_uri": "https://localhost:8080/"
        },
        "id": "dol0DEZgfAwm",
        "outputId": "3aba5ac4-4c82-4537-9216-927742bde4ab"
      },
      "execution_count": null,
      "outputs": [
        {
          "output_type": "execute_result",
          "data": {
            "text/plain": [
              "array([list([1, 14, 22, 16, 43, 530, 973, 1622, 1385, 65, 458, 4468, 66, 3941, 4, 173, 36, 256, 5, 25, 100, 43, 838, 112, 50, 670, 22665, 9, 35, 480, 284, 5, 150, 4, 172, 112, 167, 21631, 336, 385, 39, 4, 172, 4536, 1111, 17, 546, 38, 13, 447, 4, 192, 50, 16, 6, 147, 2025, 19, 14, 22, 4, 1920, 4613, 469, 4, 22, 71, 87, 12, 16, 43, 530, 38, 76, 15, 13, 1247, 4, 22, 17, 515, 17, 12, 16, 626, 18, 19193, 5, 62, 386, 12, 8, 316, 8, 106, 5, 4, 2223, 5244, 16, 480, 66, 3785, 33, 4, 130, 12, 16, 38, 619, 5, 25, 124, 51, 36, 135, 48, 25, 1415, 33, 6, 22, 12, 215, 28, 77, 52, 5, 14, 407, 16, 82, 10311, 8, 4, 107, 117, 5952, 15, 256, 4, 31050, 7, 3766, 5, 723, 36, 71, 43, 530, 476, 26, 400, 317, 46, 7, 4, 12118, 1029, 13, 104, 88, 4, 381, 15, 297, 98, 32, 2071, 56, 26, 141, 6, 194, 7486, 18, 4, 226, 22, 21, 134, 476, 26, 480, 5, 144, 30, 5535, 18, 51, 36, 28, 224, 92, 25, 104, 4, 226, 65, 16, 38, 1334, 88, 12, 16, 283, 5, 16, 4472, 113, 103, 32, 15, 16, 5345, 19, 178, 32]),\n",
              "       list([1, 194, 1153, 194, 8255, 78, 228, 5, 6, 1463, 4369, 5012, 134, 26, 4, 715, 8, 118, 1634, 14, 394, 20, 13, 119, 954, 189, 102, 5, 207, 110, 3103, 21, 14, 69, 188, 8, 30, 23, 7, 4, 249, 126, 93, 4, 114, 9, 2300, 1523, 5, 647, 4, 116, 9, 35, 8163, 4, 229, 9, 340, 1322, 4, 118, 9, 4, 130, 4901, 19, 4, 1002, 5, 89, 29, 952, 46, 37, 4, 455, 9, 45, 43, 38, 1543, 1905, 398, 4, 1649, 26, 6853, 5, 163, 11, 3215, 10156, 4, 1153, 9, 194, 775, 7, 8255, 11596, 349, 2637, 148, 605, 15358, 8003, 15, 123, 125, 68, 23141, 6853, 15, 349, 165, 4362, 98, 5, 4, 228, 9, 43, 36893, 1157, 15, 299, 120, 5, 120, 174, 11, 220, 175, 136, 50, 9, 4373, 228, 8255, 5, 25249, 656, 245, 2350, 5, 4, 9837, 131, 152, 491, 18, 46151, 32, 7464, 1212, 14, 9, 6, 371, 78, 22, 625, 64, 1382, 9, 8, 168, 145, 23, 4, 1690, 15, 16, 4, 1355, 5, 28, 6, 52, 154, 462, 33, 89, 78, 285, 16, 145, 95]),\n",
              "       list([1, 14, 47, 8, 30, 31, 7, 4, 249, 108, 7, 4, 5974, 54, 61, 369, 13, 71, 149, 14, 22, 112, 4, 2401, 311, 12, 16, 3711, 33, 75, 43, 1829, 296, 4, 86, 320, 35, 534, 19, 263, 4821, 1301, 4, 1873, 33, 89, 78, 12, 66, 16, 4, 360, 7, 4, 58, 316, 334, 11, 4, 1716, 43, 645, 662, 8, 257, 85, 1200, 42, 1228, 2578, 83, 68, 3912, 15, 36, 165, 1539, 278, 36, 69, 44076, 780, 8, 106, 14, 6905, 1338, 18, 6, 22, 12, 215, 28, 610, 40, 6, 87, 326, 23, 2300, 21, 23, 22, 12, 272, 40, 57, 31, 11, 4, 22, 47, 6, 2307, 51, 9, 170, 23, 595, 116, 595, 1352, 13, 191, 79, 638, 89, 51428, 14, 9, 8, 106, 607, 624, 35, 534, 6, 227, 7, 129, 113])],\n",
              "      dtype=object)"
            ]
          },
          "metadata": {},
          "execution_count": 8
        }
      ]
    },
    {
      "cell_type": "code",
      "source": [],
      "metadata": {
        "id": "ZZoeYYUffQl6"
      },
      "execution_count": null,
      "outputs": []
    },
    {
      "cell_type": "code",
      "source": [],
      "metadata": {
        "id": "q7BERxhQ9L_2"
      },
      "execution_count": null,
      "outputs": []
    },
    {
      "cell_type": "markdown",
      "source": [
        "<a id=\"3\" ></a>\n",
        "## Keşifsel-Açıklayıcı Veri Analizi (Exploratory Data Science)"
      ],
      "metadata": {
        "id": "rIWqjRJjoYCg"
      }
    },
    {
      "cell_type": "markdown",
      "source": [
        "* Yorumlardaki kelime sayıları incelenecek; kelime sayılarının dağılımlarına bakacağız.\n",
        "* Yorumların uzunluğuna bakacağız; yorumların uzunluğunun dağılımına bakacağız.\n",
        "* Tüm kelimeleri kullanmalı mıyız?\n",
        "* Yorumların hepsini kullanmalı mıyız?"
      ],
      "metadata": {
        "id": "UVvzPNMfofef"
      }
    },
    {
      "cell_type": "code",
      "source": [
        "# kaç tane sınıf var?\n",
        "# binary classification\n",
        "# yorumlar olumlu ve olumsuz olarak sınıflandırılmıştı\n",
        "print(\"y_train values:\", np.unique(y_train))\n",
        "print(\"y_test values:\", np.unique(y_test))"
      ],
      "metadata": {
        "colab": {
          "base_uri": "https://localhost:8080/"
        },
        "id": "UBSoaTTtq5GC",
        "outputId": "ac02c7d7-eabf-4aa6-c586-641848488d09"
      },
      "execution_count": null,
      "outputs": [
        {
          "output_type": "stream",
          "name": "stdout",
          "text": [
            "y_train values: [0 1]\n",
            "y_test values: [0 1]\n"
          ]
        }
      ]
    },
    {
      "cell_type": "code",
      "source": [
        "# sınıfların dağılımlarına bakalım\n",
        "unique, counts = np.unique(y_train, return_counts = True)\n",
        "print(\"y_train distribution:\", dict(zip(unique, counts)))"
      ],
      "metadata": {
        "colab": {
          "base_uri": "https://localhost:8080/"
        },
        "id": "lD-gHdSDnZbj",
        "outputId": "f7a3b9bf-e574-4a41-b4a6-3ded5c065b77"
      },
      "execution_count": null,
      "outputs": [
        {
          "output_type": "stream",
          "name": "stdout",
          "text": [
            "y_train distribution: {0: 12500, 1: 12500}\n"
          ]
        }
      ]
    },
    {
      "cell_type": "code",
      "source": [
        "# negatif ve pozitif görüş sayısının eşit olduğu görülür\n",
        "# negatif görüş sayısı 0: 12500, pozitif görüş sayısı 0: 12500\n",
        "# yani %100 dengeli bir veri setidir."
      ],
      "metadata": {
        "id": "HZ7v2NxXJZbm"
      },
      "execution_count": null,
      "outputs": []
    },
    {
      "cell_type": "code",
      "source": [
        "# test veri setide %100 dengeli bir veri setidir.\n",
        "unique, counts = np.unique(y_test, return_counts=True)\n",
        "print(\"y_test distribution:\", dict(zip(unique, counts)))"
      ],
      "metadata": {
        "colab": {
          "base_uri": "https://localhost:8080/"
        },
        "id": "J2jjaF2SLBqf",
        "outputId": "529632d8-5ac9-4940-d0b2-5a4cb160599f"
      },
      "execution_count": null,
      "outputs": [
        {
          "output_type": "stream",
          "name": "stdout",
          "text": [
            "y_test distribution: {0: 12500, 1: 12500}\n"
          ]
        }
      ]
    },
    {
      "cell_type": "code",
      "source": [
        "# countplot ile görselleştirelim\n",
        "plt.figure()\n",
        "sns.countplot(x=y_train)\n",
        "plt.xlabel(\"Classes\")\n",
        "plt.ylabel(\"Freq\")\n",
        "plt.title(\"y_train\")\n",
        "plt.show()"
      ],
      "metadata": {
        "colab": {
          "base_uri": "https://localhost:8080/",
          "height": 472
        },
        "id": "3AvFJZPCKEB9",
        "outputId": "f78c488a-d0f7-4696-c239-b653c4a75e1e"
      },
      "execution_count": null,
      "outputs": [
        {
          "output_type": "display_data",
          "data": {
            "text/plain": [
              "<Figure size 640x480 with 1 Axes>"
            ],
            "image/png": "[encoded data removed]"
          },
          "metadata": {}
        }
      ]
    },
    {
      "cell_type": "code",
      "source": [
        "# countplot ile görselleştirelim\n",
        "plt.figure()\n",
        "sns.countplot(x =y_test)\n",
        "plt.xlabel(\"Classes\")\n",
        "plt.ylabel(\"Freq\")\n",
        "plt.title(\"y_test\")\n",
        "plt.show()"
      ],
      "metadata": {
        "colab": {
          "base_uri": "https://localhost:8080/",
          "height": 471
        },
        "id": "LGa07LAgMhvw",
        "outputId": "17df45bd-5f1b-48e8-d5c4-94e9b5a3cb2f"
      },
      "execution_count": null,
      "outputs": [
        {
          "output_type": "display_data",
          "data": {
            "text/plain": [
              "<Figure size 640x480 with 1 Axes>"
            ],
            "image/png": "[encoded data removed]"
          },
          "metadata": {}
        }
      ]
    },
    {
      "cell_type": "code",
      "source": [
        "for i, ii in zip(x_train[:3], x_test[:3]): # bu veri setlerinde bulunan her bir yorumun uzunluğu\n",
        "  print(i)\n",
        "  print(ii)"
      ],
      "metadata": {
        "colab": {
          "base_uri": "https://localhost:8080/"
        },
        "id": "GtnB7APsfVjD",
        "outputId": "0e6aca5c-25ed-4085-834a-05ecf5550298"
      },
      "execution_count": null,
      "outputs": [
        {
          "output_type": "stream",
          "name": "stdout",
          "text": [
            "[1, 14, 22, 16, 43, 530, 973, 1622, 1385, 65, 458, 4468, 66, 3941, 4, 173, 36, 256, 5, 25, 100, 43, 838, 112, 50, 670, 22665, 9, 35, 480, 284, 5, 150, 4, 172, 112, 167, 21631, 336, 385, 39, 4, 172, 4536, 1111, 17, 546, 38, 13, 447, 4, 192, 50, 16, 6, 147, 2025, 19, 14, 22, 4, 1920, 4613, 469, 4, 22, 71, 87, 12, 16, 43, 530, 38, 76, 15, 13, 1247, 4, 22, 17, 515, 17, 12, 16, 626, 18, 19193, 5, 62, 386, 12, 8, 316, 8, 106, 5, 4, 2223, 5244, 16, 480, 66, 3785, 33, 4, 130, 12, 16, 38, 619, 5, 25, 124, 51, 36, 135, 48, 25, 1415, 33, 6, 22, 12, 215, 28, 77, 52, 5, 14, 407, 16, 82, 10311, 8, 4, 107, 117, 5952, 15, 256, 4, 31050, 7, 3766, 5, 723, 36, 71, 43, 530, 476, 26, 400, 317, 46, 7, 4, 12118, 1029, 13, 104, 88, 4, 381, 15, 297, 98, 32, 2071, 56, 26, 141, 6, 194, 7486, 18, 4, 226, 22, 21, 134, 476, 26, 480, 5, 144, 30, 5535, 18, 51, 36, 28, 224, 92, 25, 104, 4, 226, 65, 16, 38, 1334, 88, 12, 16, 283, 5, 16, 4472, 113, 103, 32, 15, 16, 5345, 19, 178, 32]\n",
            "[1, 591, 202, 14, 31, 6, 717, 10, 10, 18142, 10698, 5, 4, 360, 7, 4, 177, 5760, 394, 354, 4, 123, 9, 1035, 1035, 1035, 10, 10, 13, 92, 124, 89, 488, 7944, 100, 28, 1668, 14, 31, 23, 27, 7479, 29, 220, 468, 8, 124, 14, 286, 170, 8, 157, 46, 5, 27, 239, 16, 179, 15387, 38, 32, 25, 7944, 451, 202, 14, 6, 717]\n",
            "[1, 194, 1153, 194, 8255, 78, 228, 5, 6, 1463, 4369, 5012, 134, 26, 4, 715, 8, 118, 1634, 14, 394, 20, 13, 119, 954, 189, 102, 5, 207, 110, 3103, 21, 14, 69, 188, 8, 30, 23, 7, 4, 249, 126, 93, 4, 114, 9, 2300, 1523, 5, 647, 4, 116, 9, 35, 8163, 4, 229, 9, 340, 1322, 4, 118, 9, 4, 130, 4901, 19, 4, 1002, 5, 89, 29, 952, 46, 37, 4, 455, 9, 45, 43, 38, 1543, 1905, 398, 4, 1649, 26, 6853, 5, 163, 11, 3215, 10156, 4, 1153, 9, 194, 775, 7, 8255, 11596, 349, 2637, 148, 605, 15358, 8003, 15, 123, 125, 68, 23141, 6853, 15, 349, 165, 4362, 98, 5, 4, 228, 9, 43, 36893, 1157, 15, 299, 120, 5, 120, 174, 11, 220, 175, 136, 50, 9, 4373, 228, 8255, 5, 25249, 656, 245, 2350, 5, 4, 9837, 131, 152, 491, 18, 46151, 32, 7464, 1212, 14, 9, 6, 371, 78, 22, 625, 64, 1382, 9, 8, 168, 145, 23, 4, 1690, 15, 16, 4, 1355, 5, 28, 6, 52, 154, 462, 33, 89, 78, 285, 16, 145, 95]\n",
            "[1, 14, 22, 3443, 6, 176, 7, 5063, 88, 12, 2679, 23, 1310, 5, 109, 943, 4, 114, 9, 55, 606, 5, 111, 7, 4, 139, 193, 273, 23, 4, 172, 270, 11, 7216, 10626, 4, 8463, 2801, 109, 1603, 21, 4, 22, 3861, 8, 6, 1193, 1330, 10, 10, 4, 105, 987, 35, 841, 16873, 19, 861, 1074, 5, 1987, 17975, 45, 55, 221, 15, 670, 5304, 526, 14, 1069, 4, 405, 5, 2438, 7, 27, 85, 108, 131, 4, 5045, 5304, 3884, 405, 9, 3523, 133, 5, 50, 13, 104, 51, 66, 166, 14, 22, 157, 9, 4, 530, 239, 34, 8463, 2801, 45, 407, 31, 7, 41, 3778, 105, 21, 59, 299, 12, 38, 950, 5, 4521, 15, 45, 629, 488, 2733, 127, 6, 52, 292, 17, 4, 6936, 185, 132, 1988, 5304, 1799, 488, 2693, 47, 6, 392, 173, 4, 21686, 4378, 270, 2352, 4, 1500, 7, 4, 65, 55, 73, 11, 346, 14, 20, 9, 6, 976, 2078, 7, 5293, 861, 12746, 5, 4182, 30, 3127, 23651, 56, 4, 841, 5, 990, 692, 8, 4, 1669, 398, 229, 10, 10, 13, 2822, 670, 5304, 14, 9, 31, 7, 27, 111, 108, 15, 2033, 19, 7836, 1429, 875, 551, 14, 22, 9, 1193, 21, 45, 4829, 5, 45, 252, 8, 12508, 6, 565, 921, 3639, 39, 4, 529, 48, 25, 181, 8, 67, 35, 1732, 22, 49, 238, 60, 135, 1162, 14, 9, 290, 4, 58, 10, 10, 472, 45, 55, 878, 8, 169, 11, 374, 5687, 25, 203, 28, 8, 818, 12, 125, 4, 3077]\n",
            "[1, 14, 47, 8, 30, 31, 7, 4, 249, 108, 7, 4, 5974, 54, 61, 369, 13, 71, 149, 14, 22, 112, 4, 2401, 311, 12, 16, 3711, 33, 75, 43, 1829, 296, 4, 86, 320, 35, 534, 19, 263, 4821, 1301, 4, 1873, 33, 89, 78, 12, 66, 16, 4, 360, 7, 4, 58, 316, 334, 11, 4, 1716, 43, 645, 662, 8, 257, 85, 1200, 42, 1228, 2578, 83, 68, 3912, 15, 36, 165, 1539, 278, 36, 69, 44076, 780, 8, 106, 14, 6905, 1338, 18, 6, 22, 12, 215, 28, 610, 40, 6, 87, 326, 23, 2300, 21, 23, 22, 12, 272, 40, 57, 31, 11, 4, 22, 47, 6, 2307, 51, 9, 170, 23, 595, 116, 595, 1352, 13, 191, 79, 638, 89, 51428, 14, 9, 8, 106, 607, 624, 35, 534, 6, 227, 7, 129, 113]\n",
            "[1, 111, 748, 4368, 1133, 33782, 24563, 4, 87, 1551, 1262, 7, 31, 318, 9459, 7, 4, 498, 5076, 748, 63, 29, 5161, 220, 686, 10941, 5, 17, 12, 575, 220, 2507, 17, 6, 185, 132, 24563, 16, 53, 928, 11, 51278, 74, 4, 438, 21, 27, 10044, 589, 8, 22, 107, 20123, 19550, 997, 1638, 8, 35, 2076, 9019, 11, 22, 231, 54, 29, 1706, 29, 100, 18995, 2425, 34, 12998, 8738, 48078, 5, 19353, 98, 31, 2122, 33, 6, 58, 14, 3808, 1638, 8, 4, 365, 7, 2789, 3761, 356, 346, 4, 27608, 1060, 63, 29, 93, 11, 5421, 11, 15236, 33, 6, 58, 54, 1270, 431, 748, 7, 32, 2580, 16, 11, 94, 19469, 10, 10, 4, 993, 45222, 7, 4, 1766, 2634, 2164, 24563, 8, 847, 8, 1450, 121, 31, 7, 27, 86, 2663, 10760, 16, 6, 465, 993, 2006, 30995, 573, 17, 61862, 42, 4, 17345, 37, 473, 6, 711, 6, 8869, 7, 328, 212, 70, 30, 258, 11, 220, 32, 7, 108, 21, 133, 12, 9, 55, 465, 849, 3711, 53, 33, 2071, 1969, 37, 70, 1144, 4, 5940, 1409, 74, 476, 37, 62, 91, 1329, 169, 4, 1330, 10104, 146, 655, 2212, 5, 258, 12, 184, 10104, 546, 5, 849, 10333, 7, 4, 22, 1436, 18, 631, 1386, 797, 7, 4, 8712, 71, 348, 425, 4320, 1061, 19, 10288, 5, 12141, 11, 661, 8, 339, 17863, 4, 2455, 11434, 7, 4, 1962, 10, 10, 263, 787, 9, 270, 11, 6, 9466, 4, 61862, 48414, 121, 4, 5437, 26, 4434, 19, 68, 1372, 5, 28, 446, 6, 318, 7149, 8, 67, 51, 36, 70, 81, 8, 4392, 2294, 36, 1197, 8, 68411, 25399, 18, 6, 711, 4, 9909, 26, 10296, 1125, 11, 14, 636, 720, 12, 426, 28, 77, 776, 8, 97, 38, 111, 7489, 6175, 168, 1239, 5189, 137, 25399, 18, 27, 173, 9, 2399, 17, 6, 12397, 428, 14657, 232, 11, 4, 8014, 37, 272, 40, 2708, 247, 30, 656, 6, 13182, 54, 25399, 3292, 98, 6, 2840, 40, 558, 37, 6093, 98, 4, 17345, 1197, 15, 14, 9, 57, 4893, 5, 4659, 6, 275, 711, 7937, 25399, 3292, 98, 6, 31036, 10, 10, 6639, 19, 14, 10241, 267, 162, 711, 37, 5900, 752, 98, 4, 17345, 2378, 90, 19, 6, 73284, 7, 36744, 1810, 77553, 4, 4770, 3183, 930, 8, 508, 90, 4, 1317, 8, 4, 48414, 17, 15454, 3965, 1853, 4, 1494, 8, 4468, 189, 4, 31036, 6287, 5774, 4, 4770, 5, 95, 271, 23, 6, 7742, 6063, 21627, 5437, 33, 1526, 6, 425, 3155, 33697, 4535, 1636, 7, 4, 4669, 11966, 469, 4, 4552, 54, 4, 150, 5664, 17345, 280, 53, 68411, 25399, 18, 339, 29, 1978, 27, 7885, 5, 17303, 68, 1830, 19, 6571, 14605, 4, 1515, 7, 263, 65, 2132, 34, 6, 5680, 7489, 43, 159, 29, 9, 4706, 9, 387, 73, 195, 584, 10, 10, 1069, 4, 58, 810, 54, 14, 6078, 117, 22, 16, 93, 5, 1069, 4, 192, 15, 12, 16, 93, 34, 6, 1766, 28228, 33, 4, 5673, 7, 15, 18760, 9252, 3286, 325, 12, 62, 30, 776, 8, 67, 14, 17, 6, 12214, 44, 148, 687, 24563, 203, 42, 203, 24, 28, 69, 32157, 6676, 11, 330, 54, 29, 93, 61862, 21, 845, 14148, 27, 1099, 7, 819, 4, 22, 1407, 17, 6, 14967, 787, 7, 2460, 19569, 61862, 100, 30, 4, 3737, 3617, 3169, 2321, 42, 1898, 11, 4, 3814, 42, 101, 704, 7, 101, 999, 15, 1625, 94, 2926, 180, 5, 9, 9101, 34, 15205, 45, 6, 1429, 22, 60, 6, 1220, 31, 11, 94, 6408, 96, 21, 94, 749, 9, 57, 975]\n"
          ]
        }
      ]
    },
    {
      "cell_type": "code",
      "source": [
        "# her bir yorumdaki toplam kelime sayısı\n",
        "review_len_train = []\n",
        "review_len_test = []\n",
        "\n",
        "for i, ii in zip(x_train, x_test): # bu veri setlerinde bulunan her bir yorumun uzunluğu\n",
        "  review_len_train.append(len(i)) # i, bir yorumu temsil eder\n",
        "  # 25.000 tane yorumun sırasıyla her birine erişir ve uzunluklarına bakar\n",
        "  review_len_test.append(len(ii))"
      ],
      "metadata": {
        "id": "3_xr31lEfVgA"
      },
      "execution_count": null,
      "outputs": []
    },
    {
      "cell_type": "code",
      "source": [
        "# test veri setinde ek küçük yorum kaç kelimeden oluşuyor\n",
        "min(review_len_test)"
      ],
      "metadata": {
        "colab": {
          "base_uri": "https://localhost:8080/"
        },
        "id": "ZUqToeqzfVl8",
        "outputId": "7c404a6c-b1c2-4360-a539-282bcf86902f"
      },
      "execution_count": null,
      "outputs": [
        {
          "output_type": "execute_result",
          "data": {
            "text/plain": [
              "7"
            ]
          },
          "metadata": {},
          "execution_count": 17
        }
      ]
    },
    {
      "cell_type": "code",
      "source": [
        "# train veri setinde ek küçük yorum kaç kelimeden oluşuyor\n",
        "min(review_len_train)"
      ],
      "metadata": {
        "colab": {
          "base_uri": "https://localhost:8080/"
        },
        "id": "ZcnIR5pH_S4i",
        "outputId": "e9a657ea-452c-4ca8-f6f0-7293f0372fc9"
      },
      "execution_count": null,
      "outputs": [
        {
          "output_type": "execute_result",
          "data": {
            "text/plain": [
              "11"
            ]
          },
          "metadata": {},
          "execution_count": 18
        }
      ]
    },
    {
      "cell_type": "code",
      "source": [
        "# yorumlardaki kelime sayılarının dağılımları\n",
        "# alpha ile saydamlık ekledim\n",
        "plt.figure(figsize=(10, 5))\n",
        "sns.distplot(review_len_train, hist_kws = {\"alpha\":0.3}) # train için\n",
        "sns.distplot(review_len_test, hist_kws={\"alpha\":0.3}) # test için\n",
        "plt.show()"
      ],
      "metadata": {
        "colab": {
          "base_uri": "https://localhost:8080/",
          "height": 838
        },
        "id": "PCix3Is3_X7r",
        "outputId": "184b389a-ea36-48fe-9e6d-8002fa60dbbe"
      },
      "execution_count": null,
      "outputs": [
        {
          "output_type": "stream",
          "name": "stderr",
          "text": [
            "<ipython-input-19-7599386ec338>:4: UserWarning: \n",
            "\n",
            "`distplot` is a deprecated function and will be removed in seaborn v0.14.0.\n",
            "\n",
            "Please adapt your code to use either `displot` (a figure-level function with\n",
            "similar flexibility) or `histplot` (an axes-level function for histograms).\n",
            "\n",
            "For a guide to updating your code to use the new functions, please see\n",
            "https://gist.github.com/mwaskom/de44147ed2974457ad6372750bbe5751\n",
            "\n",
            "  sns.distplot(review_len_train, hist_kws = {\"alpha\":0.3}) # train için\n",
            "<ipython-input-19-7599386ec338>:5: UserWarning: \n",
            "\n",
            "`distplot` is a deprecated function and will be removed in seaborn v0.14.0.\n",
            "\n",
            "Please adapt your code to use either `displot` (a figure-level function with\n",
            "similar flexibility) or `histplot` (an axes-level function for histograms).\n",
            "\n",
            "For a guide to updating your code to use the new functions, please see\n",
            "https://gist.github.com/mwaskom/de44147ed2974457ad6372750bbe5751\n",
            "\n",
            "  sns.distplot(review_len_test, hist_kws={\"alpha\":0.3}) # test için\n"
          ]
        },
        {
          "output_type": "display_data",
          "data": {
            "text/plain": [
              "<Figure size 1000x500 with 1 Axes>"
            ],
            "image/png": "[encoded data removed]"
          },
          "metadata": {}
        }
      ]
    },
    {
      "cell_type": "markdown",
      "source": [
        "mavi ve turuncu var. tamamen üst üste oturmuş 2 tane farklı veri setinin histogramıdır. kuyruk sağa doğru uzamış burada bir pozitif çarpıklık söz konusudur yani normal dağılıma sahip değildir."
      ],
      "metadata": {
        "id": "eiQne1XSEf3l"
      }
    },
    {
      "cell_type": "code",
      "source": [
        "# medyan ve ortalama değerlerine bakalım\n",
        "# iki histogram aynı olduğundan sadece bir tanesinin medyan ve ortalama değerine baksam yeterli olur\n",
        "print(\"Train mean:\", np.mean(review_len_train))\n",
        "print(\"Train median:\", np.median(review_len_train))\n",
        "print(\"Train mode:\", stats.mode(review_len_train)) # en çok tekrar eden değer, grafikteki tepe noktasıdır"
      ],
      "metadata": {
        "colab": {
          "base_uri": "https://localhost:8080/"
        },
        "id": "zLr6lH9K_X-g",
        "outputId": "ee693cc7-450a-4951-feb7-c515937efd98"
      },
      "execution_count": null,
      "outputs": [
        {
          "output_type": "stream",
          "name": "stdout",
          "text": [
            "Train mean: 238.71364\n",
            "Train median: 178.0\n",
            "Train mode: ModeResult(mode=132, count=196)\n"
          ]
        }
      ]
    },
    {
      "cell_type": "markdown",
      "source": [
        "keras kütüphanesinden kullanacağım neural network'ün input parametreleri fix olmalı ama buradaki dağılımda çarpıklık vardır. bir yorumda 2500 kelime varken diğerinde 11 tane kelime vardır dolayısıyla burada belirli bir sayı belirlemek zorundayım ve tüm yorumları belirlenen uzunluğa getirmeliyim bunun için mod değerini(132) kullanabiliriz. dolayısıyla moddan uzun olanları kırpacağız az olanları ise 0 ile dolduracağız"
      ],
      "metadata": {
        "id": "PWzR64GIJ8c3"
      }
    },
    {
      "cell_type": "code",
      "source": [
        "# kaç tane kelime var\n",
        "# buradaki kelimelerin hepsinin bir integer karşılığı var\n",
        "# kelimeleri integer olarak vermiş\n",
        "# kelimelerin indeksini alıyorum\n",
        "word_index = imdb.get_word_index()\n",
        "print(type(word_index)) # <class 'dict'>"
      ],
      "metadata": {
        "colab": {
          "base_uri": "https://localhost:8080/"
        },
        "id": "cjuCsIDHFkH7",
        "outputId": "210c30bb-3ea2-479d-f09d-b16620cec68f"
      },
      "execution_count": null,
      "outputs": [
        {
          "output_type": "stream",
          "name": "stdout",
          "text": [
            "<class 'dict'>\n"
          ]
        }
      ]
    },
    {
      "cell_type": "markdown",
      "source": [
        "word_index\n",
        "\n",
        "{'fawn': 34701,\n",
        " 'tsukino': 52006,\n",
        " 'nunnery': 52007,\n",
        " 'sonja': 16816,\n",
        " 'vani': 63951...}"
      ],
      "metadata": {
        "id": "2Gv_ukKbTotz"
      }
    },
    {
      "cell_type": "code",
      "source": [
        "len(word_index)\n",
        "# 88584 tane kelime vardır"
      ],
      "metadata": {
        "colab": {
          "base_uri": "https://localhost:8080/"
        },
        "id": "3JwRCZHXT0rz",
        "outputId": "35e00e2e-e367-4705-9bde-3930c190785f"
      },
      "execution_count": null,
      "outputs": [
        {
          "output_type": "execute_result",
          "data": {
            "text/plain": [
              "88584"
            ]
          },
          "metadata": {},
          "execution_count": 22
        }
      ]
    },
    {
      "cell_type": "code",
      "source": [
        "# en çok kullanılan kelimenin the olduğu görülür.\n",
        "word_index[\"the\"] # the 1 ile temsil edilir"
      ],
      "metadata": {
        "colab": {
          "base_uri": "https://localhost:8080/"
        },
        "id": "86BJ4qBl_YEI",
        "outputId": "db60615a-bbf0-4315-921f-5b858de71003"
      },
      "execution_count": null,
      "outputs": [
        {
          "output_type": "execute_result",
          "data": {
            "text/plain": [
              "1"
            ]
          },
          "metadata": {},
          "execution_count": 23
        }
      ]
    },
    {
      "cell_type": "code",
      "source": [
        "# verilen sayıya göre kelime tespiti\n",
        "for keys, values in word_index.items():\n",
        "  if values == 1:\n",
        "    print(keys)"
      ],
      "metadata": {
        "colab": {
          "base_uri": "https://localhost:8080/"
        },
        "id": "9iIUNfvDV3P0",
        "outputId": "e808faa2-319f-48d9-bbe4-d0baed4c596b"
      },
      "execution_count": null,
      "outputs": [
        {
          "output_type": "stream",
          "name": "stdout",
          "text": [
            "the\n"
          ]
        }
      ]
    },
    {
      "cell_type": "code",
      "source": [
        "# verilen sayıya göre kelime tespiti\n",
        "for keys, values in word_index.items():\n",
        "  if values == 11: # 11. en çok kullanılan kelime\n",
        "    print(keys) # of, 11 integer değeri ile temsil edilir\n",
        "  if values == 4: # 4. en çok kullanılan kelime\n",
        "    print(keys) # this, 4 integer değeri ile temsil edilir"
      ],
      "metadata": {
        "colab": {
          "base_uri": "https://localhost:8080/"
        },
        "id": "Jk36KmHZV3cX",
        "outputId": "3777f09c-fbb8-49de-e061-a5231b327113"
      },
      "execution_count": null,
      "outputs": [
        {
          "output_type": "stream",
          "name": "stdout",
          "text": [
            "of\n",
            "this\n"
          ]
        }
      ]
    },
    {
      "cell_type": "code",
      "source": [
        "d = x_train[0] # birinci yorum\n",
        "d[:4]"
      ],
      "metadata": {
        "colab": {
          "base_uri": "https://localhost:8080/"
        },
        "id": "Or41KFHdWvFO",
        "outputId": "6004eee1-b01f-4dc7-fb0f-5f121507bc16"
      },
      "execution_count": null,
      "outputs": [
        {
          "output_type": "execute_result",
          "data": {
            "text/plain": [
              "[1, 14, 22, 16]"
            ]
          },
          "metadata": {},
          "execution_count": 26
        }
      ]
    },
    {
      "cell_type": "markdown",
      "source": [
        "word_index.items()\n",
        "\n",
        "('ungoriest', 86786), ('asheville', 86787)..."
      ],
      "metadata": {
        "id": "ZgVoZqQtNBdW"
      }
    },
    {
      "cell_type": "code",
      "source": [
        "# sayılarla temsil edilen kelimeleri, kelime karşılığına çevireceğiz\n",
        "def whatItSay(index = 24):\n",
        "  reverse_index = dict([(value, key) for (key, value) in word_index.items()])\n",
        "  decode_review = \" \".join([reverse_index.get(i - 3, \"!\") for i in x_train[index]])\n",
        "  print(decode_review)\n",
        "  print(y_train[index]) # yorum olumlu(1) mu olumsuz(0) mu\n",
        "  return decode_review"
      ],
      "metadata": {
        "id": "cUYalYbJKpkL"
      },
      "execution_count": null,
      "outputs": []
    },
    {
      "cell_type": "code",
      "source": [
        "decoded_review = whatItSay() # 24. yorum"
      ],
      "metadata": {
        "colab": {
          "base_uri": "https://localhost:8080/"
        },
        "id": "pMafTPcCVm-q",
        "outputId": "21aba310-24a5-4e7d-96e4-105905070132"
      },
      "execution_count": null,
      "outputs": [
        {
          "output_type": "stream",
          "name": "stdout",
          "text": [
            "! the original demille movie was made in 1938 with frederic march a very good film indeed hollywood's love of remakes brings us a fairly interesting movie starring yul brynner he of course was brilliant as he almost always seemed to be in all of his movies charlton heston as andrew jackson was a stroke of genius however the movie did tend to get a little long in places it does not move at the pace of the 1938 version still it is a fun movie that should be seen at least once\n",
            "1\n"
          ]
        }
      ]
    },
    {
      "cell_type": "code",
      "source": [
        "# 24. yorum\n",
        "x_train[24][:3]"
      ],
      "metadata": {
        "colab": {
          "base_uri": "https://localhost:8080/"
        },
        "id": "-rMT-IgRPWZL",
        "outputId": "5c5588f9-40eb-4788-9df6-70546f367971"
      },
      "execution_count": null,
      "outputs": [
        {
          "output_type": "execute_result",
          "data": {
            "text/plain": [
              "[1, 4, 204]"
            ]
          },
          "metadata": {},
          "execution_count": 29
        }
      ]
    },
    {
      "cell_type": "code",
      "source": [
        "reverse_index = dict([(value, key) for (key, value) in word_index.items()])"
      ],
      "metadata": {
        "id": "-mJkzluuS_dL"
      },
      "execution_count": null,
      "outputs": []
    },
    {
      "cell_type": "code",
      "source": [
        "# belirtilen key yoksa \"Not Found\" geri dönderir\n",
        "reverse_index.get(-2, \"Not Found\")"
      ],
      "metadata": {
        "colab": {
          "base_uri": "https://localhost:8080/",
          "height": 35
        },
        "id": "TKge4o8qSOBG",
        "outputId": "2894ee62-e8f9-4eec-dc11-95013f16fa64"
      },
      "execution_count": null,
      "outputs": [
        {
          "output_type": "execute_result",
          "data": {
            "text/plain": [
              "'Not Found'"
            ],
            "application/vnd.google.colaboratory.intrinsic+json": {
              "type": "string"
            }
          },
          "metadata": {},
          "execution_count": 31
        }
      ]
    },
    {
      "cell_type": "code",
      "source": [
        "[reverse_index.get(i-3, \"!\") for i in x_train[24]][:3]"
      ],
      "metadata": {
        "colab": {
          "base_uri": "https://localhost:8080/"
        },
        "id": "WsNi6xdVPlPF",
        "outputId": "56b93e84-f7d8-429e-878a-2f1cbeedcf31"
      },
      "execution_count": null,
      "outputs": [
        {
          "output_type": "execute_result",
          "data": {
            "text/plain": [
              "['!', 'the', 'original']"
            ]
          },
          "metadata": {},
          "execution_count": 32
        }
      ]
    },
    {
      "cell_type": "code",
      "source": [],
      "metadata": {
        "id": "cqC8r8gISI7c"
      },
      "execution_count": null,
      "outputs": []
    },
    {
      "cell_type": "code",
      "source": [],
      "metadata": {
        "id": "qBO4aOjTNhbx"
      },
      "execution_count": null,
      "outputs": []
    },
    {
      "cell_type": "markdown",
      "source": [
        "<a id=\"4\" ></a>\n",
        "## Preprocess: Padding ve Eğitim/Test Verisinin Ayrılması"
      ],
      "metadata": {
        "id": "RqCf83FDoh8N"
      }
    },
    {
      "cell_type": "markdown",
      "source": [
        "EDA sonucunda çıkan bilgiler doğrultusunda veriyi traning işlemine hazırlayacağız."
      ],
      "metadata": {
        "id": "y-zxrgtWoiod"
      }
    },
    {
      "cell_type": "code",
      "source": [
        "# yorumlar 88584 tane benzersiz kelimeden oluşuyor\n",
        "len(reverse_index)"
      ],
      "metadata": {
        "colab": {
          "base_uri": "https://localhost:8080/"
        },
        "id": "f10FtTUFq3qU",
        "outputId": "6fee09b8-b604-438c-c07f-0c39f8bf02b7"
      },
      "execution_count": null,
      "outputs": [
        {
          "output_type": "execute_result",
          "data": {
            "text/plain": [
              "88584"
            ]
          },
          "metadata": {},
          "execution_count": 33
        }
      ]
    },
    {
      "cell_type": "code",
      "source": [
        "# 88584 çok fazla olduğundan 15000 ile sınırlayalım\n",
        "num_words = 15000"
      ],
      "metadata": {
        "id": "s8xPNhUceA9H"
      },
      "execution_count": null,
      "outputs": []
    },
    {
      "cell_type": "code",
      "source": [
        "# num_words=15000 en çok kullanılan 15000 kelimeyi getir diğerlerini getirme\n",
        "(x_train, y_train), (x_test, y_test) = imdb.load_data(num_words = num_words)"
      ],
      "metadata": {
        "id": "Sk1DASfwekXM"
      },
      "execution_count": null,
      "outputs": []
    },
    {
      "cell_type": "code",
      "source": [
        "# yorumlar farklı boyutta olduğundan padding işlemi uygulayacağız\n",
        "# eğer belirlenen boyuttan fazla ise kırpacağız kısa olanları ise 0 ile dolduracağız"
      ],
      "metadata": {
        "id": "hs7rs2rNe4j6"
      },
      "execution_count": null,
      "outputs": []
    },
    {
      "cell_type": "code",
      "source": [
        "# yorumlardaki kelime dağılımlarına baktığımızda\n",
        "# bir yorumda genellikle 132 tane kelimenin olduğunu görmüştük (mod)\n",
        "maxlen = 132"
      ],
      "metadata": {
        "id": "po-K9A2fe4qV"
      },
      "execution_count": null,
      "outputs": []
    },
    {
      "cell_type": "code",
      "source": [
        "x_train = pad_sequences(x_train, maxlen=maxlen)\n",
        "x_test = pad_sequences(x_test, maxlen=maxlen)"
      ],
      "metadata": {
        "id": "b0N4IF8hhqvA"
      },
      "execution_count": null,
      "outputs": []
    },
    {
      "cell_type": "code",
      "source": [
        "# 5. yoruma bakalım\n",
        "x_train[5] # 132'ye tamamlayabilmek için başına 0'lar eklenmiş\n",
        "# sıfırın kelime olarak bir karşılığı yoktur"
      ],
      "metadata": {
        "colab": {
          "base_uri": "https://localhost:8080/"
        },
        "id": "2-N-NYCChqxo",
        "outputId": "dd20c601-1afe-4fb0-bdf5-bf0499deae3c"
      },
      "execution_count": null,
      "outputs": [
        {
          "output_type": "execute_result",
          "data": {
            "text/plain": [
              "array([   0,    0,    0,    0,    0,    0,    0,    0,    0,    0,    0,\n",
              "          0,    0,    0,    0,    0,    0,    0,    0,    0,    0,    0,\n",
              "          0,    0,    0,    0,    0,    0,    0,    0,    0,    0,    0,\n",
              "          0,    0,    0,    0,    0,    0,    0,    0,    0,    0,    0,\n",
              "          0,    0,    0,    0,    0,    0,    0,    0,    0,    0,    0,\n",
              "          0,    0,    0,    0,    0,    0,    0,    0,    0,    0,    0,\n",
              "          0,    0,    0,    0,    0,    0,    0,    0,    0,    0,    0,\n",
              "          0,    0,    0,    0,    0,    0,    0,    0,    0,    0,    0,\n",
              "          0,    1,  778,  128,   74,   12,  630,  163,   15,    4, 1766,\n",
              "       7982, 1051,    2,   32,   85,  156,   45,   40,  148,  139,  121,\n",
              "        664,  665,   10,   10, 1361,  173,    4,  749,    2,   16, 3804,\n",
              "          8,    4,  226,   65,   12,   43,  127,   24,    2,   10,   10],\n",
              "      dtype=int32)"
            ]
          },
          "metadata": {},
          "execution_count": 39
        }
      ]
    },
    {
      "cell_type": "code",
      "source": [
        "# belirtilen key yoksa \"Not Found\" geri dönderir\n",
        "reverse_index.get(0, \"Not Found\")"
      ],
      "metadata": {
        "colab": {
          "base_uri": "https://localhost:8080/",
          "height": 35
        },
        "id": "s1XQDVV5hq0X",
        "outputId": "9ef2b3d3-b5fe-4539-feef-a3a44a4fa1ac"
      },
      "execution_count": null,
      "outputs": [
        {
          "output_type": "execute_result",
          "data": {
            "text/plain": [
              "'Not Found'"
            ],
            "application/vnd.google.colaboratory.intrinsic+json": {
              "type": "string"
            }
          },
          "metadata": {},
          "execution_count": 40
        }
      ]
    },
    {
      "cell_type": "code",
      "source": [
        "# ilk 10 yorumun uzunluğu\n",
        "for i in x_train[:10]:\n",
        "  print(len(i)) # bütün yorumların uzunluğunun 132 olduğu görülür"
      ],
      "metadata": {
        "colab": {
          "base_uri": "https://localhost:8080/"
        },
        "id": "TvMhPgYgjnzx",
        "outputId": "d87890c7-0354-4c48-8d24-685dad41085d"
      },
      "execution_count": null,
      "outputs": [
        {
          "output_type": "stream",
          "name": "stdout",
          "text": [
            "132\n",
            "132\n",
            "132\n",
            "132\n",
            "132\n",
            "132\n",
            "132\n",
            "132\n",
            "132\n",
            "132\n"
          ]
        }
      ]
    },
    {
      "cell_type": "code",
      "source": [
        "# 5. yorumun kelime karşılığını getirir\n",
        "# 0 ise olumsuz, 1 ise olumlu\n",
        "decoded_review = whatItSay(5)"
      ],
      "metadata": {
        "colab": {
          "base_uri": "https://localhost:8080/"
        },
        "id": "D_53MPWGk_4y",
        "outputId": "e8817d9e-cf50-4e6c-9614-b2ae0ea3be2a"
      },
      "execution_count": null,
      "outputs": [
        {
          "output_type": "stream",
          "name": "stdout",
          "text": [
            "! ! ! ! ! ! ! ! ! ! ! ! ! ! ! ! ! ! ! ! ! ! ! ! ! ! ! ! ! ! ! ! ! ! ! ! ! ! ! ! ! ! ! ! ! ! ! ! ! ! ! ! ! ! ! ! ! ! ! ! ! ! ! ! ! ! ! ! ! ! ! ! ! ! ! ! ! ! ! ! ! ! ! ! ! ! ! ! ! ! begins better than it ends funny that the russian submarine crew ! all other actors it's like those scenes where documentary shots br br spoiler part the message ! was contrary to the whole story it just does not ! br br\n",
            "0\n"
          ]
        }
      ]
    },
    {
      "cell_type": "code",
      "source": [
        "decoded_review"
      ],
      "metadata": {
        "colab": {
          "base_uri": "https://localhost:8080/",
          "height": 89
        },
        "id": "FYtUTg_Rknvo",
        "outputId": "190410db-a9c4-496a-8b46-157ba46b20a8"
      },
      "execution_count": null,
      "outputs": [
        {
          "output_type": "execute_result",
          "data": {
            "text/plain": [
              "\"! ! ! ! ! ! ! ! ! ! ! ! ! ! ! ! ! ! ! ! ! ! ! ! ! ! ! ! ! ! ! ! ! ! ! ! ! ! ! ! ! ! ! ! ! ! ! ! ! ! ! ! ! ! ! ! ! ! ! ! ! ! ! ! ! ! ! ! ! ! ! ! ! ! ! ! ! ! ! ! ! ! ! ! ! ! ! ! ! ! begins better than it ends funny that the russian submarine crew ! all other actors it's like those scenes where documentary shots br br spoiler part the message ! was contrary to the whole story it just does not ! br br\""
            ],
            "application/vnd.google.colaboratory.intrinsic+json": {
              "type": "string"
            }
          },
          "metadata": {},
          "execution_count": 43
        }
      ]
    },
    {
      "cell_type": "code",
      "source": [],
      "metadata": {
        "id": "jokbNGYijn2j"
      },
      "execution_count": null,
      "outputs": []
    },
    {
      "cell_type": "code",
      "source": [],
      "metadata": {
        "id": "UXMMxTIZq3um"
      },
      "execution_count": null,
      "outputs": []
    },
    {
      "cell_type": "markdown",
      "source": [
        "<a id=\"5\" ></a>\n",
        "## Recurrent Neural Network"
      ],
      "metadata": {
        "id": "KW4_zuUPolHc"
      }
    },
    {
      "cell_type": "markdown",
      "source": [
        "Metin verileri kullanacağımız için bir Recurrent Neural Network (Tekrarlayan Sinir Ağı) kullanılacak. 'Recurrent' (tekrarlayan) ifadesi, zaman bağımlı verileri işlediğimizde özellikle önemlidir. Metin işleminde, veriler zaman sırasına göre dizilmiştir. Burada, kelimeler ardışık olarak gelir, ve bir kelimenin bir başka kelimenin önünde ya da arkasında olması, cümlelerin olumlu mu yoksa olumsuz mu olduğunda önemli bir kriterdir."
      ],
      "metadata": {
        "id": "G0VKRMfGon_6"
      }
    },
    {
      "cell_type": "code",
      "source": [
        "# Sequential yapının yani dizinin içerisine gerekli olan layer'ları tek tek ekleyeceğim\n",
        "rnn = Sequential()"
      ],
      "metadata": {
        "id": "l1yvmzeaykkd"
      },
      "execution_count": null,
      "outputs": []
    },
    {
      "cell_type": "code",
      "source": [
        "# Embedding, integer'ları belirli boyutlarda yoğunluk vektörlerine çevirmemizi sağlayan bir yapıydı\n",
        "# input boyutu: 15000, output boyutu, 132\n",
        "rnn.add(Embedding(num_words, 32, input_length = len(x_train[0])))"
      ],
      "metadata": {
        "id": "ZMQ2bB_ImLUw"
      },
      "execution_count": null,
      "outputs": []
    },
    {
      "cell_type": "markdown",
      "source": [
        "Bu Python kodu, bir derin öğrenme modeli oluştururken kullanılan bir Keras Sequential modelini tanımlıyor gibi görünüyor. Kod, bir dil işleme veya metin sınıflandırma görevi için bir Rekürrensin (RNN) başlangıç katmanını oluşturuyor.\n",
        "\n",
        "Aşağıda, bu kodun her iki satırını ayrı ayrı açıklayalım:\n",
        "\n",
        "1. `rnn = Sequential()`: Bu satırda, Keras kütüphanesinin bir parçası olan `Sequential` modeli oluşturuluyor. `Sequential` model, katmanları sıralı bir şekilde eklemenizi ve bir derin öğrenme modelini basitçe inşa etmenizi sağlayan bir yapıdır.\n",
        "\n",
        "2. `rnn.add(Embedding(num_words, 32, input_length=len(x_train[0])))`: Bu satırda, modelin ilk katmanı ekleniyor. Bu katman bir gömme (Embedding) katmanıdır.\n",
        "\n",
        "   - `Embedding` katmanı, genellikle dil işleme görevlerinde kullanılır ve kelime gömme işlemi için tasarlanmıştır. Bu işlem, kelime dağarcığını belirli bir boyuttaki vektörlerle temsil etmeyi içerir. `num_words` kelime dağarcığı boyutunu belirtir.\n",
        "   - `32` ikinci bir argüman olarak verilen sayı, kelime gömme vektörlerinin boyutunu belirtir. Her kelime bu boyutta bir vektörle temsil edilir.\n",
        "   - `input_length` ise giriş dizisinin uzunluğunu belirtir. Bu, her bir giriş örneğinin ne kadar uzun olduğunu gösterir. `x_train` veri kümesinin ilk öğesi (örneğin, bir metin dizisi) bu uzunluğa sahip olmalıdır.\n",
        "\n",
        "Bu kod parçası, bir metin sınıflandırma veya dil modeli oluştururken kullanılan tipik bir başlangıç katmanıdır. Bu başlangıç katmanı, metin verilerini daha sonra ekleyeceğiniz RNN veya başka bir tür katmana giriş olarak verebilmeniz için gerekli kelime gömme işlemini gerçekleştirir."
      ],
      "metadata": {
        "id": "ocIqw2pcxbLW"
      }
    },
    {
      "cell_type": "code",
      "source": [
        "# output boyutu, input_shape(15000 tane kelime olucak ve bu yorumların içerisindeki kelime sayısı 132 olacak)\n",
        "rnn.add(SimpleRNN(16, input_shape = (num_words, maxlen), return_sequences=False, activation=\"relu\"))"
      ],
      "metadata": {
        "id": "gjHnBgrsmLYG"
      },
      "execution_count": null,
      "outputs": []
    },
    {
      "cell_type": "code",
      "source": [
        "# modelin çıkış katmanını tanımlar ve sonuçları hesaplamak için kullanılır.\n",
        "# Modelin eğitildikten sonra, bu katmanın çıkışı, verilen girişe göre tahminler içerecektir.\n",
        "rnn.add(Dense(1))"
      ],
      "metadata": {
        "id": "RKI2PqPyq2vh"
      },
      "execution_count": null,
      "outputs": []
    },
    {
      "cell_type": "code",
      "source": [
        "# sınıflandırma işlemini gerçekleştirebilmek için aktivasyon fonksiyonu eklemeliyiz\n",
        "rnn.add(Activation(\"sigmoid\")) # sigmoid çünkü binary sınıflandırma yapabilmek için"
      ],
      "metadata": {
        "id": "PAdSmHhqq2yk"
      },
      "execution_count": null,
      "outputs": []
    },
    {
      "cell_type": "code",
      "source": [
        "print(rnn.summary()) # layerların sayısı"
      ],
      "metadata": {
        "colab": {
          "base_uri": "https://localhost:8080/"
        },
        "id": "7QdwCL472X99",
        "outputId": "ddc0a793-5d22-4624-fde7-b5fcff1398d3"
      },
      "execution_count": null,
      "outputs": [
        {
          "output_type": "stream",
          "name": "stdout",
          "text": [
            "Model: \"sequential\"\n",
            "_________________________________________________________________\n",
            " Layer (type)                Output Shape              Param #   \n",
            "=================================================================\n",
            " embedding (Embedding)       (None, 132, 32)           480000    \n",
            "                                                                 \n",
            " simple_rnn (SimpleRNN)      (None, 16)                784       \n",
            "                                                                 \n",
            " dense (Dense)               (None, 1)                 17        \n",
            "                                                                 \n",
            " activation (Activation)     (None, 1)                 0         \n",
            "                                                                 \n",
            "=================================================================\n",
            "Total params: 480801 (1.83 MB)\n",
            "Trainable params: 480801 (1.83 MB)\n",
            "Non-trainable params: 0 (0.00 Byte)\n",
            "_________________________________________________________________\n",
            "None\n"
          ]
        }
      ]
    },
    {
      "cell_type": "code",
      "source": [
        "rnn.compile(loss=\"binary_crossentropy\", optimizer=\"rmsprop\", metrics=[\"accuracy\"])"
      ],
      "metadata": {
        "id": "SaJ1vakv2mvz"
      },
      "execution_count": null,
      "outputs": []
    },
    {
      "cell_type": "markdown",
      "source": [
        "Bu satır, Keras Sequential modelinin derlenme (compile) işlemini gerçekleştiriyor. Modelin derlenmesi, eğitim öncesi ayarlarını ve eğitim sırasında kullanılacak kayıp (loss) fonksiyonunu, optimize ediciyi ve metrikleri belirlemek anlamına gelir. İşte bu satırın ayrıntılı açıklaması:\n",
        "\n",
        "- `loss=\"binary_crossentropy\"`: Bu argüman, eğitim sırasında kullanılacak kayıp fonksiyonunu belirtir. \"binary_crossentropy\", ikili sınıflandırma problemleri için sıkça kullanılan bir kayıp fonksiyonudur. Bu fonksiyon, modelin tahminlerini gerçek etiketlerle karşılaştırır ve bir hata değeri hesaplar. Model, bu hatayı minimize etmek için eğitilir. İkili sınıflandırma problemlerinde kullanılan diğer bir kayıp fonksiyonu da \"mean_squared_error\" olabilir.\n",
        "\n",
        "- `optimizer=\"rmsprop\"`: Bu argüman, modelin optimize ediciyi belirler. \"rmsprop\" (RMSprop) yaygın olarak kullanılan bir optimize edici algoritmadır. Optimize edici, modelin kaybını minimize etmek ve ağırlıkları güncellemek için kullanılır. Başka optimize edici seçenekleri de mevcuttur, örneğin \"adam\", \"sgd\" (stochastic gradient descent) veya \"adamax\" gibi.\n",
        "\n",
        "- `metrics=[\"accuracy\"]`: Bu argüman, modelin eğitim sırasında izlenecek metrikleri belirtir. Burada, sadece \"accuracy\" (doğruluk) metriği belirtilmiş. Bu, eğitim sırasında modelin doğru tahminlerin yüzdesini hesaplamak için kullanılır. İkili sınıflandırma problemleri için sıkça kullanılan bir metrik olan doğruluk, modelin performansını değerlendirmek için önemlidir. Başka metrikler de ekleyebilirsiniz, örneğin \"precision\", \"recall\", \"f1-score\" gibi sınıflandırma metrikleri.\n",
        "\n",
        "Bu kod, modelin derleme aşamasını tamamlar ve model eğitildiğinde kullanılacak kayıp fonksiyonunu, optimize ediciyi ve metrikleri tanımlar. Model, bu ayarlarla eğitildiğinde, belirtilen kaybı minimize etmek ve belirtilen metrikleri iyileştirmek için optimize edilecektir."
      ],
      "metadata": {
        "id": "ISWp0tC38nCy"
      }
    },
    {
      "cell_type": "code",
      "source": [],
      "metadata": {
        "id": "0ExMEJPV8odi"
      },
      "execution_count": null,
      "outputs": []
    },
    {
      "cell_type": "code",
      "source": [],
      "metadata": {
        "id": "0W9RNqTR8og8"
      },
      "execution_count": null,
      "outputs": []
    },
    {
      "cell_type": "code",
      "source": [],
      "metadata": {
        "id": "fGt7EotN10O_"
      },
      "execution_count": null,
      "outputs": []
    },
    {
      "cell_type": "markdown",
      "source": [
        "<a id=\"6\" ></a>\n",
        "## Recurrent Neural Network Eğitimi"
      ],
      "metadata": {
        "id": "OUvC_sWIoqCv"
      }
    },
    {
      "cell_type": "code",
      "source": [
        "# training, fit etme işlemi\n",
        "history = rnn.fit(x_train, y_train, validation_data=(x_test, y_test), epochs=5, batch_size=128)\n",
        "# train accuracy değeri - test accuracy değeri"
      ],
      "metadata": {
        "colab": {
          "base_uri": "https://localhost:8080/"
        },
        "id": "Fg7d1bT7q1MX",
        "outputId": "f58a7a23-f03a-4618-d741-491fc68bd29f"
      },
      "execution_count": null,
      "outputs": [
        {
          "output_type": "stream",
          "name": "stdout",
          "text": [
            "Epoch 1/5\n",
            "196/196 [==============================] - 7s 27ms/step - loss: 0.6303 - accuracy: 0.6483 - val_loss: 0.5213 - val_accuracy: 0.7898\n",
            "Epoch 2/5\n",
            "196/196 [==============================] - 5s 27ms/step - loss: 0.4798 - accuracy: 0.8154 - val_loss: 0.4383 - val_accuracy: 0.8162\n",
            "Epoch 3/5\n",
            "196/196 [==============================] - 6s 30ms/step - loss: 0.3836 - accuracy: 0.8463 - val_loss: 0.3748 - val_accuracy: 0.8356\n",
            "Epoch 4/5\n",
            "196/196 [==============================] - 5s 27ms/step - loss: 0.3190 - accuracy: 0.8688 - val_loss: 0.3394 - val_accuracy: 0.8530\n",
            "Epoch 5/5\n",
            "196/196 [==============================] - 6s 32ms/step - loss: 0.2707 - accuracy: 0.8898 - val_loss: 0.3300 - val_accuracy: 0.8555\n"
          ]
        }
      ]
    },
    {
      "cell_type": "markdown",
      "source": [
        "Bu kod, Keras Sequential modelin eğitim işlemini başlatır. Eğitim işlemi, modelin verilere uyum sağlamasını ve öğrenmesini sağlar. İşte bu satırın ayrıntılı açıklaması:\n",
        "\n",
        "- `x_train`: Bu argüman, eğitim verilerini temsil eder. Bu veriler, modelin öğrenme işlemini gerçekleştirmesi için kullanılır. `x_train`, özellik matrislerini içerir ve her bir satır bir veri örneğini temsil eder.\n",
        "\n",
        "- `y_train`: Bu argüman, eğitim verilerinin hedef etiketlerini temsil eder. Yani, her bir `x_train` veri örneğiyle ilişkilendirilen hedef değerleri içerir.\n",
        "\n",
        "- `validation_data=(x_test, y_test)`: Bu argüman, modelin eğitim sırasında doğrulama verilerini kullanmasını sağlar. Model, eğitim verileri üzerinde eğitildikten sonra, doğrulama verileri üzerinde nasıl performans gösterdiğini değerlendirmek için kullanılır. `x_test` doğrulama verilerini ve `y_test` doğrulama hedef etiketlerini içerir.\n",
        "\n",
        "- `epochs=5`: Bu argüman, modelin eğitimini kaç dönem (epochs) boyunca yapacağını belirtir. Bir dönem, tüm eğitim verilerinin model tarafından bir kez kullanılması anlamına gelir. Yani, model beş dönem boyunca eğitilecek ve her dönemde tüm eğitim verileri üzerinden geçecektir.\n",
        "\n",
        "- `batch_size=128`: Bu argüman, her eğitim dönemi sırasında kullanılacak mini grup (batch) boyutunu belirtir. Eğitim verileri, küçük gruplara bölünerek (mini gruplar) model üzerinde eğitilir. Bu, eğitim işlemini hızlandırmak ve bellek kullanımını azaltmak için kullanılır. Burada, her bir mini grup 128 örnek içerecektir.\n",
        "\n",
        "Bu kod, modelin eğitim işlemini başlatır ve belirtilen dönem (epoch) sayısı boyunca modelin verilere uyum sağlamasını ve öğrenmesini sağlar. Eğitim sırasında belirli aralıklarla (her bir dönem sonunda) doğrulama verileri üzerinde modelin performansını değerlendirir. Eğitim tamamlandığında, modelin eğitilmiş ağırlıkları ve parametreleri elde edilir ve bu model kullanılarak yeni verilere tahminler yapılabilir."
      ],
      "metadata": {
        "id": "aF3GN3glAtfV"
      }
    },
    {
      "cell_type": "code",
      "source": [
        "history.history # dict"
      ],
      "metadata": {
        "colab": {
          "base_uri": "https://localhost:8080/"
        },
        "id": "882FoYO7_Y8r",
        "outputId": "5ef09b6b-8744-418d-a086-691e6c81c505"
      },
      "execution_count": null,
      "outputs": [
        {
          "output_type": "execute_result",
          "data": {
            "text/plain": [
              "{'loss': [0.6302587985992432,\n",
              "  0.47981977462768555,\n",
              "  0.3836249113082886,\n",
              "  0.3190488815307617,\n",
              "  0.2707282602787018],\n",
              " 'accuracy': [0.6482800245285034,\n",
              "  0.8154000043869019,\n",
              "  0.8463199734687805,\n",
              "  0.8688399791717529,\n",
              "  0.8898000121116638],\n",
              " 'val_loss': [0.5213482975959778,\n",
              "  0.4382639527320862,\n",
              "  0.37475910782814026,\n",
              "  0.33939793705940247,\n",
              "  0.33003005385398865],\n",
              " 'val_accuracy': [0.7897599935531616,\n",
              "  0.8162400126457214,\n",
              "  0.8355600237846375,\n",
              "  0.8529599905014038,\n",
              "  0.8555200099945068]}"
            ]
          },
          "metadata": {},
          "execution_count": 54
        }
      ]
    },
    {
      "cell_type": "code",
      "source": [],
      "metadata": {
        "id": "-D43-Zgo_ZAY"
      },
      "execution_count": null,
      "outputs": []
    },
    {
      "cell_type": "code",
      "source": [],
      "metadata": {
        "id": "E877UJgXq1bM"
      },
      "execution_count": null,
      "outputs": []
    },
    {
      "cell_type": "markdown",
      "source": [
        "<a id=\"7\" ></a>\n",
        "## Sonuçların Değerlendirilmesi"
      ],
      "metadata": {
        "id": "wC7_DyTzotkl"
      }
    },
    {
      "cell_type": "code",
      "source": [
        "score = rnn.evaluate(x_test, y_test)\n",
        "print(\"Accuracy: %{}\".format(score[1]*100))"
      ],
      "metadata": {
        "colab": {
          "base_uri": "https://localhost:8080/"
        },
        "id": "3-2N99J8q1-F",
        "outputId": "66346e80-82a5-41ad-9f91-09d8b6ce119d"
      },
      "execution_count": null,
      "outputs": [
        {
          "output_type": "stream",
          "name": "stdout",
          "text": [
            "782/782 [==============================] - 5s 6ms/step - loss: 0.3300 - accuracy: 0.8555\n",
            "Accuracy: %85.55200099945068\n"
          ]
        }
      ]
    },
    {
      "cell_type": "code",
      "source": [
        "# val_loss: 0.3300 - val_accuracy: 0.8555\n",
        "score # %85'lik bir accuracy"
      ],
      "metadata": {
        "colab": {
          "base_uri": "https://localhost:8080/"
        },
        "id": "wOcBaKLsDgkD",
        "outputId": "1200124f-ca69-42e2-daf0-4d933141e39a"
      },
      "execution_count": null,
      "outputs": [
        {
          "output_type": "execute_result",
          "data": {
            "text/plain": [
              "[0.33002999424934387, 0.8555200099945068]"
            ]
          },
          "metadata": {},
          "execution_count": 53
        }
      ]
    },
    {
      "cell_type": "code",
      "source": [
        "# accuracy değerinin nasıl değiştiğini bir plot üzerinde görelim\n",
        "plt.figure(figsize=(10,5))\n",
        "plt.plot(history.history[\"accuracy\"], label=\"Train\")\n",
        "plt.plot(history.history[\"val_accuracy\"], label=\"Test\") # Test Accuracy değeri\n",
        "plt.title(\"Accuracy\")\n",
        "plt.ylabel(\"Accuracy\")\n",
        "plt.xlabel(\"Epochs\")\n",
        "plt.legend() # label'ların yazdırılması için\n",
        "plt.show()"
      ],
      "metadata": {
        "colab": {
          "base_uri": "https://localhost:8080/",
          "height": 487
        },
        "id": "5idqfy5fDgrx",
        "outputId": "4ab6d781-7150-4f7e-c748-fefea766fe67"
      },
      "execution_count": null,
      "outputs": [
        {
          "output_type": "display_data",
          "data": {
            "text/plain": [
              "<Figure size 1000x500 with 1 Axes>"
            ],
            "image/png": "[encoded data removed]"
          },
          "metadata": {}
        }
      ]
    },
    {
      "cell_type": "markdown",
      "source": [
        "Epochs değerlerine göre train ve test setindeki accuracy değerlerinin değişimleri\n",
        "\n",
        "En iyi değer 1. epoch'da elde edilmiştir. yaklaşık olarak %81'lik bir başarım söz konusudur."
      ],
      "metadata": {
        "id": "2kWUWpiVIPYm"
      }
    },
    {
      "cell_type": "code",
      "source": [
        "# loss değerinin nasıl azaldığını gözlemleyelim\n",
        "# loss değerinin nasıl değiştiğini bir plot üzerinde görelim\n",
        "plt.figure(figsize=(10,5))\n",
        "plt.plot(history.history[\"loss\"], label=\"Train\")\n",
        "plt.plot(history.history[\"val_loss\"], label=\"Test\") # Test Accuracy değeri\n",
        "plt.title(\"Loss\")\n",
        "plt.ylabel(\"Loss\")\n",
        "plt.xlabel(\"Epochs\")\n",
        "plt.legend() # label'ların yazdırılması için\n",
        "plt.show()"
      ],
      "metadata": {
        "colab": {
          "base_uri": "https://localhost:8080/",
          "height": 487
        },
        "id": "wvRWCx6Uq2BJ",
        "outputId": "2de6f7de-710a-4769-d1ca-b07a31e36dc6"
      },
      "execution_count": null,
      "outputs": [
        {
          "output_type": "display_data",
          "data": {
            "text/plain": [
              "<Figure size 1000x500 with 1 Axes>"
            ],
            "image/png": "[encoded data removed]"
          },
          "metadata": {}
        }
      ]
    },
    {
      "cell_type": "markdown",
      "source": [
        "Epoch arttıkça train loss sürekli azalır ve overfit'e doğru gidiyor ama test loss bir yere kadar azaldıktan sonra artmaya başlar."
      ],
      "metadata": {
        "id": "BPWTy3c5LKRA"
      }
    },
    {
      "cell_type": "code",
      "source": [],
      "metadata": {
        "id": "71mCB7nQLfud"
      },
      "execution_count": null,
      "outputs": []
    },
    {
      "cell_type": "code",
      "source": [],
      "metadata": {
        "id": "78ygUnP5Ljox"
      },
      "execution_count": null,
      "outputs": []
    },
    {
      "cell_type": "code",
      "source": [],
      "metadata": {
        "id": "zWcOg44FLjr6"
      },
      "execution_count": null,
      "outputs": []
    }
  ]
}