{
 "cells": [
  {
   "cell_type": "code",
   "execution_count": 1,
   "id": "457fa264",
   "metadata": {
    "_cell_guid": "b1076dfc-b9ad-4769-8c92-a6c4dae69d19",
    "_uuid": "8f2839f25d086af736a60e9eeb907d3b93b6e0e5",
    "execution": {
     "iopub.execute_input": "2023-10-03T07:53:58.063254Z",
     "iopub.status.busy": "2023-10-03T07:53:58.062688Z",
     "iopub.status.idle": "2023-10-03T07:54:35.104801Z",
     "shell.execute_reply": "2023-10-03T07:54:35.103486Z"
    },
    "papermill": {
     "duration": 37.052615,
     "end_time": "2023-10-03T07:54:35.107716",
     "exception": false,
     "start_time": "2023-10-03T07:53:58.055101",
     "status": "completed"
    },
    "tags": []
   },
   "outputs": [],
   "source": [
    "# This Python 3 environment comes with many helpful analytics libraries installed\n",
    "# It is defined by the kaggle/python Docker image: https://github.com/kaggle/docker-python\n",
    "# For example, here's several helpful packages to load\n",
    "\n",
    "import numpy as np # linear algebra\n",
    "import pandas as pd # data processing, CSV file I/O (e.g. pd.read_csv)\n",
    "\n",
    "from keras.models import Sequential\n",
    "from keras.layers import Conv2D, MaxPooling2D, Activation, Dropout, Flatten, Dense\n",
    "from tensorflow.keras.preprocessing.image import img_to_array, load_img\n",
    "from keras.preprocessing.image import ImageDataGenerator\n",
    "\n",
    "import matplotlib.pyplot as plt\n",
    "\n",
    "from glob import glob # toplam sınıf sayısını öğrenebilmek için\n",
    "\n",
    "# Input data files are available in the read-only \"../input/\" directory\n",
    "# For example, running this (by clicking run or pressing Shift+Enter) will list all files under the input directory\n",
    "\n",
    "import os\n",
    "for dirname, _, filenames in os.walk('/kaggle/input'):\n",
    "    for filename in filenames:\n",
    "        os.path.join(dirname, filename)\n",
    "\n",
    "# You can write up to 20GB to the current directory (/kaggle/working/) that gets preserved as output when you create a version using \"Save & Run All\" \n",
    "# You can also write temporary files to /kaggle/temp/, but they won't be saved outside of the current session"
   ]
  },
  {
   "cell_type": "code",
   "execution_count": 2,
   "id": "2de93463",
   "metadata": {
    "execution": {
     "iopub.execute_input": "2023-10-03T07:54:35.121153Z",
     "iopub.status.busy": "2023-10-03T07:54:35.120467Z",
     "iopub.status.idle": "2023-10-03T07:54:35.124903Z",
     "shell.execute_reply": "2023-10-03T07:54:35.124202Z"
    },
    "papermill": {
     "duration": 0.013004,
     "end_time": "2023-10-03T07:54:35.126633",
     "exception": false,
     "start_time": "2023-10-03T07:54:35.113629",
     "status": "completed"
    },
    "tags": []
   },
   "outputs": [],
   "source": [
    "train_path = \"/kaggle/input/fruits/fruits-360_dataset/fruits-360/Training/\"\n",
    "test_path = \"/kaggle/input/fruits/fruits-360_dataset/fruits-360/Test/\""
   ]
  },
  {
   "cell_type": "code",
   "execution_count": 3,
   "id": "cb7de9c8",
   "metadata": {
    "execution": {
     "iopub.execute_input": "2023-10-03T07:54:35.140281Z",
     "iopub.status.busy": "2023-10-03T07:54:35.139632Z",
     "iopub.status.idle": "2023-10-03T07:54:35.170202Z",
     "shell.execute_reply": "2023-10-03T07:54:35.168970Z"
    },
    "papermill": {
     "duration": 0.039976,
     "end_time": "2023-10-03T07:54:35.172442",
     "exception": false,
     "start_time": "2023-10-03T07:54:35.132466",
     "status": "completed"
    },
    "tags": []
   },
   "outputs": [
    {
     "data": {
      "image/png": "[encoded data removed]",
      "text/plain": [
       "<PIL.JpegImagePlugin.JpegImageFile image mode=RGB size=100x100>"
      ]
     },
     "execution_count": 3,
     "metadata": {},
     "output_type": "execute_result"
    }
   ],
   "source": [
    "img = load_img(train_path + \"Apple Braeburn/0_100.jpg\")\n",
    "img"
   ]
  },
  {
   "cell_type": "code",
   "execution_count": 4,
   "id": "77410687",
   "metadata": {
    "execution": {
     "iopub.execute_input": "2023-10-03T07:54:35.186181Z",
     "iopub.status.busy": "2023-10-03T07:54:35.185787Z",
     "iopub.status.idle": "2023-10-03T07:54:35.191489Z",
     "shell.execute_reply": "2023-10-03T07:54:35.190749Z"
    },
    "papermill": {
     "duration": 0.014792,
     "end_time": "2023-10-03T07:54:35.193372",
     "exception": false,
     "start_time": "2023-10-03T07:54:35.178580",
     "status": "completed"
    },
    "tags": []
   },
   "outputs": [
    {
     "name": "stdout",
     "output_type": "stream",
     "text": [
      "(100, 100, 3)\n"
     ]
    }
   ],
   "source": [
    "# input bir resimdi ve bu resimi matrise çevirmeliyim\n",
    "x = img_to_array(img)\n",
    "print(x.shape) # 100 satır, 100 sütun, 3 kanal sayısı (RGB)"
   ]
  },
  {
   "cell_type": "code",
   "execution_count": 5,
   "id": "cbce2c13",
   "metadata": {
    "execution": {
     "iopub.execute_input": "2023-10-03T07:54:35.207023Z",
     "iopub.status.busy": "2023-10-03T07:54:35.206346Z",
     "iopub.status.idle": "2023-10-03T07:54:35.213355Z",
     "shell.execute_reply": "2023-10-03T07:54:35.212424Z"
    },
    "papermill": {
     "duration": 0.01601,
     "end_time": "2023-10-03T07:54:35.215326",
     "exception": false,
     "start_time": "2023-10-03T07:54:35.199316",
     "status": "completed"
    },
    "tags": []
   },
   "outputs": [
    {
     "data": {
      "text/plain": [
       "['/kaggle/input/fruits/fruits-360_dataset/fruits-360/Training/Quince',\n",
       " '/kaggle/input/fruits/fruits-360_dataset/fruits-360/Training/Grapefruit White',\n",
       " '/kaggle/input/fruits/fruits-360_dataset/fruits-360/Training/Granadilla']"
      ]
     },
     "execution_count": 5,
     "metadata": {},
     "output_type": "execute_result"
    }
   ],
   "source": [
    "# kaç tane sınıf var?\n",
    "# train klasörünün içerisindeki bütün klasörler(*)\n",
    "className = glob(train_path + \"*\")\n",
    "className[:3]"
   ]
  },
  {
   "cell_type": "code",
   "execution_count": 6,
   "id": "7d698e16",
   "metadata": {
    "execution": {
     "iopub.execute_input": "2023-10-03T07:54:35.229473Z",
     "iopub.status.busy": "2023-10-03T07:54:35.228926Z",
     "iopub.status.idle": "2023-10-03T07:54:35.233990Z",
     "shell.execute_reply": "2023-10-03T07:54:35.232981Z"
    },
    "papermill": {
     "duration": 0.014451,
     "end_time": "2023-10-03T07:54:35.235888",
     "exception": false,
     "start_time": "2023-10-03T07:54:35.221437",
     "status": "completed"
    },
    "tags": []
   },
   "outputs": [
    {
     "data": {
      "text/plain": [
       "131"
      ]
     },
     "execution_count": 6,
     "metadata": {},
     "output_type": "execute_result"
    }
   ],
   "source": [
    "numberOfClass = len(className)\n",
    "numberOfClass # 131 tane sınıf var."
   ]
  },
  {
   "cell_type": "code",
   "execution_count": 7,
   "id": "fe6982f0",
   "metadata": {
    "execution": {
     "iopub.execute_input": "2023-10-03T07:54:35.250334Z",
     "iopub.status.busy": "2023-10-03T07:54:35.249783Z",
     "iopub.status.idle": "2023-10-03T07:54:35.593297Z",
     "shell.execute_reply": "2023-10-03T07:54:35.592328Z"
    },
    "papermill": {
     "duration": 0.353703,
     "end_time": "2023-10-03T07:54:35.595806",
     "exception": false,
     "start_time": "2023-10-03T07:54:35.242103",
     "status": "completed"
    },
    "tags": []
   },
   "outputs": [],
   "source": [
    "model = Sequential()\n",
    "# resim 2D yani 2 boyutlu bir array, matris\n",
    "# 32 tane filtre olsun. (filtrelerden feature map elde ederiz. dolayısıyla 32 tane feature map oluşur )\n",
    "# filtre boyutu 3x3 olsun\n",
    "model.add(Conv2D(32,(3,3), input_shape = x.shape))\n",
    "model.add(Activation(\"relu\"))\n",
    "model.add(MaxPooling2D()) # default 2x2\n",
    "\n",
    "model.add(Conv2D(32,(3,3)))\n",
    "model.add(Activation(\"relu\"))\n",
    "model.add(MaxPooling2D()) # default 2x2\n",
    "\n",
    "model.add(Conv2D(64,(3,3)))\n",
    "model.add(Activation(\"relu\"))\n",
    "model.add(MaxPooling2D()) # default 2x2\n",
    "\n",
    "model.add(Flatten()) # düzleştirir\n",
    "model.add(Dense(1024)) # 1024 tane nöron\n",
    "model.add(Activation(\"relu\"))\n",
    "model.add(Dropout(0.5)) # 1024 tanenin %50'sini kapatalım, her defasında 512 tanesi aktif olur\n",
    "model.add(Dense(numberOfClass)) # output layer\n",
    "# output layer'ındaki nöron sayısı, output kadar olmak zorunda\n",
    "# output, sınıf sayısına eşittir.\n",
    "model.add(Activation(\"softmax\")) # ikiden fazla sınıf olduğu için"
   ]
  },
  {
   "cell_type": "code",
   "execution_count": 8,
   "id": "ffa12a42",
   "metadata": {
    "execution": {
     "iopub.execute_input": "2023-10-03T07:54:35.610185Z",
     "iopub.status.busy": "2023-10-03T07:54:35.609829Z",
     "iopub.status.idle": "2023-10-03T07:54:35.628333Z",
     "shell.execute_reply": "2023-10-03T07:54:35.627226Z"
    },
    "papermill": {
     "duration": 0.02821,
     "end_time": "2023-10-03T07:54:35.630559",
     "exception": false,
     "start_time": "2023-10-03T07:54:35.602349",
     "status": "completed"
    },
    "tags": []
   },
   "outputs": [],
   "source": [
    "model.compile(loss = \"categorical_crossentropy\", # multiclass olduğu için\n",
    "             optimizer = \"rmsprop\",\n",
    "             metrics = [\"accuracy\"])"
   ]
  },
  {
   "cell_type": "code",
   "execution_count": 9,
   "id": "f2bf47da",
   "metadata": {
    "execution": {
     "iopub.execute_input": "2023-10-03T07:54:35.645094Z",
     "iopub.status.busy": "2023-10-03T07:54:35.644712Z",
     "iopub.status.idle": "2023-10-03T07:54:35.648887Z",
     "shell.execute_reply": "2023-10-03T07:54:35.647848Z"
    },
    "papermill": {
     "duration": 0.013681,
     "end_time": "2023-10-03T07:54:35.650714",
     "exception": false,
     "start_time": "2023-10-03T07:54:35.637033",
     "status": "completed"
    },
    "tags": []
   },
   "outputs": [],
   "source": [
    "batch_size =32\n",
    "# veri setinde birçok resim var ve bu resimlerle train/eğitim yapılır. \n",
    "# batch_size kadar belirlenen resimle eğitim yapılır\n",
    "# yani her iterasyonda batch_size kadar resimle eğitim yapılır"
   ]
  },
  {
   "cell_type": "code",
   "execution_count": null,
   "id": "4f45a879",
   "metadata": {
    "papermill": {
     "duration": 0.00621,
     "end_time": "2023-10-03T07:54:35.663281",
     "exception": false,
     "start_time": "2023-10-03T07:54:35.657071",
     "status": "completed"
    },
    "tags": []
   },
   "outputs": [],
   "source": []
  },
  {
   "cell_type": "code",
   "execution_count": 10,
   "id": "5d024f17",
   "metadata": {
    "execution": {
     "iopub.execute_input": "2023-10-03T07:54:35.677686Z",
     "iopub.status.busy": "2023-10-03T07:54:35.677132Z",
     "iopub.status.idle": "2023-10-03T07:54:35.684178Z",
     "shell.execute_reply": "2023-10-03T07:54:35.683279Z"
    },
    "papermill": {
     "duration": 0.016402,
     "end_time": "2023-10-03T07:54:35.685892",
     "exception": false,
     "start_time": "2023-10-03T07:54:35.669490",
     "status": "completed"
    },
    "tags": []
   },
   "outputs": [
    {
     "data": {
      "text/plain": [
       "492"
      ]
     },
     "execution_count": 10,
     "metadata": {},
     "output_type": "execute_result"
    }
   ],
   "source": [
    "a = glob(train_path + \"Apple Braeburn\" + \"/*\")\n",
    "len(a) # Apple Braeburn'dan 492 tane var"
   ]
  },
  {
   "cell_type": "code",
   "execution_count": 11,
   "id": "3bb08847",
   "metadata": {
    "execution": {
     "iopub.execute_input": "2023-10-03T07:54:35.700744Z",
     "iopub.status.busy": "2023-10-03T07:54:35.700209Z",
     "iopub.status.idle": "2023-10-03T07:54:35.707346Z",
     "shell.execute_reply": "2023-10-03T07:54:35.706477Z"
    },
    "jupyter": {
     "source_hidden": true
    },
    "papermill": {
     "duration": 0.016752,
     "end_time": "2023-10-03T07:54:35.709184",
     "exception": false,
     "start_time": "2023-10-03T07:54:35.692432",
     "status": "completed"
    },
    "tags": []
   },
   "outputs": [
    {
     "data": {
      "text/plain": [
       "64452"
      ]
     },
     "execution_count": 11,
     "metadata": {},
     "output_type": "execute_result"
    }
   ],
   "source": [
    "# her meyveden 492 adet olsun toplam meyve sayısı nedir?\n",
    "# toplam sınıf sayısı * her bir meyve adet\n",
    "len(className)*len(a) # 131*492 = 64452"
   ]
  },
  {
   "cell_type": "code",
   "execution_count": 12,
   "id": "e361e0a0",
   "metadata": {
    "execution": {
     "iopub.execute_input": "2023-10-03T07:54:35.724381Z",
     "iopub.status.busy": "2023-10-03T07:54:35.723975Z",
     "iopub.status.idle": "2023-10-03T07:54:35.728701Z",
     "shell.execute_reply": "2023-10-03T07:54:35.727321Z"
    },
    "papermill": {
     "duration": 0.014829,
     "end_time": "2023-10-03T07:54:35.730642",
     "exception": false,
     "start_time": "2023-10-03T07:54:35.715813",
     "status": "completed"
    },
    "tags": []
   },
   "outputs": [],
   "source": [
    "# deep learning'de eğitim için 492 adet veri yeterli değildir.\n",
    "# bunun için data augmentation yapmalıyız (image data generetor)\n",
    "# yani resimleri çoklayacağız, daha fazla resim elde edeceğiz"
   ]
  },
  {
   "cell_type": "code",
   "execution_count": 13,
   "id": "a6c59dff",
   "metadata": {
    "execution": {
     "iopub.execute_input": "2023-10-03T07:54:35.745327Z",
     "iopub.status.busy": "2023-10-03T07:54:35.744952Z",
     "iopub.status.idle": "2023-10-03T07:54:35.750168Z",
     "shell.execute_reply": "2023-10-03T07:54:35.749210Z"
    },
    "papermill": {
     "duration": 0.014969,
     "end_time": "2023-10-03T07:54:35.752188",
     "exception": false,
     "start_time": "2023-10-03T07:54:35.737219",
     "status": "completed"
    },
    "tags": []
   },
   "outputs": [],
   "source": [
    "## Data Generation \n",
    "# farklı farklı veriler üretilecek\n",
    "train_datagen = ImageDataGenerator(\n",
    "    rescale= 1./255, # resimleri 0 ile 1 arasındaki verilere dönüştürelim\n",
    "    shear_range =0.3, # belirli bir açıyla sağa ya da sola çevriliyor\n",
    "    horizontal_flip =True, # yatay bir şekilde çevir\n",
    "    zoom_range=0.3 # görüntülerin yakınlaştırılması veya uzaklaştırılmasının miktarını belirtir.\n",
    ")"
   ]
  },
  {
   "cell_type": "markdown",
   "id": "fd929bf2",
   "metadata": {
    "papermill": {
     "duration": 0.006297,
     "end_time": "2023-10-03T07:54:35.765484",
     "exception": false,
     "start_time": "2023-10-03T07:54:35.759187",
     "status": "completed"
    },
    "tags": []
   },
   "source": [
    "Bu parametreler, ImageDataGenerator nesnesi tarafından kullanılarak eğitim verilerinin çeşitlendirilmesini sağlar. Bu, modelin daha iyi genelleme yapmasına ve overfitting'i önlemesine yardımcı olabilir."
   ]
  },
  {
   "cell_type": "code",
   "execution_count": 14,
   "id": "d6b39088",
   "metadata": {
    "execution": {
     "iopub.execute_input": "2023-10-03T07:54:35.780657Z",
     "iopub.status.busy": "2023-10-03T07:54:35.780013Z",
     "iopub.status.idle": "2023-10-03T07:54:35.784535Z",
     "shell.execute_reply": "2023-10-03T07:54:35.783385Z"
    },
    "papermill": {
     "duration": 0.014674,
     "end_time": "2023-10-03T07:54:35.786612",
     "exception": false,
     "start_time": "2023-10-03T07:54:35.771938",
     "status": "completed"
    },
    "tags": []
   },
   "outputs": [],
   "source": [
    "# test veri setini normalize edelim\n",
    "# rescale ile 0 ile 1 arasında verilere çevirmeliyiz, normalize etmeliyiz\n",
    "# çünkü train verisi normalize edildi.\n",
    "test_datagen = ImageDataGenerator(\n",
    "    rescale= 1./255, # resimleri 0 ile 1 arasındaki verilere dönüştürelim\n",
    ")"
   ]
  },
  {
   "cell_type": "markdown",
   "id": "61766993",
   "metadata": {
    "papermill": {
     "duration": 0.006316,
     "end_time": "2023-10-03T07:54:35.799582",
     "exception": false,
     "start_time": "2023-10-03T07:54:35.793266",
     "status": "completed"
    },
    "tags": []
   },
   "source": [
    "flow_from_directory:\n",
    "\n",
    "Eğer train veri setinin yolu şu şekildeyse: Traning - Traning'in içerisinde sınıflar - sınıfların içerisinde bulunduğu sınıfın verileri varsa\n",
    "\n",
    "bunu otomatik bir şekilde flow_from_directory fonksiyonu okuyabilir."
   ]
  },
  {
   "cell_type": "code",
   "execution_count": 15,
   "id": "e3838f9d",
   "metadata": {
    "execution": {
     "iopub.execute_input": "2023-10-03T07:54:35.814942Z",
     "iopub.status.busy": "2023-10-03T07:54:35.814268Z",
     "iopub.status.idle": "2023-10-03T07:54:37.370198Z",
     "shell.execute_reply": "2023-10-03T07:54:37.369108Z"
    },
    "papermill": {
     "duration": 1.566808,
     "end_time": "2023-10-03T07:54:37.373040",
     "exception": false,
     "start_time": "2023-10-03T07:54:35.806232",
     "status": "completed"
    },
    "tags": []
   },
   "outputs": [
    {
     "name": "stdout",
     "output_type": "stream",
     "text": [
      "Found 67692 images belonging to 131 classes.\n"
     ]
    }
   ],
   "source": [
    "# train generator oluşturuluyor\n",
    "train_generator = train_datagen.flow_from_directory(\n",
    "    train_path,\n",
    "    target_size = x.shape[:2], # meyvelerin, resimlerin boyutu 100x100\n",
    "    batch_size = batch_size,\n",
    "    color_mode = \"rgb\",\n",
    "    class_mode =\"categorical\"\n",
    ")\n",
    "# otomatik bir şekilde her bir meyveyi farklı sınıflara ayıracak \n",
    "# her bir meyvenin resimlerini o sınıfların içerisine depolar"
   ]
  },
  {
   "cell_type": "code",
   "execution_count": 16,
   "id": "fbca6de0",
   "metadata": {
    "execution": {
     "iopub.execute_input": "2023-10-03T07:54:37.388119Z",
     "iopub.status.busy": "2023-10-03T07:54:37.387738Z",
     "iopub.status.idle": "2023-10-03T07:54:37.902355Z",
     "shell.execute_reply": "2023-10-03T07:54:37.901271Z"
    },
    "papermill": {
     "duration": 0.525265,
     "end_time": "2023-10-03T07:54:37.905092",
     "exception": false,
     "start_time": "2023-10-03T07:54:37.379827",
     "status": "completed"
    },
    "tags": []
   },
   "outputs": [
    {
     "name": "stdout",
     "output_type": "stream",
     "text": [
      "Found 22688 images belonging to 131 classes.\n"
     ]
    }
   ],
   "source": [
    "# test generator oluşturuluyor\n",
    "test_generator = test_datagen.flow_from_directory(\n",
    "    test_path,\n",
    "    target_size = x.shape[:2], # meyvelerin, resimlerin boyutu 100x100\n",
    "    batch_size = batch_size,\n",
    "    color_mode = \"rgb\",\n",
    "    class_mode =\"categorical\"\n",
    ")\n",
    "# otomatik bir şekilde her bir meyveyi farklı sınıflara ayıracak \n",
    "# her bir meyvenin resimlerini o sınıfların içerisine depolar"
   ]
  },
  {
   "cell_type": "code",
   "execution_count": 17,
   "id": "bc3e4e19",
   "metadata": {
    "execution": {
     "iopub.execute_input": "2023-10-03T07:54:37.921309Z",
     "iopub.status.busy": "2023-10-03T07:54:37.920946Z",
     "iopub.status.idle": "2023-10-03T08:00:51.963853Z",
     "shell.execute_reply": "2023-10-03T08:00:51.962630Z"
    },
    "papermill": {
     "duration": 374.054182,
     "end_time": "2023-10-03T08:00:51.966514",
     "exception": false,
     "start_time": "2023-10-03T07:54:37.912332",
     "status": "completed"
    },
    "tags": []
   },
   "outputs": [
    {
     "name": "stderr",
     "output_type": "stream",
     "text": [
      "/tmp/ipykernel_20/1754352591.py:2: UserWarning: `Model.fit_generator` is deprecated and will be removed in a future version. Please use `Model.fit`, which supports generators.\n",
      "  hist = model.fit_generator(\n"
     ]
    },
    {
     "name": "stdout",
     "output_type": "stream",
     "text": [
      "Epoch 1/10\n",
      "50/50 [==============================] - 24s 462ms/step - loss: 4.6083 - accuracy: 0.0306 - val_loss: 4.0545 - val_accuracy: 0.0662\n",
      "Epoch 2/10\n",
      "50/50 [==============================] - 24s 477ms/step - loss: 3.8503 - accuracy: 0.0925 - val_loss: 3.3119 - val_accuracy: 0.1675\n",
      "Epoch 3/10\n",
      "50/50 [==============================] - 23s 450ms/step - loss: 3.2707 - accuracy: 0.1531 - val_loss: 2.7573 - val_accuracy: 0.2288\n",
      "Epoch 4/10\n",
      "50/50 [==============================] - 23s 460ms/step - loss: 2.7320 - accuracy: 0.2637 - val_loss: 1.9733 - val_accuracy: 0.5063\n",
      "Epoch 5/10\n",
      "50/50 [==============================] - 23s 450ms/step - loss: 2.2522 - accuracy: 0.3381 - val_loss: 1.6915 - val_accuracy: 0.5150\n",
      "Epoch 6/10\n",
      "50/50 [==============================] - 22s 437ms/step - loss: 1.8836 - accuracy: 0.4338 - val_loss: 1.5990 - val_accuracy: 0.4737\n",
      "Epoch 7/10\n",
      "50/50 [==============================] - 22s 437ms/step - loss: 1.6157 - accuracy: 0.5013 - val_loss: 1.2543 - val_accuracy: 0.6200\n",
      "Epoch 8/10\n",
      "50/50 [==============================] - 22s 440ms/step - loss: 1.4356 - accuracy: 0.5663 - val_loss: 0.8965 - val_accuracy: 0.7613\n",
      "Epoch 9/10\n",
      "50/50 [==============================] - 21s 422ms/step - loss: 1.2576 - accuracy: 0.6087 - val_loss: 0.8816 - val_accuracy: 0.7462\n",
      "Epoch 10/10\n",
      "50/50 [==============================] - 22s 428ms/step - loss: 1.0857 - accuracy: 0.6475 - val_loss: 0.6828 - val_accuracy: 0.7950\n"
     ]
    }
   ],
   "source": [
    "# model eğitilecek, train\n",
    "hist = model.fit_generator(\n",
    "    generator = train_generator,\n",
    "    # train için buna göre resim üretir\n",
    "    steps_per_epoch = 1600 // batch_size, # 1 epoch'da yapılması gereken batch sayısı\n",
    "    epochs = 10, # bütün resimler ve yaratılan resimlerin hepsi, 10 kez train edilecek\n",
    "    validation_data = test_generator,\n",
    "    validation_steps = 800 // batch_size # test için buna göre resim üretir\n",
    ")"
   ]
  },
  {
   "cell_type": "markdown",
   "id": "a4e5f8ba",
   "metadata": {
    "papermill": {
     "duration": 0.036192,
     "end_time": "2023-10-03T08:00:52.037853",
     "exception": false,
     "start_time": "2023-10-03T08:00:52.001661",
     "status": "completed"
    },
    "tags": []
   },
   "source": [
    "* ImageDataGenerator, farklı farklı resimleri orijinallerinden üretecek\n",
    "* 1600 // batch_size = 50\n",
    "* bir epoch'da yapılması gereken batch sayısı steps_per_epoch = 1600 // batch_size\n",
    "* yani bir epoch boyunca 50 kez veri train edilir, eğitilir."
   ]
  },
  {
   "cell_type": "markdown",
   "id": "282e8720",
   "metadata": {
    "papermill": {
     "duration": 0.032519,
     "end_time": "2023-10-03T08:00:52.103240",
     "exception": false,
     "start_time": "2023-10-03T08:00:52.070721",
     "status": "completed"
    },
    "tags": []
   },
   "source": [
    "* 400 tane resmim var, batch_size 32\n",
    "* tüm veri kaç seferde train edilir 400 // 32 = 12\n",
    "* ilk 32 resim, 32, 32... 12x32=400\n",
    "* 12 seferde tüm resimler train edilir"
   ]
  },
  {
   "cell_type": "markdown",
   "id": "5982fa57",
   "metadata": {
    "papermill": {
     "duration": 0.033132,
     "end_time": "2023-10-03T08:00:52.169213",
     "exception": false,
     "start_time": "2023-10-03T08:00:52.136081",
     "status": "completed"
    },
    "tags": []
   },
   "source": [
    "* ImageDataGenerator kaç tane resim üretir?\n",
    "* steps_per_epoch = 1600 // batch_size = 50"
   ]
  },
  {
   "cell_type": "markdown",
   "id": "51c7972e",
   "metadata": {
    "papermill": {
     "duration": 0.032736,
     "end_time": "2023-10-03T08:00:52.235901",
     "exception": false,
     "start_time": "2023-10-03T08:00:52.203165",
     "status": "completed"
    },
    "tags": []
   },
   "source": [
    "* normal veri, 12 seferde 32'lik paketleri 1 epoch'da train edilir"
   ]
  },
  {
   "cell_type": "markdown",
   "id": "b7f86d31",
   "metadata": {
    "papermill": {
     "duration": 0.032736,
     "end_time": "2023-10-03T08:00:52.301704",
     "exception": false,
     "start_time": "2023-10-03T08:00:52.268968",
     "status": "completed"
    },
    "tags": []
   },
   "source": [
    "* 1 epoch'da yapılması gereken batch sayısı: steps_per_epoch = 1600 // batch_size = 50\n",
    "* 50*32 = 1600 tane resim lazım 400 tane var 1600-400=1200 tane \n",
    "* ImageDataGenerator 1600-400=1200 tane resim üretir"
   ]
  },
  {
   "cell_type": "code",
   "execution_count": 18,
   "id": "560faf0f",
   "metadata": {
    "execution": {
     "iopub.execute_input": "2023-10-03T08:00:52.371103Z",
     "iopub.status.busy": "2023-10-03T08:00:52.369893Z",
     "iopub.status.idle": "2023-10-03T08:00:52.444650Z",
     "shell.execute_reply": "2023-10-03T08:00:52.443474Z"
    },
    "papermill": {
     "duration": 0.11161,
     "end_time": "2023-10-03T08:00:52.447192",
     "exception": false,
     "start_time": "2023-10-03T08:00:52.335582",
     "status": "completed"
    },
    "tags": []
   },
   "outputs": [],
   "source": [
    "# modeli kaydet\n",
    "model.save_weights(\"model.h5\")"
   ]
  },
  {
   "cell_type": "code",
   "execution_count": 19,
   "id": "d0ce4b3c",
   "metadata": {
    "execution": {
     "iopub.execute_input": "2023-10-03T08:00:52.514796Z",
     "iopub.status.busy": "2023-10-03T08:00:52.514467Z",
     "iopub.status.idle": "2023-10-03T08:00:52.518919Z",
     "shell.execute_reply": "2023-10-03T08:00:52.518244Z"
    },
    "papermill": {
     "duration": 0.040616,
     "end_time": "2023-10-03T08:00:52.520945",
     "exception": false,
     "start_time": "2023-10-03T08:00:52.480329",
     "status": "completed"
    },
    "tags": []
   },
   "outputs": [
    {
     "name": "stdout",
     "output_type": "stream",
     "text": [
      "dict_keys(['loss', 'accuracy', 'val_loss', 'val_accuracy'])\n"
     ]
    }
   ],
   "source": [
    "print(hist.history.keys())"
   ]
  },
  {
   "cell_type": "code",
   "execution_count": 20,
   "id": "b7fa0205",
   "metadata": {
    "execution": {
     "iopub.execute_input": "2023-10-03T08:00:52.588814Z",
     "iopub.status.busy": "2023-10-03T08:00:52.587817Z",
     "iopub.status.idle": "2023-10-03T08:00:52.592059Z",
     "shell.execute_reply": "2023-10-03T08:00:52.591254Z"
    },
    "papermill": {
     "duration": 0.040131,
     "end_time": "2023-10-03T08:00:52.593982",
     "exception": false,
     "start_time": "2023-10-03T08:00:52.553851",
     "status": "completed"
    },
    "tags": []
   },
   "outputs": [],
   "source": [
    "# elde ettiğimiz verileri görselleştireceğiz"
   ]
  },
  {
   "cell_type": "code",
   "execution_count": 21,
   "id": "344f8cb0",
   "metadata": {
    "execution": {
     "iopub.execute_input": "2023-10-03T08:00:52.662628Z",
     "iopub.status.busy": "2023-10-03T08:00:52.662268Z",
     "iopub.status.idle": "2023-10-03T08:00:52.920118Z",
     "shell.execute_reply": "2023-10-03T08:00:52.918997Z"
    },
    "papermill": {
     "duration": 0.294228,
     "end_time": "2023-10-03T08:00:52.922078",
     "exception": false,
     "start_time": "2023-10-03T08:00:52.627850",
     "status": "completed"
    },
    "tags": []
   },
   "outputs": [
    {
     "data": {
      "image/png": "[encoded data removed]",
      "text/plain": [
       "<Figure size 640x480 with 1 Axes>"
      ]
     },
     "metadata": {},
     "output_type": "display_data"
    }
   ],
   "source": [
    "# Loss\n",
    "plt.plot(hist.history[\"loss\"], label = \"Train Loss\")\n",
    "plt.plot(hist.history[\"val_loss\"], label = \"Validation Loss\")\n",
    "plt.legend() # label'ların görünmesi için\n",
    "plt.show()"
   ]
  },
  {
   "cell_type": "code",
   "execution_count": 22,
   "id": "0e9531a0",
   "metadata": {
    "execution": {
     "iopub.execute_input": "2023-10-03T08:00:52.992497Z",
     "iopub.status.busy": "2023-10-03T08:00:52.991424Z",
     "iopub.status.idle": "2023-10-03T08:00:53.233894Z",
     "shell.execute_reply": "2023-10-03T08:00:53.232826Z"
    },
    "papermill": {
     "duration": 0.279868,
     "end_time": "2023-10-03T08:00:53.235850",
     "exception": false,
     "start_time": "2023-10-03T08:00:52.955982",
     "status": "completed"
    },
    "tags": []
   },
   "outputs": [
    {
     "data": {
      "image/png": "[encoded data removed]",
      "text/plain": [
       "<Figure size 640x480 with 1 Axes>"
      ]
     },
     "metadata": {},
     "output_type": "display_data"
    }
   ],
   "source": [
    "# Accuracy\n",
    "plt.plot(hist.history[\"accuracy\"], label = \"Train Accuracy\")\n",
    "plt.plot(hist.history[\"val_accuracy\"], label = \"Validation Accuracy\")\n",
    "plt.legend() # label'ların görünmesi için\n",
    "plt.show()"
   ]
  },
  {
   "cell_type": "code",
   "execution_count": 23,
   "id": "865f3844",
   "metadata": {
    "execution": {
     "iopub.execute_input": "2023-10-03T08:00:53.306530Z",
     "iopub.status.busy": "2023-10-03T08:00:53.306162Z",
     "iopub.status.idle": "2023-10-03T08:00:53.310805Z",
     "shell.execute_reply": "2023-10-03T08:00:53.310158Z"
    },
    "papermill": {
     "duration": 0.042217,
     "end_time": "2023-10-03T08:00:53.312640",
     "exception": false,
     "start_time": "2023-10-03T08:00:53.270423",
     "status": "completed"
    },
    "tags": []
   },
   "outputs": [],
   "source": [
    "# history kaydet\n",
    "import json \n",
    "with open(\"hist.json\", \"w\") as f:\n",
    "    json.dump(hist.history, f)"
   ]
  },
  {
   "cell_type": "code",
   "execution_count": 24,
   "id": "44fb936b",
   "metadata": {
    "execution": {
     "iopub.execute_input": "2023-10-03T08:00:53.383920Z",
     "iopub.status.busy": "2023-10-03T08:00:53.383533Z",
     "iopub.status.idle": "2023-10-03T08:00:53.901309Z",
     "shell.execute_reply": "2023-10-03T08:00:53.900240Z"
    },
    "papermill": {
     "duration": 0.555327,
     "end_time": "2023-10-03T08:00:53.903293",
     "exception": false,
     "start_time": "2023-10-03T08:00:53.347966",
     "status": "completed"
    },
    "tags": []
   },
   "outputs": [
    {
     "data": {
      "image/png": "[encoded data removed]",
      "text/plain": [
       "<Figure size 640x480 with 1 Axes>"
      ]
     },
     "metadata": {},
     "output_type": "display_data"
    },
    {
     "data": {
      "image/png": "[encoded data removed]",
      "text/plain": [
       "<Figure size 640x480 with 1 Axes>"
      ]
     },
     "metadata": {},
     "output_type": "display_data"
    }
   ],
   "source": [
    "# history yükle\n",
    "import codecs\n",
    "with codecs.open(\"hist.json\",\"r\", encoding =\"utf-8\") as f:\n",
    "    h = json.loads(f.read())\n",
    "\n",
    "# görselleştir\n",
    "# Loss\n",
    "plt.figure()\n",
    "plt.plot(h[\"loss\"], label = \"Train Loss\")\n",
    "plt.plot(h[\"val_loss\"], label = \"Validation Loss\")\n",
    "plt.legend() # label'ların görünmesi için\n",
    "plt.show()\n",
    "\n",
    "# Accuracy\n",
    "plt.figure()\n",
    "plt.plot(h[\"accuracy\"], label = \"Train Accuracy\")\n",
    "plt.plot(h[\"val_accuracy\"], label = \"Validation Accuracy\")\n",
    "plt.legend() # label'ların görünmesi için\n",
    "plt.show()"
   ]
  },
  {
   "cell_type": "markdown",
   "id": "c25560f8",
   "metadata": {
    "papermill": {
     "duration": 0.035957,
     "end_time": "2023-10-03T08:00:53.975197",
     "exception": false,
     "start_time": "2023-10-03T08:00:53.939240",
     "status": "completed"
    },
    "tags": []
   },
   "source": [
    "* epoch sayısı arttıkça yani train sayısı arttıkça loss giderek azalır.\n",
    "* epoch sayısı arttıkça yani train sayısı arttıkça accuracy artar. "
   ]
  },
  {
   "cell_type": "code",
   "execution_count": null,
   "id": "989a499e",
   "metadata": {
    "papermill": {
     "duration": 0.035879,
     "end_time": "2023-10-03T08:00:54.047790",
     "exception": false,
     "start_time": "2023-10-03T08:00:54.011911",
     "status": "completed"
    },
    "tags": []
   },
   "outputs": [],
   "source": []
  },
  {
   "cell_type": "code",
   "execution_count": null,
   "id": "f3df7fc8",
   "metadata": {
    "papermill": {
     "duration": 0.035185,
     "end_time": "2023-10-03T08:00:54.118770",
     "exception": false,
     "start_time": "2023-10-03T08:00:54.083585",
     "status": "completed"
    },
    "tags": []
   },
   "outputs": [],
   "source": []
  }
 ],
 "metadata": {
  "kernelspec": {
   "display_name": "Python 3",
   "language": "python",
   "name": "python3"
  },
  "language_info": {
   "codemirror_mode": {
    "name": "ipython",
    "version": 3
   },
   "file_extension": ".py",
   "mimetype": "text/x-python",
   "name": "python",
   "nbconvert_exporter": "python",
   "pygments_lexer": "ipython3",
   "version": "3.10.12"
  },
  "papermill": {
   "default_parameters": {},
   "duration": 421.026836,
   "end_time": "2023-10-03T08:00:55.778334",
   "environment_variables": {},
   "exception": null,
   "input_path": "__notebook__.ipynb",
   "output_path": "__notebook__.ipynb",
   "parameters": {},
   "start_time": "2023-10-03T07:53:54.751498",
   "version": "2.4.0"
  }
 },
 "nbformat": 4,
 "nbformat_minor": 5
}
